{
  "cells": [
    {
      "cell_type": "markdown",
      "metadata": {
        "id": "view-in-github",
        "colab_type": "text"
      },
      "source": [
        "<a href=\"https://colab.research.google.com/github/mananayde/Python_Project/blob/main/ElecVehicles_(1).ipynb\" target=\"_parent\"><img src=\"https://colab.research.google.com/assets/colab-badge.svg\" alt=\"Open In Colab\"/></a>"
      ]
    },
    {
      "cell_type": "code",
      "source": [
        "pip install geopandas"
      ],
      "metadata": {
        "colab": {
          "base_uri": "https://localhost:8080/"
        },
        "id": "mrtR09lKPYXo",
        "outputId": "97f8f7b6-066e-45a3-b762-c2ae2d598744"
      },
      "execution_count": null,
      "outputs": [
        {
          "output_type": "stream",
          "name": "stdout",
          "text": [
            "Looking in indexes: https://pypi.org/simple, https://us-python.pkg.dev/colab-wheels/public/simple/\n",
            "Collecting geopandas\n",
            "  Downloading geopandas-0.13.2-py3-none-any.whl (1.1 MB)\n",
            "\u001b[2K     \u001b[90m━━━━━━━━━━━━━━━━━━━━━━━━━━━━━━━━━━━━━━━━\u001b[0m \u001b[32m1.1/1.1 MB\u001b[0m \u001b[31m37.4 MB/s\u001b[0m eta \u001b[36m0:00:00\u001b[0m\n",
            "\u001b[?25hCollecting fiona>=1.8.19 (from geopandas)\n",
            "  Downloading Fiona-1.9.4.post1-cp310-cp310-manylinux_2_17_x86_64.manylinux2014_x86_64.whl (16.4 MB)\n",
            "\u001b[2K     \u001b[90m━━━━━━━━━━━━━━━━━━━━━━━━━━━━━━━━━━━━━━━━\u001b[0m \u001b[32m16.4/16.4 MB\u001b[0m \u001b[31m95.5 MB/s\u001b[0m eta \u001b[36m0:00:00\u001b[0m\n",
            "\u001b[?25hRequirement already satisfied: packaging in /usr/local/lib/python3.10/dist-packages (from geopandas) (23.1)\n",
            "Requirement already satisfied: pandas>=1.1.0 in /usr/local/lib/python3.10/dist-packages (from geopandas) (1.5.3)\n",
            "Collecting pyproj>=3.0.1 (from geopandas)\n",
            "  Downloading pyproj-3.5.0-cp310-cp310-manylinux_2_17_x86_64.manylinux2014_x86_64.whl (7.7 MB)\n",
            "\u001b[2K     \u001b[90m━━━━━━━━━━━━━━━━━━━━━━━━━━━━━━━━━━━━━━━━\u001b[0m \u001b[32m7.7/7.7 MB\u001b[0m \u001b[31m104.3 MB/s\u001b[0m eta \u001b[36m0:00:00\u001b[0m\n",
            "\u001b[?25hRequirement already satisfied: shapely>=1.7.1 in /usr/local/lib/python3.10/dist-packages (from geopandas) (2.0.1)\n",
            "Requirement already satisfied: attrs>=19.2.0 in /usr/local/lib/python3.10/dist-packages (from fiona>=1.8.19->geopandas) (23.1.0)\n",
            "Requirement already satisfied: certifi in /usr/local/lib/python3.10/dist-packages (from fiona>=1.8.19->geopandas) (2022.12.7)\n",
            "Requirement already satisfied: click~=8.0 in /usr/local/lib/python3.10/dist-packages (from fiona>=1.8.19->geopandas) (8.1.3)\n",
            "Collecting click-plugins>=1.0 (from fiona>=1.8.19->geopandas)\n",
            "  Downloading click_plugins-1.1.1-py2.py3-none-any.whl (7.5 kB)\n",
            "Collecting cligj>=0.5 (from fiona>=1.8.19->geopandas)\n",
            "  Downloading cligj-0.7.2-py3-none-any.whl (7.1 kB)\n",
            "Requirement already satisfied: six in /usr/local/lib/python3.10/dist-packages (from fiona>=1.8.19->geopandas) (1.16.0)\n",
            "Requirement already satisfied: python-dateutil>=2.8.1 in /usr/local/lib/python3.10/dist-packages (from pandas>=1.1.0->geopandas) (2.8.2)\n",
            "Requirement already satisfied: pytz>=2020.1 in /usr/local/lib/python3.10/dist-packages (from pandas>=1.1.0->geopandas) (2022.7.1)\n",
            "Requirement already satisfied: numpy>=1.21.0 in /usr/local/lib/python3.10/dist-packages (from pandas>=1.1.0->geopandas) (1.22.4)\n",
            "Installing collected packages: pyproj, cligj, click-plugins, fiona, geopandas\n",
            "Successfully installed click-plugins-1.1.1 cligj-0.7.2 fiona-1.9.4.post1 geopandas-0.13.2 pyproj-3.5.0\n"
          ]
        }
      ]
    },
    {
      "cell_type": "code",
      "execution_count": null,
      "metadata": {
        "id": "zetsQjGIJxQT"
      },
      "outputs": [],
      "source": [
        "import pandas as pd\n",
        "import numpy as np\n",
        "\n",
        "# visualization libraries\n",
        "import matplotlib.pyplot as plt\n",
        "import seaborn as sns\n",
        "%matplotlib inline\n",
        "# for scientific and statistical computing\n",
        "import scipy as sp\n",
        "#To make working with geospatial data in python easier\n",
        "from shapely.geometry import Point\n",
        "import geopandas as gpd\n",
        "from geopandas import GeoDataFrame\n",
        "\n",
        "plt.style.use('ggplot')\n",
        "\n"
      ]
    },
    {
      "cell_type": "markdown",
      "metadata": {
        "id": "tJ4MbJQjJxQV"
      },
      "source": [
        "# Data Loading, Exploration & Wrangling\n",
        "\n",
        "We will proceed as follow:\n",
        "1. Load the csv file with the pandas\n",
        "2. Creating the dataframe and understanding the data present in the dataset\n",
        "3. Dealing with the missing data and the incorrect records"
      ]
    },
    {
      "cell_type": "code",
      "source": [
        "from google.colab import files\n",
        "uploaded = files.upload()"
      ],
      "metadata": {
        "colab": {
          "base_uri": "https://localhost:8080/",
          "height": 71
        },
        "id": "KdavpUhGQSdt",
        "outputId": "0a20effc-991f-46ba-94a4-a1b2009d1be6"
      },
      "execution_count": null,
      "outputs": [
        {
          "output_type": "display_data",
          "data": {
            "text/plain": [
              "<IPython.core.display.HTML object>"
            ],
            "text/html": [
              "\n",
              "     <input type=\"file\" id=\"files-bb2eb294-b885-439a-9761-8c5ec354b47b\" name=\"files[]\" multiple disabled\n",
              "        style=\"border:none\" />\n",
              "     <output id=\"result-bb2eb294-b885-439a-9761-8c5ec354b47b\">\n",
              "      Upload widget is only available when the cell has been executed in the\n",
              "      current browser session. Please rerun this cell to enable.\n",
              "      </output>\n",
              "      <script>// Copyright 2017 Google LLC\n",
              "//\n",
              "// Licensed under the Apache License, Version 2.0 (the \"License\");\n",
              "// you may not use this file except in compliance with the License.\n",
              "// You may obtain a copy of the License at\n",
              "//\n",
              "//      http://www.apache.org/licenses/LICENSE-2.0\n",
              "//\n",
              "// Unless required by applicable law or agreed to in writing, software\n",
              "// distributed under the License is distributed on an \"AS IS\" BASIS,\n",
              "// WITHOUT WARRANTIES OR CONDITIONS OF ANY KIND, either express or implied.\n",
              "// See the License for the specific language governing permissions and\n",
              "// limitations under the License.\n",
              "\n",
              "/**\n",
              " * @fileoverview Helpers for google.colab Python module.\n",
              " */\n",
              "(function(scope) {\n",
              "function span(text, styleAttributes = {}) {\n",
              "  const element = document.createElement('span');\n",
              "  element.textContent = text;\n",
              "  for (const key of Object.keys(styleAttributes)) {\n",
              "    element.style[key] = styleAttributes[key];\n",
              "  }\n",
              "  return element;\n",
              "}\n",
              "\n",
              "// Max number of bytes which will be uploaded at a time.\n",
              "const MAX_PAYLOAD_SIZE = 100 * 1024;\n",
              "\n",
              "function _uploadFiles(inputId, outputId) {\n",
              "  const steps = uploadFilesStep(inputId, outputId);\n",
              "  const outputElement = document.getElementById(outputId);\n",
              "  // Cache steps on the outputElement to make it available for the next call\n",
              "  // to uploadFilesContinue from Python.\n",
              "  outputElement.steps = steps;\n",
              "\n",
              "  return _uploadFilesContinue(outputId);\n",
              "}\n",
              "\n",
              "// This is roughly an async generator (not supported in the browser yet),\n",
              "// where there are multiple asynchronous steps and the Python side is going\n",
              "// to poll for completion of each step.\n",
              "// This uses a Promise to block the python side on completion of each step,\n",
              "// then passes the result of the previous step as the input to the next step.\n",
              "function _uploadFilesContinue(outputId) {\n",
              "  const outputElement = document.getElementById(outputId);\n",
              "  const steps = outputElement.steps;\n",
              "\n",
              "  const next = steps.next(outputElement.lastPromiseValue);\n",
              "  return Promise.resolve(next.value.promise).then((value) => {\n",
              "    // Cache the last promise value to make it available to the next\n",
              "    // step of the generator.\n",
              "    outputElement.lastPromiseValue = value;\n",
              "    return next.value.response;\n",
              "  });\n",
              "}\n",
              "\n",
              "/**\n",
              " * Generator function which is called between each async step of the upload\n",
              " * process.\n",
              " * @param {string} inputId Element ID of the input file picker element.\n",
              " * @param {string} outputId Element ID of the output display.\n",
              " * @return {!Iterable<!Object>} Iterable of next steps.\n",
              " */\n",
              "function* uploadFilesStep(inputId, outputId) {\n",
              "  const inputElement = document.getElementById(inputId);\n",
              "  inputElement.disabled = false;\n",
              "\n",
              "  const outputElement = document.getElementById(outputId);\n",
              "  outputElement.innerHTML = '';\n",
              "\n",
              "  const pickedPromise = new Promise((resolve) => {\n",
              "    inputElement.addEventListener('change', (e) => {\n",
              "      resolve(e.target.files);\n",
              "    });\n",
              "  });\n",
              "\n",
              "  const cancel = document.createElement('button');\n",
              "  inputElement.parentElement.appendChild(cancel);\n",
              "  cancel.textContent = 'Cancel upload';\n",
              "  const cancelPromise = new Promise((resolve) => {\n",
              "    cancel.onclick = () => {\n",
              "      resolve(null);\n",
              "    };\n",
              "  });\n",
              "\n",
              "  // Wait for the user to pick the files.\n",
              "  const files = yield {\n",
              "    promise: Promise.race([pickedPromise, cancelPromise]),\n",
              "    response: {\n",
              "      action: 'starting',\n",
              "    }\n",
              "  };\n",
              "\n",
              "  cancel.remove();\n",
              "\n",
              "  // Disable the input element since further picks are not allowed.\n",
              "  inputElement.disabled = true;\n",
              "\n",
              "  if (!files) {\n",
              "    return {\n",
              "      response: {\n",
              "        action: 'complete',\n",
              "      }\n",
              "    };\n",
              "  }\n",
              "\n",
              "  for (const file of files) {\n",
              "    const li = document.createElement('li');\n",
              "    li.append(span(file.name, {fontWeight: 'bold'}));\n",
              "    li.append(span(\n",
              "        `(${file.type || 'n/a'}) - ${file.size} bytes, ` +\n",
              "        `last modified: ${\n",
              "            file.lastModifiedDate ? file.lastModifiedDate.toLocaleDateString() :\n",
              "                                    'n/a'} - `));\n",
              "    const percent = span('0% done');\n",
              "    li.appendChild(percent);\n",
              "\n",
              "    outputElement.appendChild(li);\n",
              "\n",
              "    const fileDataPromise = new Promise((resolve) => {\n",
              "      const reader = new FileReader();\n",
              "      reader.onload = (e) => {\n",
              "        resolve(e.target.result);\n",
              "      };\n",
              "      reader.readAsArrayBuffer(file);\n",
              "    });\n",
              "    // Wait for the data to be ready.\n",
              "    let fileData = yield {\n",
              "      promise: fileDataPromise,\n",
              "      response: {\n",
              "        action: 'continue',\n",
              "      }\n",
              "    };\n",
              "\n",
              "    // Use a chunked sending to avoid message size limits. See b/62115660.\n",
              "    let position = 0;\n",
              "    do {\n",
              "      const length = Math.min(fileData.byteLength - position, MAX_PAYLOAD_SIZE);\n",
              "      const chunk = new Uint8Array(fileData, position, length);\n",
              "      position += length;\n",
              "\n",
              "      const base64 = btoa(String.fromCharCode.apply(null, chunk));\n",
              "      yield {\n",
              "        response: {\n",
              "          action: 'append',\n",
              "          file: file.name,\n",
              "          data: base64,\n",
              "        },\n",
              "      };\n",
              "\n",
              "      let percentDone = fileData.byteLength === 0 ?\n",
              "          100 :\n",
              "          Math.round((position / fileData.byteLength) * 100);\n",
              "      percent.textContent = `${percentDone}% done`;\n",
              "\n",
              "    } while (position < fileData.byteLength);\n",
              "  }\n",
              "\n",
              "  // All done.\n",
              "  yield {\n",
              "    response: {\n",
              "      action: 'complete',\n",
              "    }\n",
              "  };\n",
              "}\n",
              "\n",
              "scope.google = scope.google || {};\n",
              "scope.google.colab = scope.google.colab || {};\n",
              "scope.google.colab._files = {\n",
              "  _uploadFiles,\n",
              "  _uploadFilesContinue,\n",
              "};\n",
              "})(self);\n",
              "</script> "
            ]
          },
          "metadata": {}
        },
        {
          "output_type": "stream",
          "name": "stdout",
          "text": [
            "Saving Electric_Vehicle_Population.csv to Electric_Vehicle_Population.csv\n"
          ]
        }
      ]
    },
    {
      "cell_type": "code",
      "execution_count": null,
      "metadata": {
        "id": "0iWdIp7CJxQV"
      },
      "outputs": [],
      "source": [
        "# Load dataset Telco_Churn\n",
        "df = pd.read_csv(\"Electric_Vehicle_Population.csv\")"
      ]
    },
    {
      "cell_type": "markdown",
      "metadata": {
        "id": "f2PtjtIaJxQW"
      },
      "source": [
        "### Analysing & describing the dataset\n",
        "\n",
        "This code snippet helps us to get a complete overview of our data by adjusting a key display setting in Pandas.\n",
        "By setting the option to show all columns, you can ensure that no valuable information is overlooked when working with dataframes. \n",
        "Whether you're exploring data, conducting analyses or simply trying to get a better sense of your data, this simple line of code can make a big difference."
      ]
    },
    {
      "cell_type": "code",
      "execution_count": null,
      "metadata": {
        "id": "0HeODbZlJxQW"
      },
      "outputs": [],
      "source": [
        "pd.set_option('display.max_columns', None)"
      ]
    },
    {
      "cell_type": "markdown",
      "metadata": {
        "id": "e2BowQeaJxQW"
      },
      "source": [
        "### Get a sneak peek of our data\n",
        "With just a single line of code! Quickly view the top rows of your dataset to get a sense of what you're working with, without having to scroll through the entire file."
      ]
    },
    {
      "cell_type": "code",
      "execution_count": null,
      "metadata": {
        "colab": {
          "base_uri": "https://localhost:8080/",
          "height": 206
        },
        "id": "UfbrV-vwJxQX",
        "outputId": "5dfeb881-ac64-4bc2-8d6d-9cd12454d261"
      },
      "outputs": [
        {
          "output_type": "execute_result",
          "data": {
            "text/plain": [
              "   VIN (1-10)     County       City State  Postal Code  Model Year    Make  \\\n",
              "0  3MW5P9J05N   Arapahoe  Englewood    CO      80111.0        2022     BMW   \n",
              "1  5YJXCBE27J     Island  Greenbank    WA      98253.0        2018   TESLA   \n",
              "2  1N4AZ0CP3F      Kings    Lemoore    CA      93245.0        2015  NISSAN   \n",
              "3  5YJ3E1EA8J  San Diego  Oceanside    CA      92051.0        2018   TESLA   \n",
              "4  5YJ3E1EB1K    Alameda   Berkeley    CA      94710.0        2019   TESLA   \n",
              "\n",
              "     Model                   Electric Vehicle Type  \\\n",
              "0     330E  Plug-in Hybrid Electric Vehicle (PHEV)   \n",
              "1  MODEL X          Battery Electric Vehicle (BEV)   \n",
              "2     LEAF          Battery Electric Vehicle (BEV)   \n",
              "3  MODEL 3          Battery Electric Vehicle (BEV)   \n",
              "4  MODEL 3          Battery Electric Vehicle (BEV)   \n",
              "\n",
              "  Clean Alternative Fuel Vehicle (CAFV) Eligibility  Electric Range  \\\n",
              "0             Not eligible due to low battery range              22   \n",
              "1           Clean Alternative Fuel Vehicle Eligible             238   \n",
              "2           Clean Alternative Fuel Vehicle Eligible              84   \n",
              "3           Clean Alternative Fuel Vehicle Eligible             215   \n",
              "4           Clean Alternative Fuel Vehicle Eligible             220   \n",
              "\n",
              "   Base MSRP  Legislative District  DOL Vehicle ID  \\\n",
              "0          0                   NaN       200589147   \n",
              "1          0                  10.0       326880081   \n",
              "2          0                   NaN       182237457   \n",
              "3          0                   NaN       153998050   \n",
              "4          0                   NaN       320914072   \n",
              "\n",
              "                Vehicle Location Electric Utility  2020 Census Tract  \n",
              "0    POINT (-104.89239 39.61914)              NaN       8.005007e+09  \n",
              "1   POINT (-122.575569 48.08489)              NaN       5.302997e+10  \n",
              "2    POINT (-119.78637 36.30101)              NaN       6.031980e+09  \n",
              "3                            NaN              NaN       6.073019e+09  \n",
              "4  POINT (-122.300531 37.869271)              NaN       6.001423e+09  "
            ],
            "text/html": [
              "\n",
              "  <div id=\"df-25ae47fe-2d4a-482a-87e2-e8eea0ee548a\">\n",
              "    <div class=\"colab-df-container\">\n",
              "      <div>\n",
              "<style scoped>\n",
              "    .dataframe tbody tr th:only-of-type {\n",
              "        vertical-align: middle;\n",
              "    }\n",
              "\n",
              "    .dataframe tbody tr th {\n",
              "        vertical-align: top;\n",
              "    }\n",
              "\n",
              "    .dataframe thead th {\n",
              "        text-align: right;\n",
              "    }\n",
              "</style>\n",
              "<table border=\"1\" class=\"dataframe\">\n",
              "  <thead>\n",
              "    <tr style=\"text-align: right;\">\n",
              "      <th></th>\n",
              "      <th>VIN (1-10)</th>\n",
              "      <th>County</th>\n",
              "      <th>City</th>\n",
              "      <th>State</th>\n",
              "      <th>Postal Code</th>\n",
              "      <th>Model Year</th>\n",
              "      <th>Make</th>\n",
              "      <th>Model</th>\n",
              "      <th>Electric Vehicle Type</th>\n",
              "      <th>Clean Alternative Fuel Vehicle (CAFV) Eligibility</th>\n",
              "      <th>Electric Range</th>\n",
              "      <th>Base MSRP</th>\n",
              "      <th>Legislative District</th>\n",
              "      <th>DOL Vehicle ID</th>\n",
              "      <th>Vehicle Location</th>\n",
              "      <th>Electric Utility</th>\n",
              "      <th>2020 Census Tract</th>\n",
              "    </tr>\n",
              "  </thead>\n",
              "  <tbody>\n",
              "    <tr>\n",
              "      <th>0</th>\n",
              "      <td>3MW5P9J05N</td>\n",
              "      <td>Arapahoe</td>\n",
              "      <td>Englewood</td>\n",
              "      <td>CO</td>\n",
              "      <td>80111.0</td>\n",
              "      <td>2022</td>\n",
              "      <td>BMW</td>\n",
              "      <td>330E</td>\n",
              "      <td>Plug-in Hybrid Electric Vehicle (PHEV)</td>\n",
              "      <td>Not eligible due to low battery range</td>\n",
              "      <td>22</td>\n",
              "      <td>0</td>\n",
              "      <td>NaN</td>\n",
              "      <td>200589147</td>\n",
              "      <td>POINT (-104.89239 39.61914)</td>\n",
              "      <td>NaN</td>\n",
              "      <td>8.005007e+09</td>\n",
              "    </tr>\n",
              "    <tr>\n",
              "      <th>1</th>\n",
              "      <td>5YJXCBE27J</td>\n",
              "      <td>Island</td>\n",
              "      <td>Greenbank</td>\n",
              "      <td>WA</td>\n",
              "      <td>98253.0</td>\n",
              "      <td>2018</td>\n",
              "      <td>TESLA</td>\n",
              "      <td>MODEL X</td>\n",
              "      <td>Battery Electric Vehicle (BEV)</td>\n",
              "      <td>Clean Alternative Fuel Vehicle Eligible</td>\n",
              "      <td>238</td>\n",
              "      <td>0</td>\n",
              "      <td>10.0</td>\n",
              "      <td>326880081</td>\n",
              "      <td>POINT (-122.575569 48.08489)</td>\n",
              "      <td>NaN</td>\n",
              "      <td>5.302997e+10</td>\n",
              "    </tr>\n",
              "    <tr>\n",
              "      <th>2</th>\n",
              "      <td>1N4AZ0CP3F</td>\n",
              "      <td>Kings</td>\n",
              "      <td>Lemoore</td>\n",
              "      <td>CA</td>\n",
              "      <td>93245.0</td>\n",
              "      <td>2015</td>\n",
              "      <td>NISSAN</td>\n",
              "      <td>LEAF</td>\n",
              "      <td>Battery Electric Vehicle (BEV)</td>\n",
              "      <td>Clean Alternative Fuel Vehicle Eligible</td>\n",
              "      <td>84</td>\n",
              "      <td>0</td>\n",
              "      <td>NaN</td>\n",
              "      <td>182237457</td>\n",
              "      <td>POINT (-119.78637 36.30101)</td>\n",
              "      <td>NaN</td>\n",
              "      <td>6.031980e+09</td>\n",
              "    </tr>\n",
              "    <tr>\n",
              "      <th>3</th>\n",
              "      <td>5YJ3E1EA8J</td>\n",
              "      <td>San Diego</td>\n",
              "      <td>Oceanside</td>\n",
              "      <td>CA</td>\n",
              "      <td>92051.0</td>\n",
              "      <td>2018</td>\n",
              "      <td>TESLA</td>\n",
              "      <td>MODEL 3</td>\n",
              "      <td>Battery Electric Vehicle (BEV)</td>\n",
              "      <td>Clean Alternative Fuel Vehicle Eligible</td>\n",
              "      <td>215</td>\n",
              "      <td>0</td>\n",
              "      <td>NaN</td>\n",
              "      <td>153998050</td>\n",
              "      <td>NaN</td>\n",
              "      <td>NaN</td>\n",
              "      <td>6.073019e+09</td>\n",
              "    </tr>\n",
              "    <tr>\n",
              "      <th>4</th>\n",
              "      <td>5YJ3E1EB1K</td>\n",
              "      <td>Alameda</td>\n",
              "      <td>Berkeley</td>\n",
              "      <td>CA</td>\n",
              "      <td>94710.0</td>\n",
              "      <td>2019</td>\n",
              "      <td>TESLA</td>\n",
              "      <td>MODEL 3</td>\n",
              "      <td>Battery Electric Vehicle (BEV)</td>\n",
              "      <td>Clean Alternative Fuel Vehicle Eligible</td>\n",
              "      <td>220</td>\n",
              "      <td>0</td>\n",
              "      <td>NaN</td>\n",
              "      <td>320914072</td>\n",
              "      <td>POINT (-122.300531 37.869271)</td>\n",
              "      <td>NaN</td>\n",
              "      <td>6.001423e+09</td>\n",
              "    </tr>\n",
              "  </tbody>\n",
              "</table>\n",
              "</div>\n",
              "      <button class=\"colab-df-convert\" onclick=\"convertToInteractive('df-25ae47fe-2d4a-482a-87e2-e8eea0ee548a')\"\n",
              "              title=\"Convert this dataframe to an interactive table.\"\n",
              "              style=\"display:none;\">\n",
              "        \n",
              "  <svg xmlns=\"http://www.w3.org/2000/svg\" height=\"24px\"viewBox=\"0 0 24 24\"\n",
              "       width=\"24px\">\n",
              "    <path d=\"M0 0h24v24H0V0z\" fill=\"none\"/>\n",
              "    <path d=\"M18.56 5.44l.94 2.06.94-2.06 2.06-.94-2.06-.94-.94-2.06-.94 2.06-2.06.94zm-11 1L8.5 8.5l.94-2.06 2.06-.94-2.06-.94L8.5 2.5l-.94 2.06-2.06.94zm10 10l.94 2.06.94-2.06 2.06-.94-2.06-.94-.94-2.06-.94 2.06-2.06.94z\"/><path d=\"M17.41 7.96l-1.37-1.37c-.4-.4-.92-.59-1.43-.59-.52 0-1.04.2-1.43.59L10.3 9.45l-7.72 7.72c-.78.78-.78 2.05 0 2.83L4 21.41c.39.39.9.59 1.41.59.51 0 1.02-.2 1.41-.59l7.78-7.78 2.81-2.81c.8-.78.8-2.07 0-2.86zM5.41 20L4 18.59l7.72-7.72 1.47 1.35L5.41 20z\"/>\n",
              "  </svg>\n",
              "      </button>\n",
              "      \n",
              "  <style>\n",
              "    .colab-df-container {\n",
              "      display:flex;\n",
              "      flex-wrap:wrap;\n",
              "      gap: 12px;\n",
              "    }\n",
              "\n",
              "    .colab-df-convert {\n",
              "      background-color: #E8F0FE;\n",
              "      border: none;\n",
              "      border-radius: 50%;\n",
              "      cursor: pointer;\n",
              "      display: none;\n",
              "      fill: #1967D2;\n",
              "      height: 32px;\n",
              "      padding: 0 0 0 0;\n",
              "      width: 32px;\n",
              "    }\n",
              "\n",
              "    .colab-df-convert:hover {\n",
              "      background-color: #E2EBFA;\n",
              "      box-shadow: 0px 1px 2px rgba(60, 64, 67, 0.3), 0px 1px 3px 1px rgba(60, 64, 67, 0.15);\n",
              "      fill: #174EA6;\n",
              "    }\n",
              "\n",
              "    [theme=dark] .colab-df-convert {\n",
              "      background-color: #3B4455;\n",
              "      fill: #D2E3FC;\n",
              "    }\n",
              "\n",
              "    [theme=dark] .colab-df-convert:hover {\n",
              "      background-color: #434B5C;\n",
              "      box-shadow: 0px 1px 3px 1px rgba(0, 0, 0, 0.15);\n",
              "      filter: drop-shadow(0px 1px 2px rgba(0, 0, 0, 0.3));\n",
              "      fill: #FFFFFF;\n",
              "    }\n",
              "  </style>\n",
              "\n",
              "      <script>\n",
              "        const buttonEl =\n",
              "          document.querySelector('#df-25ae47fe-2d4a-482a-87e2-e8eea0ee548a button.colab-df-convert');\n",
              "        buttonEl.style.display =\n",
              "          google.colab.kernel.accessAllowed ? 'block' : 'none';\n",
              "\n",
              "        async function convertToInteractive(key) {\n",
              "          const element = document.querySelector('#df-25ae47fe-2d4a-482a-87e2-e8eea0ee548a');\n",
              "          const dataTable =\n",
              "            await google.colab.kernel.invokeFunction('convertToInteractive',\n",
              "                                                     [key], {});\n",
              "          if (!dataTable) return;\n",
              "\n",
              "          const docLinkHtml = 'Like what you see? Visit the ' +\n",
              "            '<a target=\"_blank\" href=https://colab.research.google.com/notebooks/data_table.ipynb>data table notebook</a>'\n",
              "            + ' to learn more about interactive tables.';\n",
              "          element.innerHTML = '';\n",
              "          dataTable['output_type'] = 'display_data';\n",
              "          await google.colab.output.renderOutput(dataTable, element);\n",
              "          const docLink = document.createElement('div');\n",
              "          docLink.innerHTML = docLinkHtml;\n",
              "          element.appendChild(docLink);\n",
              "        }\n",
              "      </script>\n",
              "    </div>\n",
              "  </div>\n",
              "  "
            ]
          },
          "metadata": {},
          "execution_count": 8
        }
      ],
      "source": [
        "df.head(5)"
      ]
    },
    {
      "cell_type": "markdown",
      "metadata": {
        "id": "Fo__gwrVJxQX"
      },
      "source": [
        "### View the column names"
      ]
    },
    {
      "cell_type": "code",
      "execution_count": null,
      "metadata": {
        "colab": {
          "base_uri": "https://localhost:8080/"
        },
        "id": "qR7enclSJxQY",
        "outputId": "18bab23f-cb87-4a25-9c11-3e5183ce2309"
      },
      "outputs": [
        {
          "output_type": "execute_result",
          "data": {
            "text/plain": [
              "Index(['VIN (1-10)', 'County', 'City', 'State', 'Postal Code', 'Model Year',\n",
              "       'Make', 'Model', 'Electric Vehicle Type',\n",
              "       'Clean Alternative Fuel Vehicle (CAFV) Eligibility', 'Electric Range',\n",
              "       'Base MSRP', 'Legislative District', 'DOL Vehicle ID',\n",
              "       'Vehicle Location', 'Electric Utility', '2020 Census Tract'],\n",
              "      dtype='object')"
            ]
          },
          "metadata": {},
          "execution_count": 9
        }
      ],
      "source": [
        "df.columns.unique()"
      ]
    },
    {
      "cell_type": "markdown",
      "metadata": {
        "id": "n-hxAxLlJxQY"
      },
      "source": [
        "### View the shape of the dataset"
      ]
    },
    {
      "cell_type": "code",
      "execution_count": null,
      "metadata": {
        "colab": {
          "base_uri": "https://localhost:8080/"
        },
        "id": "_oeEKcTpJxQY",
        "outputId": "94ac5565-e83d-4e4b-b031-ec21df678608"
      },
      "outputs": [
        {
          "output_type": "execute_result",
          "data": {
            "text/plain": [
              "(109481, 17)"
            ]
          },
          "metadata": {},
          "execution_count": 10
        }
      ],
      "source": [
        "df.shape"
      ]
    },
    {
      "cell_type": "markdown",
      "metadata": {
        "id": "N1BPlWiKJxQY"
      },
      "source": [
        "\n",
        "### Observation Number 1\n",
        "\n",
        "Upon initial viewing of the data, it has come to our attention towards the relevance or irrelavnce of particular columns:\n",
        "\n",
        "1. VIN (1-10): It is a unique identifier or index. \n",
        "2. Postal Code: is stored as float format., we need to convert that into integer\n",
        "3. Base MSRP: The lowest Manufacturer's Suggested Retail Price (MSRP), a very important column however we need to see the health of this column if it has been populated or not\n",
        "4. Model Year, Make, Model: are already all presented by decoding the VIN (1-10) id., \n",
        "5. Electric Utility: represents Electric Retail Services. | represnets service provider from same vendors, || service provider from multiple vendors, Blank represents Not Available\n",
        "6. Few column names are with spaces. We will rename these columns:\n",
        "   1. Postal Code\n",
        "   2. Model Year\n",
        "   3. Electric Vehicle Type\n",
        "   4. Clean Alternative Fuel Vehicle (CAFV) Eligibility\n",
        "   5. Electric Range\n",
        "   6. Base MSRP\n",
        "   7. Legislative District\n",
        "   8. DOL Vehicle ID\n",
        "   9. Vehicle Location\n",
        "   10. Electric Utility\n",
        "   11. 2020 Census Tract\n",
        "   \n",
        "\n",
        "We Can present the information stored in the Electric Utility: |, || and blank as:\\\n",
        "However, before any renaming. We will see the health of the attribute in terms of NULL values\n",
        "- Single Type Utility\n",
        "- Multi type Utility\n",
        "- Not Available\n",
        "  \n",
        "These columns may be purged at later stage of this analysis (if required)\n",
        "- Base MSRP\n",
        "- Legislative District"
      ]
    },
    {
      "cell_type": "code",
      "execution_count": null,
      "metadata": {
        "colab": {
          "base_uri": "https://localhost:8080/"
        },
        "id": "Z60oHJyyJxQZ",
        "outputId": "a23e969d-6e79-4e67-9f1c-23aea754bc37"
      },
      "outputs": [
        {
          "output_type": "stream",
          "name": "stdout",
          "text": [
            "<class 'pandas.core.frame.DataFrame'>\n",
            "RangeIndex: 109481 entries, 0 to 109480\n",
            "Data columns (total 17 columns):\n",
            " #   Column                                             Non-Null Count   Dtype  \n",
            "---  ------                                             --------------   -----  \n",
            " 0   VIN (1-10)                                         109481 non-null  object \n",
            " 1   County                                             109480 non-null  object \n",
            " 2   City                                               109480 non-null  object \n",
            " 3   State                                              109481 non-null  object \n",
            " 4   Postal Code                                        109480 non-null  float64\n",
            " 5   Model Year                                         109481 non-null  int64  \n",
            " 6   Make                                               109481 non-null  object \n",
            " 7   Model                                              109474 non-null  object \n",
            " 8   Electric Vehicle Type                              109481 non-null  object \n",
            " 9   Clean Alternative Fuel Vehicle (CAFV) Eligibility  109481 non-null  object \n",
            " 10  Electric Range                                     109481 non-null  int64  \n",
            " 11  Base MSRP                                          109481 non-null  int64  \n",
            " 12  Legislative District                               109205 non-null  float64\n",
            " 13  DOL Vehicle ID                                     109481 non-null  int64  \n",
            " 14  Vehicle Location                                   109456 non-null  object \n",
            " 15  Electric Utility                                   109053 non-null  object \n",
            " 16  2020 Census Tract                                  109480 non-null  float64\n",
            "dtypes: float64(3), int64(4), object(10)\n",
            "memory usage: 14.2+ MB\n"
          ]
        }
      ],
      "source": [
        "df.info()"
      ]
    },
    {
      "cell_type": "markdown",
      "metadata": {
        "id": "KURwvvewJxQZ"
      },
      "source": [
        "### Descriptive Statistics\n",
        "We use descriptive statistics to summarize and understand the key features of dataset."
      ]
    },
    {
      "cell_type": "code",
      "execution_count": null,
      "metadata": {
        "colab": {
          "base_uri": "https://localhost:8080/",
          "height": 301
        },
        "id": "WtHqfrdmJxQZ",
        "outputId": "f8b2f6da-45c4-428f-935c-691f5b66d313"
      },
      "outputs": [
        {
          "output_type": "execute_result",
          "data": {
            "text/plain": [
              "<pandas.io.formats.style.Styler at 0x7f6004eff340>"
            ],
            "text/html": [
              "<style type=\"text/css\">\n",
              "#T_e24b4_row0_col0, #T_e24b4_row0_col1, #T_e24b4_row0_col2, #T_e24b4_row0_col4, #T_e24b4_row7_col3, #T_e24b4_row7_col5, #T_e24b4_row7_col6 {\n",
              "  background-color: #00441b;\n",
              "  color: #f1f1f1;\n",
              "}\n",
              "#T_e24b4_row0_col3 {\n",
              "  background-color: #e4f5df;\n",
              "  color: #000000;\n",
              "}\n",
              "#T_e24b4_row0_col5, #T_e24b4_row0_col6, #T_e24b4_row1_col2, #T_e24b4_row1_col3, #T_e24b4_row1_col4, #T_e24b4_row2_col1, #T_e24b4_row2_col2, #T_e24b4_row2_col4, #T_e24b4_row3_col0, #T_e24b4_row3_col2, #T_e24b4_row3_col3, #T_e24b4_row3_col4, #T_e24b4_row3_col5, #T_e24b4_row4_col2, #T_e24b4_row4_col3, #T_e24b4_row4_col4, #T_e24b4_row5_col2, #T_e24b4_row5_col3, #T_e24b4_row5_col4, #T_e24b4_row6_col2, #T_e24b4_row6_col3, #T_e24b4_row6_col4, #T_e24b4_row7_col2, #T_e24b4_row7_col4 {\n",
              "  background-color: #f7fcf5;\n",
              "  color: #000000;\n",
              "}\n",
              "#T_e24b4_row1_col0, #T_e24b4_row5_col0, #T_e24b4_row6_col0 {\n",
              "  background-color: #006529;\n",
              "  color: #f1f1f1;\n",
              "}\n",
              "#T_e24b4_row1_col1, #T_e24b4_row3_col1, #T_e24b4_row4_col1, #T_e24b4_row5_col1, #T_e24b4_row6_col1, #T_e24b4_row7_col1 {\n",
              "  background-color: #f5fbf2;\n",
              "  color: #000000;\n",
              "}\n",
              "#T_e24b4_row1_col5 {\n",
              "  background-color: #92d28f;\n",
              "  color: #000000;\n",
              "}\n",
              "#T_e24b4_row1_col6 {\n",
              "  background-color: #005622;\n",
              "  color: #f1f1f1;\n",
              "}\n",
              "#T_e24b4_row2_col0 {\n",
              "  background-color: #f6fcf4;\n",
              "  color: #000000;\n",
              "}\n",
              "#T_e24b4_row2_col3 {\n",
              "  background-color: #f5fbf3;\n",
              "  color: #000000;\n",
              "}\n",
              "#T_e24b4_row2_col5 {\n",
              "  background-color: #d3eecd;\n",
              "  color: #000000;\n",
              "}\n",
              "#T_e24b4_row2_col6 {\n",
              "  background-color: #f3faf0;\n",
              "  color: #000000;\n",
              "}\n",
              "#T_e24b4_row3_col6 {\n",
              "  background-color: #f4fbf2;\n",
              "  color: #000000;\n",
              "}\n",
              "#T_e24b4_row4_col0 {\n",
              "  background-color: #006729;\n",
              "  color: #f1f1f1;\n",
              "}\n",
              "#T_e24b4_row4_col5 {\n",
              "  background-color: #b6e2af;\n",
              "  color: #000000;\n",
              "}\n",
              "#T_e24b4_row4_col6, #T_e24b4_row5_col6, #T_e24b4_row6_col6 {\n",
              "  background-color: #005522;\n",
              "  color: #f1f1f1;\n",
              "}\n",
              "#T_e24b4_row5_col5 {\n",
              "  background-color: #9bd696;\n",
              "  color: #000000;\n",
              "}\n",
              "#T_e24b4_row6_col5 {\n",
              "  background-color: #86cc85;\n",
              "  color: #000000;\n",
              "}\n",
              "#T_e24b4_row7_col0 {\n",
              "  background-color: #006227;\n",
              "  color: #f1f1f1;\n",
              "}\n",
              "</style>\n",
              "<table id=\"T_e24b4\" class=\"dataframe\">\n",
              "  <thead>\n",
              "    <tr>\n",
              "      <th class=\"blank level0\" >&nbsp;</th>\n",
              "      <th id=\"T_e24b4_level0_col0\" class=\"col_heading level0 col0\" >Postal Code</th>\n",
              "      <th id=\"T_e24b4_level0_col1\" class=\"col_heading level0 col1\" >Model Year</th>\n",
              "      <th id=\"T_e24b4_level0_col2\" class=\"col_heading level0 col2\" >Electric Range</th>\n",
              "      <th id=\"T_e24b4_level0_col3\" class=\"col_heading level0 col3\" >Base MSRP</th>\n",
              "      <th id=\"T_e24b4_level0_col4\" class=\"col_heading level0 col4\" >Legislative District</th>\n",
              "      <th id=\"T_e24b4_level0_col5\" class=\"col_heading level0 col5\" >DOL Vehicle ID</th>\n",
              "      <th id=\"T_e24b4_level0_col6\" class=\"col_heading level0 col6\" >2020 Census Tract</th>\n",
              "    </tr>\n",
              "  </thead>\n",
              "  <tbody>\n",
              "    <tr>\n",
              "      <th id=\"T_e24b4_level0_row0\" class=\"row_heading level0 row0\" >count</th>\n",
              "      <td id=\"T_e24b4_row0_col0\" class=\"data row0 col0\" >109480.000000</td>\n",
              "      <td id=\"T_e24b4_row0_col1\" class=\"data row0 col1\" >109481.000000</td>\n",
              "      <td id=\"T_e24b4_row0_col2\" class=\"data row0 col2\" >109481.000000</td>\n",
              "      <td id=\"T_e24b4_row0_col3\" class=\"data row0 col3\" >109481.000000</td>\n",
              "      <td id=\"T_e24b4_row0_col4\" class=\"data row0 col4\" >109205.000000</td>\n",
              "      <td id=\"T_e24b4_row0_col5\" class=\"data row0 col5\" >109481.000000</td>\n",
              "      <td id=\"T_e24b4_row0_col6\" class=\"data row0 col6\" >109480.000000</td>\n",
              "    </tr>\n",
              "    <tr>\n",
              "      <th id=\"T_e24b4_level0_row1\" class=\"row_heading level0 row1\" >mean</th>\n",
              "      <td id=\"T_e24b4_row1_col0\" class=\"data row1 col0\" >98157.012943</td>\n",
              "      <td id=\"T_e24b4_row1_col1\" class=\"data row1 col1\" >2018.899197</td>\n",
              "      <td id=\"T_e24b4_row1_col2\" class=\"data row1 col2\" >90.211425</td>\n",
              "      <td id=\"T_e24b4_row1_col3\" class=\"data row1 col3\" >1849.194609</td>\n",
              "      <td id=\"T_e24b4_row1_col4\" class=\"data row1 col4\" >29.824120</td>\n",
              "      <td id=\"T_e24b4_row1_col5\" class=\"data row1 col5\" >198447551.859601</td>\n",
              "      <td id=\"T_e24b4_row1_col6\" class=\"data row1 col6\" >52968493402.103012</td>\n",
              "    </tr>\n",
              "    <tr>\n",
              "      <th id=\"T_e24b4_level0_row2\" class=\"row_heading level0 row2\" >std</th>\n",
              "      <td id=\"T_e24b4_row2_col0\" class=\"data row2 col0\" >2640.605503</td>\n",
              "      <td id=\"T_e24b4_row2_col1\" class=\"data row2 col1\" >2.872853</td>\n",
              "      <td id=\"T_e24b4_row2_col2\" class=\"data row2 col2\" >102.575715</td>\n",
              "      <td id=\"T_e24b4_row2_col3\" class=\"data row2 col3\" >10946.085012</td>\n",
              "      <td id=\"T_e24b4_row2_col4\" class=\"data row2 col4\" >14.679959</td>\n",
              "      <td id=\"T_e24b4_row2_col5\" class=\"data row2 col5\" >95617186.541589</td>\n",
              "      <td id=\"T_e24b4_row2_col6\" class=\"data row2 col6\" >1675103687.859588</td>\n",
              "    </tr>\n",
              "    <tr>\n",
              "      <th id=\"T_e24b4_level0_row3\" class=\"row_heading level0 row3\" >min</th>\n",
              "      <td id=\"T_e24b4_row3_col0\" class=\"data row3 col0\" >1730.000000</td>\n",
              "      <td id=\"T_e24b4_row3_col1\" class=\"data row3 col1\" >1997.000000</td>\n",
              "      <td id=\"T_e24b4_row3_col2\" class=\"data row3 col2\" >0.000000</td>\n",
              "      <td id=\"T_e24b4_row3_col3\" class=\"data row3 col3\" >0.000000</td>\n",
              "      <td id=\"T_e24b4_row3_col4\" class=\"data row3 col4\" >1.000000</td>\n",
              "      <td id=\"T_e24b4_row3_col5\" class=\"data row3 col5\" >4777.000000</td>\n",
              "      <td id=\"T_e24b4_row3_col6\" class=\"data row3 col6\" >1101001400.000000</td>\n",
              "    </tr>\n",
              "    <tr>\n",
              "      <th id=\"T_e24b4_level0_row4\" class=\"row_heading level0 row4\" >25%</th>\n",
              "      <td id=\"T_e24b4_row4_col0\" class=\"data row4 col0\" >98052.000000</td>\n",
              "      <td id=\"T_e24b4_row4_col1\" class=\"data row4 col1\" >2017.000000</td>\n",
              "      <td id=\"T_e24b4_row4_col2\" class=\"data row4 col2\" >0.000000</td>\n",
              "      <td id=\"T_e24b4_row4_col3\" class=\"data row4 col3\" >0.000000</td>\n",
              "      <td id=\"T_e24b4_row4_col4\" class=\"data row4 col4\" >18.000000</td>\n",
              "      <td id=\"T_e24b4_row4_col5\" class=\"data row4 col5\" >146731322.000000</td>\n",
              "      <td id=\"T_e24b4_row4_col6\" class=\"data row4 col6\" >53033008500.000000</td>\n",
              "    </tr>\n",
              "    <tr>\n",
              "      <th id=\"T_e24b4_level0_row5\" class=\"row_heading level0 row5\" >50%</th>\n",
              "      <td id=\"T_e24b4_row5_col0\" class=\"data row5 col0\" >98121.000000</td>\n",
              "      <td id=\"T_e24b4_row5_col1\" class=\"data row5 col1\" >2019.000000</td>\n",
              "      <td id=\"T_e24b4_row5_col2\" class=\"data row5 col2\" >35.000000</td>\n",
              "      <td id=\"T_e24b4_row5_col3\" class=\"data row5 col3\" >0.000000</td>\n",
              "      <td id=\"T_e24b4_row5_col4\" class=\"data row5 col4\" >34.000000</td>\n",
              "      <td id=\"T_e24b4_row5_col5\" class=\"data row5 col5\" >187411808.000000</td>\n",
              "      <td id=\"T_e24b4_row5_col6\" class=\"data row5 col6\" >53033029304.000000</td>\n",
              "    </tr>\n",
              "    <tr>\n",
              "      <th id=\"T_e24b4_level0_row6\" class=\"row_heading level0 row6\" >75%</th>\n",
              "      <td id=\"T_e24b4_row6_col0\" class=\"data row6 col0\" >98370.000000</td>\n",
              "      <td id=\"T_e24b4_row6_col1\" class=\"data row6 col1\" >2021.000000</td>\n",
              "      <td id=\"T_e24b4_row6_col2\" class=\"data row6 col2\" >208.000000</td>\n",
              "      <td id=\"T_e24b4_row6_col3\" class=\"data row6 col3\" >0.000000</td>\n",
              "      <td id=\"T_e24b4_row6_col4\" class=\"data row6 col4\" >43.000000</td>\n",
              "      <td id=\"T_e24b4_row6_col5\" class=\"data row6 col5\" >216917571.000000</td>\n",
              "      <td id=\"T_e24b4_row6_col6\" class=\"data row6 col6\" >53053072506.000000</td>\n",
              "    </tr>\n",
              "    <tr>\n",
              "      <th id=\"T_e24b4_level0_row7\" class=\"row_heading level0 row7\" >max</th>\n",
              "      <td id=\"T_e24b4_row7_col0\" class=\"data row7 col0\" >99701.000000</td>\n",
              "      <td id=\"T_e24b4_row7_col1\" class=\"data row7 col1\" >2023.000000</td>\n",
              "      <td id=\"T_e24b4_row7_col2\" class=\"data row7 col2\" >337.000000</td>\n",
              "      <td id=\"T_e24b4_row7_col3\" class=\"data row7 col3\" >845000.000000</td>\n",
              "      <td id=\"T_e24b4_row7_col4\" class=\"data row7 col4\" >49.000000</td>\n",
              "      <td id=\"T_e24b4_row7_col5\" class=\"data row7 col5\" >479254772.000000</td>\n",
              "      <td id=\"T_e24b4_row7_col6\" class=\"data row7 col6\" >56033000100.000000</td>\n",
              "    </tr>\n",
              "  </tbody>\n",
              "</table>\n"
            ]
          },
          "metadata": {},
          "execution_count": 12
        }
      ],
      "source": [
        "df.describe().style.background_gradient(cmap='Greens')"
      ]
    },
    {
      "cell_type": "markdown",
      "metadata": {
        "id": "G2GCnsfiJxQZ"
      },
      "source": [
        "### Missing values in the data"
      ]
    },
    {
      "cell_type": "code",
      "execution_count": null,
      "metadata": {
        "colab": {
          "base_uri": "https://localhost:8080/"
        },
        "id": "Xvc9U7KSJxQZ",
        "outputId": "bf5f2da2-814f-49aa-f58b-38a43c014d36"
      },
      "outputs": [
        {
          "output_type": "execute_result",
          "data": {
            "text/plain": [
              "Electric Utility                                     428\n",
              "Legislative District                                 276\n",
              "Vehicle Location                                      25\n",
              "Model                                                  7\n",
              "2020 Census Tract                                      1\n",
              "City                                                   1\n",
              "Postal Code                                            1\n",
              "County                                                 1\n",
              "Base MSRP                                              0\n",
              "DOL Vehicle ID                                         0\n",
              "VIN (1-10)                                             0\n",
              "Electric Range                                         0\n",
              "Clean Alternative Fuel Vehicle (CAFV) Eligibility      0\n",
              "Make                                                   0\n",
              "Model Year                                             0\n",
              "State                                                  0\n",
              "Electric Vehicle Type                                  0\n",
              "dtype: int64"
            ]
          },
          "metadata": {},
          "execution_count": 13
        }
      ],
      "source": [
        "df.isnull().sum().sort_values(ascending = False) #Count of null values in descending order"
      ]
    },
    {
      "cell_type": "markdown",
      "metadata": {
        "id": "fdoG8lGqJxQa"
      },
      "source": [
        "## **Exploratory Analysis and Visualization**"
      ]
    },
    {
      "cell_type": "code",
      "execution_count": null,
      "metadata": {
        "colab": {
          "base_uri": "https://localhost:8080/",
          "height": 875
        },
        "id": "NHn2e-6ZJxQa",
        "outputId": "eda72fbd-37f8-470d-9c81-8b7e5ba06a01"
      },
      "outputs": [
        {
          "output_type": "execute_result",
          "data": {
            "text/plain": [
              "Text(0.5, 1.0, 'Missing null values')"
            ]
          },
          "metadata": {},
          "execution_count": 14
        },
        {
          "output_type": "display_data",
          "data": {
            "text/plain": [
              "<Figure size 1500x600 with 1 Axes>"
            ],
            "image/png": "[encoded data removed]"
          },
          "metadata": {}
        }
      ],
      "source": [
        "plt.rcParams['figure.figsize'] = (15,6)\n",
        "sns.heatmap(df.isnull(),yticklabels = False, cbar = False , cmap = 'viridis')\n",
        "plt.title(\"Missing null values\")"
      ]
    },
    {
      "cell_type": "markdown",
      "metadata": {
        "id": "Dr84N2PkJxQb"
      },
      "source": [
        "> **Figure-1:** Provide us the visual on the missing values in a dataframe 'df'"
      ]
    },
    {
      "cell_type": "code",
      "execution_count": null,
      "metadata": {
        "colab": {
          "base_uri": "https://localhost:8080/"
        },
        "id": "bTZNtMoiJxQb",
        "outputId": "07e8c126-2dc0-4003-e9d4-ddb65fa8b8b2"
      },
      "outputs": [
        {
          "output_type": "execute_result",
          "data": {
            "text/plain": [
              "Electric Utility                                     0.390935\n",
              "Legislative District                                 0.252099\n",
              "Vehicle Location                                     0.022835\n",
              "Model                                                0.006394\n",
              "2020 Census Tract                                    0.000913\n",
              "City                                                 0.000913\n",
              "Postal Code                                          0.000913\n",
              "County                                               0.000913\n",
              "Base MSRP                                            0.000000\n",
              "DOL Vehicle ID                                       0.000000\n",
              "VIN (1-10)                                           0.000000\n",
              "Electric Range                                       0.000000\n",
              "Clean Alternative Fuel Vehicle (CAFV) Eligibility    0.000000\n",
              "Make                                                 0.000000\n",
              "Model Year                                           0.000000\n",
              "State                                                0.000000\n",
              "Electric Vehicle Type                                0.000000\n",
              "dtype: float64"
            ]
          },
          "metadata": {},
          "execution_count": 15
        }
      ],
      "source": [
        "# #### Get a clearer picture of missing data with this nifty code snippet! See the percentage of null values in our dataset sorted in ascending order,\n",
        "# making it easy to identify which features have the most missing data.\n",
        "missing_percentage = (df.isnull().sum().sort_values(ascending = False)/len(df))*100\n",
        "missing_percentage"
      ]
    },
    {
      "cell_type": "markdown",
      "metadata": {
        "id": "NLQ-W6e_JxQb"
      },
      "source": [
        "### Observation Number 2\n",
        "\n",
        "> Dealing with the null values\n",
        "\n",
        "- Electric Utility: null values will be filled with text 'Utility Not Avalilable'\n",
        "- Legislative District: null values will be filled with text 'Unknown'\n",
        "- Vehicle Location: null values will be filled with text 'Unknown'\n",
        "- Model: null values will be filled with text 'Unknown'\n",
        "- 2020 Census Tract: null values will be filled with text 'Unknown'\n",
        "- City: null values will be filled with text 'Unknown'\n",
        "- Postal Code: null values will be filled with mean()\n",
        "- County: null values will be filled with text 'Unknown'"
      ]
    },
    {
      "cell_type": "code",
      "execution_count": null,
      "metadata": {
        "id": "Jp2cOja4JxQb"
      },
      "outputs": [],
      "source": [
        "df['Electric Utility'] = df['Electric Utility'].fillna('Utility Not Avalilable')\n",
        "df['Legislative District'] = df['Legislative District'].fillna('Unknown')\n",
        "df['Vehicle Location'] = df['Vehicle Location'].fillna('Unknown')\n",
        "df['Model'] = df['Model'].fillna('Unknown')\n",
        "df['2020 Census Tract'] = df['2020 Census Tract'].fillna('Unknown')\n",
        "df['City'] = df['City'].fillna('Unknown')\n",
        "\n",
        "# fill null values in the 'Postal Code' column with the mean salary\n",
        "mean_postcode = df['Postal Code'].mean()\n",
        "df['Postal Code'] = df['Postal Code'].fillna(mean_postcode)\n",
        "\n",
        "\n",
        "df['County'] = df['County'].fillna('Unknown')"
      ]
    },
    {
      "cell_type": "code",
      "execution_count": null,
      "metadata": {
        "colab": {
          "base_uri": "https://localhost:8080/"
        },
        "id": "_xmEjBa0JxQc",
        "outputId": "6a6633dc-596b-4958-ad70-06e005ea098c"
      },
      "outputs": [
        {
          "output_type": "execute_result",
          "data": {
            "text/plain": [
              "VIN (1-10)                                           0.0\n",
              "Clean Alternative Fuel Vehicle (CAFV) Eligibility    0.0\n",
              "Electric Utility                                     0.0\n",
              "Vehicle Location                                     0.0\n",
              "DOL Vehicle ID                                       0.0\n",
              "Legislative District                                 0.0\n",
              "Base MSRP                                            0.0\n",
              "Electric Range                                       0.0\n",
              "Electric Vehicle Type                                0.0\n",
              "County                                               0.0\n",
              "Model                                                0.0\n",
              "Make                                                 0.0\n",
              "Model Year                                           0.0\n",
              "Postal Code                                          0.0\n",
              "State                                                0.0\n",
              "City                                                 0.0\n",
              "2020 Census Tract                                    0.0\n",
              "dtype: float64"
            ]
          },
          "metadata": {},
          "execution_count": 17
        }
      ],
      "source": [
        "# #### Get a clearer picture of missing data with this nifty code snippet! See the percentage of null values in our dataset sorted in ascending order,\n",
        "# making it easy to identify which features have the most missing data.\n",
        "missing_percentage1 = (df.isnull().sum().sort_values(ascending = False)/len(df))*100 #Now all the missing values has been solved and converted into missing_percentage1\n",
        "missing_percentage1"
      ]
    },
    {
      "cell_type": "markdown",
      "metadata": {
        "id": "RV0PEp_ZJxQd"
      },
      "source": [
        "> As observed in Observation Number 1,  Postal Code: is stored as float format., we need to convert that into integer"
      ]
    },
    {
      "cell_type": "code",
      "execution_count": null,
      "metadata": {
        "id": "ZJ2VFUtlJxQd"
      },
      "outputs": [],
      "source": [
        "# convert the 'Postal Code ' attribute from float to integer\n",
        "df['Postal Code'] = df['Postal Code'].astype(int) "
      ]
    },
    {
      "cell_type": "code",
      "execution_count": null,
      "metadata": {
        "colab": {
          "base_uri": "https://localhost:8080/"
        },
        "id": "sW11qLaLJxQe",
        "outputId": "88f5b2f6-670d-418a-fd67-7acf6bf7322e"
      },
      "outputs": [
        {
          "output_type": "stream",
          "name": "stdout",
          "text": [
            "<class 'pandas.core.frame.DataFrame'>\n",
            "RangeIndex: 109481 entries, 0 to 109480\n",
            "Data columns (total 17 columns):\n",
            " #   Column                                             Non-Null Count   Dtype \n",
            "---  ------                                             --------------   ----- \n",
            " 0   VIN (1-10)                                         109481 non-null  object\n",
            " 1   County                                             109481 non-null  object\n",
            " 2   City                                               109481 non-null  object\n",
            " 3   State                                              109481 non-null  object\n",
            " 4   Postal Code                                        109481 non-null  int64 \n",
            " 5   Model Year                                         109481 non-null  int64 \n",
            " 6   Make                                               109481 non-null  object\n",
            " 7   Model                                              109481 non-null  object\n",
            " 8   Electric Vehicle Type                              109481 non-null  object\n",
            " 9   Clean Alternative Fuel Vehicle (CAFV) Eligibility  109481 non-null  object\n",
            " 10  Electric Range                                     109481 non-null  int64 \n",
            " 11  Base MSRP                                          109481 non-null  int64 \n",
            " 12  Legislative District                               109481 non-null  object\n",
            " 13  DOL Vehicle ID                                     109481 non-null  int64 \n",
            " 14  Vehicle Location                                   109481 non-null  object\n",
            " 15  Electric Utility                                   109481 non-null  object\n",
            " 16  2020 Census Tract                                  109481 non-null  object\n",
            "dtypes: int64(5), object(12)\n",
            "memory usage: 14.2+ MB\n"
          ]
        }
      ],
      "source": [
        "df.info() # postal code has been converted into int 64"
      ]
    },
    {
      "cell_type": "markdown",
      "metadata": {
        "id": "3A_iNc-ZJxQe"
      },
      "source": [
        "### Observation Number 3\n",
        "\n",
        "> Dealing with the column names with spaces in between them\n",
        "\n",
        "\n",
        "- Athough its not a critical issue, but for the ease of coding & readability., We will rename the following columns to remove any extra space in column names:\n",
        "  \n",
        "   1. Postal Code: PostalCode\n",
        "   2. Model Year: ModelYear\n",
        "   3. Electric Vehicle Type: Electric_Vehicle_Type\n",
        "   4. Clean Alternative Fuel Vehicle (CAFV) Eligibility: CAFV_Eligibility\n",
        "   5. Electric Range: Electric_Range\n",
        "   6. Base MSRP: Base_MSRP\n",
        "   7. Legislative District: Legislative_District\n",
        "   8. DOL Vehicle ID:DOL_Vehicle_ID\n",
        "   9. Vehicle Location: Vehicle_Location\n",
        "   10. Electric Utility: Electric_Utility\n",
        "   11. 2020 Census Tract : 2020_Census_Tract\n",
        "   12. VIN (1-10): VIN"
      ]
    },
    {
      "cell_type": "code",
      "execution_count": null,
      "metadata": {
        "colab": {
          "base_uri": "https://localhost:8080/"
        },
        "id": "cTAfaAQvJxQf",
        "outputId": "95ba86f7-035f-451b-ad73-5000e4bb601f"
      },
      "outputs": [
        {
          "output_type": "stream",
          "name": "stdout",
          "text": [
            "Index(['VIN', 'County', 'City', 'State', 'PostalCode', 'ModelYear', 'Make',\n",
            "       'Model', 'Electric_Vehicle_Type', 'CAFV_Eligibility', 'Electric_Range',\n",
            "       'Base_MSRP', 'Legislative_District', 'DOL_Vehicle_ID',\n",
            "       'Vehicle_Location', 'Electric_Utility', '2020_Census_Tract'],\n",
            "      dtype='object')\n"
          ]
        }
      ],
      "source": [
        "# rename columns \n",
        "df = df.rename(columns={'Postal Code': 'PostalCode', 'Model Year': 'ModelYear', 'Electric Vehicle Type': 'Electric_Vehicle_Type', \n",
        "                        'Clean Alternative Fuel Vehicle (CAFV) Eligibility': 'CAFV_Eligibility',\n",
        "                        'Electric Range':'Electric_Range', 'Base MSRP': 'Base_MSRP', 'Legislative District':'Legislative_District',\n",
        "                        'DOL Vehicle ID': 'DOL_Vehicle_ID',\n",
        "                        'Vehicle Location':'Vehicle_Location',\n",
        "                        'Electric Utility':'Electric_Utility',\n",
        "                        '2020 Census Tract':'2020_Census_Tract',\n",
        "                        'VIN (1-10)':'VIN'})\n",
        "print(df.columns)"
      ]
    },
    {
      "cell_type": "code",
      "execution_count": null,
      "metadata": {
        "colab": {
          "base_uri": "https://localhost:8080/"
        },
        "id": "ogkXeeUUJxQf",
        "outputId": "5c216c5c-79d6-45fd-9823-513ad97adcb6"
      },
      "outputs": [
        {
          "output_type": "execute_result",
          "data": {
            "text/plain": [
              "VIN                      0\n",
              "CAFV_Eligibility         0\n",
              "Electric_Utility         0\n",
              "Vehicle_Location         0\n",
              "DOL_Vehicle_ID           0\n",
              "Legislative_District     0\n",
              "Base_MSRP                0\n",
              "Electric_Range           0\n",
              "Electric_Vehicle_Type    0\n",
              "County                   0\n",
              "Model                    0\n",
              "Make                     0\n",
              "ModelYear                0\n",
              "PostalCode               0\n",
              "State                    0\n",
              "City                     0\n",
              "2020_Census_Tract        0\n",
              "dtype: int64"
            ]
          },
          "metadata": {},
          "execution_count": 21
        }
      ],
      "source": [
        "##have a view of refreshed dataset again\n",
        "df.isnull().sum().sort_values(ascending = False)"
      ]
    },
    {
      "cell_type": "markdown",
      "metadata": {
        "id": "TKUdbMeUJxQg"
      },
      "source": [
        "\n",
        "### Observation Number 4\n",
        "\n",
        "> We have a clean data set\n",
        "\n",
        "> Next, Find duplications and Analyse them if its a valid DUPLICATION"
      ]
    },
    {
      "cell_type": "code",
      "execution_count": null,
      "metadata": {
        "colab": {
          "base_uri": "https://localhost:8080/"
        },
        "id": "FzMfV9ydJxQl",
        "outputId": "cf401347-b7f8-45c8-f51a-484c67e854d5"
      },
      "outputs": [
        {
          "output_type": "execute_result",
          "data": {
            "text/plain": [
              "False"
            ]
          },
          "metadata": {},
          "execution_count": 22
        }
      ],
      "source": [
        "df.duplicated().any() #checks for duplicated rows in the entire DataFrame"
      ]
    },
    {
      "cell_type": "code",
      "execution_count": null,
      "metadata": {
        "colab": {
          "base_uri": "https://localhost:8080/"
        },
        "id": "4zPISqbsJxQm",
        "outputId": "f5cd9fea-c00e-4c42-c85d-15d4cb49b066"
      },
      "outputs": [
        {
          "output_type": "execute_result",
          "data": {
            "text/plain": [
              "Index(['VIN', 'County', 'City', 'State', 'PostalCode', 'ModelYear', 'Make',\n",
              "       'Model', 'Electric_Vehicle_Type', 'CAFV_Eligibility', 'Electric_Range',\n",
              "       'Base_MSRP', 'Legislative_District', 'DOL_Vehicle_ID',\n",
              "       'Vehicle_Location', 'Electric_Utility', '2020_Census_Tract'],\n",
              "      dtype='object')"
            ]
          },
          "metadata": {},
          "execution_count": 23
        }
      ],
      "source": [
        "df.columns.unique() #make sure if every column names are unique or not"
      ]
    },
    {
      "cell_type": "code",
      "execution_count": null,
      "metadata": {
        "id": "4zNuyu3mJxQ7"
      },
      "outputs": [],
      "source": [
        "any_duplicates = df.duplicated(subset=['VIN', 'County', 'City', 'State', 'PostalCode', 'ModelYear', 'Make', \n",
        "       'Model', 'Electric_Vehicle_Type', 'CAFV_Eligibility', 'Electric_Range',\n",
        "       'Base_MSRP', 'Legislative_District', 'DOL_Vehicle_ID',\n",
        "       'Vehicle_Location', 'Electric_Utility', '2020_Census_Tract']).any() #checks for duplicated rows based on a specific subset of columns."
      ]
    },
    {
      "cell_type": "code",
      "execution_count": null,
      "metadata": {
        "colab": {
          "base_uri": "https://localhost:8080/"
        },
        "id": "Ar8IJQBoJxQ7",
        "outputId": "27fd60ef-4986-44d8-c713-9c77711c860b"
      },
      "outputs": [
        {
          "output_type": "execute_result",
          "data": {
            "text/plain": [
              "False"
            ]
          },
          "metadata": {},
          "execution_count": 25
        }
      ],
      "source": [
        "any_duplicates"
      ]
    },
    {
      "cell_type": "markdown",
      "metadata": {
        "id": "x0MR2aBZJxQ8"
      },
      "source": [
        "### Observation Number 5\n",
        "\n",
        "> No duplication found"
      ]
    },
    {
      "cell_type": "code",
      "execution_count": null,
      "metadata": {
        "colab": {
          "base_uri": "https://localhost:8080/",
          "height": 301
        },
        "id": "jtNoroRIJxQ8",
        "outputId": "906f0855-1708-4b14-b77b-486e722e2ee0"
      },
      "outputs": [
        {
          "output_type": "execute_result",
          "data": {
            "text/plain": [
              "<pandas.io.formats.style.Styler at 0x7f600253b1f0>"
            ],
            "text/html": [
              "<style type=\"text/css\">\n",
              "#T_d5250_row0_col0, #T_d5250_row0_col1, #T_d5250_row0_col2, #T_d5250_row7_col3, #T_d5250_row7_col4 {\n",
              "  background-color: #00441b;\n",
              "  color: #f1f1f1;\n",
              "}\n",
              "#T_d5250_row0_col3 {\n",
              "  background-color: #e4f5df;\n",
              "  color: #000000;\n",
              "}\n",
              "#T_d5250_row0_col4, #T_d5250_row1_col2, #T_d5250_row1_col3, #T_d5250_row2_col1, #T_d5250_row2_col2, #T_d5250_row3_col0, #T_d5250_row3_col2, #T_d5250_row3_col3, #T_d5250_row3_col4, #T_d5250_row4_col2, #T_d5250_row4_col3, #T_d5250_row5_col2, #T_d5250_row5_col3, #T_d5250_row6_col2, #T_d5250_row6_col3, #T_d5250_row7_col2 {\n",
              "  background-color: #f7fcf5;\n",
              "  color: #000000;\n",
              "}\n",
              "#T_d5250_row1_col0, #T_d5250_row5_col0, #T_d5250_row6_col0 {\n",
              "  background-color: #006529;\n",
              "  color: #f1f1f1;\n",
              "}\n",
              "#T_d5250_row1_col1, #T_d5250_row3_col1, #T_d5250_row4_col1, #T_d5250_row5_col1, #T_d5250_row6_col1, #T_d5250_row7_col1 {\n",
              "  background-color: #f5fbf2;\n",
              "  color: #000000;\n",
              "}\n",
              "#T_d5250_row1_col4 {\n",
              "  background-color: #92d28f;\n",
              "  color: #000000;\n",
              "}\n",
              "#T_d5250_row2_col0 {\n",
              "  background-color: #f6fcf4;\n",
              "  color: #000000;\n",
              "}\n",
              "#T_d5250_row2_col3 {\n",
              "  background-color: #f5fbf3;\n",
              "  color: #000000;\n",
              "}\n",
              "#T_d5250_row2_col4 {\n",
              "  background-color: #d3eecd;\n",
              "  color: #000000;\n",
              "}\n",
              "#T_d5250_row4_col0 {\n",
              "  background-color: #006729;\n",
              "  color: #f1f1f1;\n",
              "}\n",
              "#T_d5250_row4_col4 {\n",
              "  background-color: #b6e2af;\n",
              "  color: #000000;\n",
              "}\n",
              "#T_d5250_row5_col4 {\n",
              "  background-color: #9bd696;\n",
              "  color: #000000;\n",
              "}\n",
              "#T_d5250_row6_col4 {\n",
              "  background-color: #86cc85;\n",
              "  color: #000000;\n",
              "}\n",
              "#T_d5250_row7_col0 {\n",
              "  background-color: #006227;\n",
              "  color: #f1f1f1;\n",
              "}\n",
              "</style>\n",
              "<table id=\"T_d5250\" class=\"dataframe\">\n",
              "  <thead>\n",
              "    <tr>\n",
              "      <th class=\"blank level0\" >&nbsp;</th>\n",
              "      <th id=\"T_d5250_level0_col0\" class=\"col_heading level0 col0\" >PostalCode</th>\n",
              "      <th id=\"T_d5250_level0_col1\" class=\"col_heading level0 col1\" >ModelYear</th>\n",
              "      <th id=\"T_d5250_level0_col2\" class=\"col_heading level0 col2\" >Electric_Range</th>\n",
              "      <th id=\"T_d5250_level0_col3\" class=\"col_heading level0 col3\" >Base_MSRP</th>\n",
              "      <th id=\"T_d5250_level0_col4\" class=\"col_heading level0 col4\" >DOL_Vehicle_ID</th>\n",
              "    </tr>\n",
              "  </thead>\n",
              "  <tbody>\n",
              "    <tr>\n",
              "      <th id=\"T_d5250_level0_row0\" class=\"row_heading level0 row0\" >count</th>\n",
              "      <td id=\"T_d5250_row0_col0\" class=\"data row0 col0\" >109481.000000</td>\n",
              "      <td id=\"T_d5250_row0_col1\" class=\"data row0 col1\" >109481.000000</td>\n",
              "      <td id=\"T_d5250_row0_col2\" class=\"data row0 col2\" >109481.000000</td>\n",
              "      <td id=\"T_d5250_row0_col3\" class=\"data row0 col3\" >109481.000000</td>\n",
              "      <td id=\"T_d5250_row0_col4\" class=\"data row0 col4\" >109481.000000</td>\n",
              "    </tr>\n",
              "    <tr>\n",
              "      <th id=\"T_d5250_level0_row1\" class=\"row_heading level0 row1\" >mean</th>\n",
              "      <td id=\"T_d5250_row1_col0\" class=\"data row1 col0\" >98157.012943</td>\n",
              "      <td id=\"T_d5250_row1_col1\" class=\"data row1 col1\" >2018.899197</td>\n",
              "      <td id=\"T_d5250_row1_col2\" class=\"data row1 col2\" >90.211425</td>\n",
              "      <td id=\"T_d5250_row1_col3\" class=\"data row1 col3\" >1849.194609</td>\n",
              "      <td id=\"T_d5250_row1_col4\" class=\"data row1 col4\" >198447551.859601</td>\n",
              "    </tr>\n",
              "    <tr>\n",
              "      <th id=\"T_d5250_level0_row2\" class=\"row_heading level0 row2\" >std</th>\n",
              "      <td id=\"T_d5250_row2_col0\" class=\"data row2 col0\" >2640.593443</td>\n",
              "      <td id=\"T_d5250_row2_col1\" class=\"data row2 col1\" >2.872853</td>\n",
              "      <td id=\"T_d5250_row2_col2\" class=\"data row2 col2\" >102.575715</td>\n",
              "      <td id=\"T_d5250_row2_col3\" class=\"data row2 col3\" >10946.085012</td>\n",
              "      <td id=\"T_d5250_row2_col4\" class=\"data row2 col4\" >95617186.541589</td>\n",
              "    </tr>\n",
              "    <tr>\n",
              "      <th id=\"T_d5250_level0_row3\" class=\"row_heading level0 row3\" >min</th>\n",
              "      <td id=\"T_d5250_row3_col0\" class=\"data row3 col0\" >1730.000000</td>\n",
              "      <td id=\"T_d5250_row3_col1\" class=\"data row3 col1\" >1997.000000</td>\n",
              "      <td id=\"T_d5250_row3_col2\" class=\"data row3 col2\" >0.000000</td>\n",
              "      <td id=\"T_d5250_row3_col3\" class=\"data row3 col3\" >0.000000</td>\n",
              "      <td id=\"T_d5250_row3_col4\" class=\"data row3 col4\" >4777.000000</td>\n",
              "    </tr>\n",
              "    <tr>\n",
              "      <th id=\"T_d5250_level0_row4\" class=\"row_heading level0 row4\" >25%</th>\n",
              "      <td id=\"T_d5250_row4_col0\" class=\"data row4 col0\" >98052.000000</td>\n",
              "      <td id=\"T_d5250_row4_col1\" class=\"data row4 col1\" >2017.000000</td>\n",
              "      <td id=\"T_d5250_row4_col2\" class=\"data row4 col2\" >0.000000</td>\n",
              "      <td id=\"T_d5250_row4_col3\" class=\"data row4 col3\" >0.000000</td>\n",
              "      <td id=\"T_d5250_row4_col4\" class=\"data row4 col4\" >146731322.000000</td>\n",
              "    </tr>\n",
              "    <tr>\n",
              "      <th id=\"T_d5250_level0_row5\" class=\"row_heading level0 row5\" >50%</th>\n",
              "      <td id=\"T_d5250_row5_col0\" class=\"data row5 col0\" >98121.000000</td>\n",
              "      <td id=\"T_d5250_row5_col1\" class=\"data row5 col1\" >2019.000000</td>\n",
              "      <td id=\"T_d5250_row5_col2\" class=\"data row5 col2\" >35.000000</td>\n",
              "      <td id=\"T_d5250_row5_col3\" class=\"data row5 col3\" >0.000000</td>\n",
              "      <td id=\"T_d5250_row5_col4\" class=\"data row5 col4\" >187411808.000000</td>\n",
              "    </tr>\n",
              "    <tr>\n",
              "      <th id=\"T_d5250_level0_row6\" class=\"row_heading level0 row6\" >75%</th>\n",
              "      <td id=\"T_d5250_row6_col0\" class=\"data row6 col0\" >98370.000000</td>\n",
              "      <td id=\"T_d5250_row6_col1\" class=\"data row6 col1\" >2021.000000</td>\n",
              "      <td id=\"T_d5250_row6_col2\" class=\"data row6 col2\" >208.000000</td>\n",
              "      <td id=\"T_d5250_row6_col3\" class=\"data row6 col3\" >0.000000</td>\n",
              "      <td id=\"T_d5250_row6_col4\" class=\"data row6 col4\" >216917571.000000</td>\n",
              "    </tr>\n",
              "    <tr>\n",
              "      <th id=\"T_d5250_level0_row7\" class=\"row_heading level0 row7\" >max</th>\n",
              "      <td id=\"T_d5250_row7_col0\" class=\"data row7 col0\" >99701.000000</td>\n",
              "      <td id=\"T_d5250_row7_col1\" class=\"data row7 col1\" >2023.000000</td>\n",
              "      <td id=\"T_d5250_row7_col2\" class=\"data row7 col2\" >337.000000</td>\n",
              "      <td id=\"T_d5250_row7_col3\" class=\"data row7 col3\" >845000.000000</td>\n",
              "      <td id=\"T_d5250_row7_col4\" class=\"data row7 col4\" >479254772.000000</td>\n",
              "    </tr>\n",
              "  </tbody>\n",
              "</table>\n"
            ]
          },
          "metadata": {},
          "execution_count": 26
        }
      ],
      "source": [
        "df.describe().style.background_gradient(cmap='Greens') #darker shades of green indicate higher values, while lighter shades indicate lower values."
      ]
    },
    {
      "cell_type": "markdown",
      "metadata": {
        "id": "jfO4lwoDJxQ8"
      },
      "source": [
        "### Now exploring Numeric columns/attributes of the dataset mainly:\n",
        "PostalCode, ModelYear, Electric_Range, Base_MSRP, DOL_Vehicle_ID"
      ]
    },
    {
      "cell_type": "markdown",
      "metadata": {
        "id": "NBZ8ORCaJxQ9"
      },
      "source": [
        "> Let us check how numerical values are correlated ot each other"
      ]
    },
    {
      "cell_type": "code",
      "execution_count": null,
      "metadata": {
        "colab": {
          "base_uri": "https://localhost:8080/",
          "height": 605
        },
        "id": "t7vjvfRJJxQ9",
        "outputId": "6c9f709e-3916-41ec-9601-4c7dd07aed76"
      },
      "outputs": [
        {
          "output_type": "stream",
          "name": "stderr",
          "text": [
            "<ipython-input-27-a0ab51d3d64b>:4: FutureWarning: The default value of numeric_only in DataFrame.corr is deprecated. In a future version, it will default to False. Select only valid columns or specify the value of numeric_only to silence this warning.\n",
            "  heatmap=sns.heatmap(df.corr(),cmap=cmap, annot=True)\n"
          ]
        },
        {
          "output_type": "execute_result",
          "data": {
            "text/plain": [
              "Text(0.5, 1.0, 'Electric Vehicle Correlation Heatmap')"
            ]
          },
          "metadata": {},
          "execution_count": 27
        },
        {
          "output_type": "display_data",
          "data": {
            "text/plain": [
              "<Figure size 1500x600 with 2 Axes>"
            ],
            "image/png": "[encoded data removed]"
          },
          "metadata": {}
        }
      ],
      "source": [
        "#checking the corrlation of all the attributes with target\n",
        "plt.figure(figsize=(15, 6))\n",
        "cmap = \"plasma\"\n",
        "heatmap=sns.heatmap(df.corr(),cmap=cmap, annot=True)\n",
        "heatmap.set_title('Electric Vehicle Correlation Heatmap', fontdict={'fontsize':12}, pad=12)"
      ]
    },
    {
      "cell_type": "markdown",
      "metadata": {
        "id": "o-uHAYioJxQ-"
      },
      "source": [
        "> **Figure-2\n",
        ":** Provide us the visual correlation among the numerical attributes of the dataset"
      ]
    },
    {
      "cell_type": "markdown",
      "metadata": {
        "id": "rLSpSfv4JxQ-"
      },
      "source": [
        "###  Observation Number 6\n",
        "\n",
        "> The correlation plot provides us many insights as follow:\n",
        "1. No strong correlation found among the attributes"
      ]
    },
    {
      "cell_type": "markdown",
      "metadata": {
        "id": "Lly_aaG8JxQ_"
      },
      "source": [
        "### Distribution of numerical variables\n",
        "- ModelYear, Electric_Range, Base_MSRP, DOL_Vehicle_ID"
      ]
    },
    {
      "cell_type": "code",
      "execution_count": null,
      "metadata": {
        "colab": {
          "base_uri": "https://localhost:8080/",
          "height": 563
        },
        "id": "ibmBqGekJxQ_",
        "outputId": "b0c56dbe-4e0b-4a03-eca4-9efbfa03085d"
      },
      "outputs": [
        {
          "output_type": "execute_result",
          "data": {
            "text/plain": [
              "Text(0, 0.5, 'Count')"
            ]
          },
          "metadata": {},
          "execution_count": 28
        },
        {
          "output_type": "display_data",
          "data": {
            "text/plain": [
              "<Figure size 1500x600 with 1 Axes>"
            ],
            "image/png": "[encoded data removed]"
          },
          "metadata": {}
        }
      ],
      "source": [
        "# Create a histogram of the PostalCode variable\n",
        "\n",
        "plt.hist(df[\"ModelYear\"],bins=10,edgecolor='black',color='green')\n",
        "plt.xlabel(\"ModelYear\")\n",
        "plt.ylabel(\"Count\")"
      ]
    },
    {
      "cell_type": "markdown",
      "metadata": {
        "id": "yYATolykJxQ_"
      },
      "source": [
        "**Figure-3:** Histogram plot to check the normality and distribution of Model Year attribute"
      ]
    },
    {
      "cell_type": "code",
      "execution_count": null,
      "metadata": {
        "colab": {
          "base_uri": "https://localhost:8080/",
          "height": 563
        },
        "id": "9sCnthEqJxQ_",
        "outputId": "b44f92b6-98d1-4a47-e59b-48df4fedc6f5"
      },
      "outputs": [
        {
          "output_type": "execute_result",
          "data": {
            "text/plain": [
              "Text(0, 0.5, 'Count')"
            ]
          },
          "metadata": {},
          "execution_count": 29
        },
        {
          "output_type": "display_data",
          "data": {
            "text/plain": [
              "<Figure size 1500x600 with 1 Axes>"
            ],
            "image/png": "[encoded data removed]"
          },
          "metadata": {}
        }
      ],
      "source": [
        "\n",
        "plt.hist(df[\"Electric_Range\"],bins=10,edgecolor='black',color='green')\n",
        "plt.xlabel(\"Electric_Range\")\n",
        "plt.ylabel(\"Count\")"
      ]
    },
    {
      "cell_type": "markdown",
      "metadata": {
        "id": "Jj_GIiOUJxRA"
      },
      "source": [
        "**Figure-4:** Histogram plot to check the normality and distribution of Electric Range of the Cars in one charge"
      ]
    },
    {
      "cell_type": "code",
      "execution_count": null,
      "metadata": {
        "colab": {
          "base_uri": "https://localhost:8080/",
          "height": 563
        },
        "id": "7G4N-IKZJxRA",
        "outputId": "e1a17df7-0afb-47d0-f853-18f0110e56cf"
      },
      "outputs": [
        {
          "output_type": "execute_result",
          "data": {
            "text/plain": [
              "Text(0, 0.5, 'Count')"
            ]
          },
          "metadata": {},
          "execution_count": 30
        },
        {
          "output_type": "display_data",
          "data": {
            "text/plain": [
              "<Figure size 1500x600 with 1 Axes>"
            ],
            "image/png": "[encoded data removed]"
          },
          "metadata": {}
        }
      ],
      "source": [
        "plt.hist(df[\"Base_MSRP\"],bins=20,edgecolor='black',color='green')\n",
        "plt.xlabel(\"Base_MSRP\")\n",
        "plt.ylabel(\"Count\")"
      ]
    },
    {
      "cell_type": "markdown",
      "metadata": {
        "id": "0hLnc46NJxRB"
      },
      "source": [
        "**Figure-5:** Histogram plot to check the normality and distribution of Base MRP"
      ]
    },
    {
      "cell_type": "code",
      "execution_count": null,
      "metadata": {
        "colab": {
          "base_uri": "https://localhost:8080/",
          "height": 563
        },
        "id": "Vhum42YXJxRB",
        "outputId": "2c822942-150a-473c-ea3e-000651f98a0b"
      },
      "outputs": [
        {
          "output_type": "execute_result",
          "data": {
            "text/plain": [
              "Text(0, 0.5, 'Count')"
            ]
          },
          "metadata": {},
          "execution_count": 31
        },
        {
          "output_type": "display_data",
          "data": {
            "text/plain": [
              "<Figure size 1500x600 with 1 Axes>"
            ],
            "image/png": "[encoded data removed]"
          },
          "metadata": {}
        }
      ],
      "source": [
        "\n",
        "\n",
        "plt.hist(df[\"DOL_Vehicle_ID\"],bins=20,edgecolor='black',color='green')\n",
        "plt.xlabel(\"DOL_Vehicle_ID\")\n",
        "plt.ylabel(\"Count\")"
      ]
    },
    {
      "cell_type": "markdown",
      "metadata": {
        "id": "8rcG6xIAJxRB"
      },
      "source": [
        "**Figure-6:** Histogram plot to check the normality and distribution of DOL Vehicle ID"
      ]
    },
    {
      "cell_type": "markdown",
      "metadata": {
        "id": "en5KI7cbJxRB"
      },
      "source": [
        "###  Observation Number 7\n",
        "\n",
        "> From the histogram plots we can observe\n",
        "1. Although the Base MSRP column is very important, however the vendors have not provided this information. Therefore we will drop it\n",
        "2. The electric range colum of around 50K cars are not provided with legit information. Instead it is filled with zero"
      ]
    },
    {
      "cell_type": "code",
      "execution_count": null,
      "metadata": {
        "colab": {
          "base_uri": "https://localhost:8080/"
        },
        "id": "7jPbNaS4JxRC",
        "outputId": "01fb32f8-1dc5-4aee-949b-62fcbcc9e596"
      },
      "outputs": [
        {
          "output_type": "execute_result",
          "data": {
            "text/plain": [
              "array([     0,  31950,  69900,  34995,  59900,  32250,  33950,  39995,\n",
              "        36900,  64950,  52900,  54950,  55700,  45600,  52650, 184400,\n",
              "       110950,  44100,  75095,  36800,  43700, 102000,  98950,  90700,\n",
              "        81100, 109000,  53400,  89100,  91250, 845000])"
            ]
          },
          "metadata": {},
          "execution_count": 32
        }
      ],
      "source": [
        "df['Base_MSRP'].unique()"
      ]
    },
    {
      "cell_type": "code",
      "execution_count": null,
      "metadata": {
        "colab": {
          "base_uri": "https://localhost:8080/"
        },
        "id": "s-pMT9tmJxRC",
        "outputId": "ef5e86d9-7397-4db4-9646-f66b52e73acc"
      },
      "outputs": [
        {
          "output_type": "stream",
          "name": "stdout",
          "text": [
            "<class 'pandas.core.frame.DataFrame'>\n",
            "RangeIndex: 109481 entries, 0 to 109480\n",
            "Data columns (total 16 columns):\n",
            " #   Column                 Non-Null Count   Dtype \n",
            "---  ------                 --------------   ----- \n",
            " 0   VIN                    109481 non-null  object\n",
            " 1   County                 109481 non-null  object\n",
            " 2   City                   109481 non-null  object\n",
            " 3   State                  109481 non-null  object\n",
            " 4   PostalCode             109481 non-null  int64 \n",
            " 5   ModelYear              109481 non-null  int64 \n",
            " 6   Make                   109481 non-null  object\n",
            " 7   Model                  109481 non-null  object\n",
            " 8   Electric_Vehicle_Type  109481 non-null  object\n",
            " 9   CAFV_Eligibility       109481 non-null  object\n",
            " 10  Electric_Range         109481 non-null  int64 \n",
            " 11  Legislative_District   109481 non-null  object\n",
            " 12  DOL_Vehicle_ID         109481 non-null  int64 \n",
            " 13  Vehicle_Location       109481 non-null  object\n",
            " 14  Electric_Utility       109481 non-null  object\n",
            " 15  2020_Census_Tract      109481 non-null  object\n",
            "dtypes: int64(4), object(12)\n",
            "memory usage: 13.4+ MB\n"
          ]
        }
      ],
      "source": [
        "df.drop('Base_MSRP', axis=1, inplace=True)\n",
        "df.info()"
      ]
    },
    {
      "cell_type": "markdown",
      "metadata": {
        "id": "jSDNMBNqJxRC"
      },
      "source": [
        "### Dealing with column Electric Utility\n",
        "> We Can present the information stored in the Electric Utility: |, || ,Utility Not Avalilable and just one utility optionn  as:\\\n",
        "However, before any renaming. We will see the health of the attribute in terms of NULL values\n",
        "- Not Available\"\n",
        "- Single Type Utilities\"\n",
        "- \"Multi type Utilities\"\n",
        "- \"Only One Option\""
      ]
    },
    {
      "cell_type": "code",
      "execution_count": null,
      "metadata": {
        "colab": {
          "base_uri": "https://localhost:8080/"
        },
        "id": "55AH1pBRJxRC",
        "outputId": "380aee01-a33f-41d5-e557-ab2e38cb36ec"
      },
      "outputs": [
        {
          "output_type": "execute_result",
          "data": {
            "text/plain": [
              "array(['Utility Not Avalilable', 'PUD NO 1 OF CHELAN COUNTY',\n",
              "       'PUGET SOUND ENERGY INC',\n",
              "       'CITY OF SEATTLE - (WA)|CITY OF TACOMA - (WA)', 'PACIFICORP',\n",
              "       'PUGET SOUND ENERGY INC||CITY OF TACOMA - (WA)',\n",
              "       'PUD NO 2 OF GRANT COUNTY', 'AVISTA CORP',\n",
              "       'MODERN ELECTRIC WATER COMPANY',\n",
              "       'BONNEVILLE POWER ADMINISTRATION||PUD 1 OF SNOHOMISH COUNTY',\n",
              "       'BONNEVILLE POWER ADMINISTRATION||PUD NO 1 OF CLARK COUNTY - (WA)',\n",
              "       'BONNEVILLE POWER ADMINISTRATION||PUD NO 2 OF PACIFIC COUNTY',\n",
              "       'BONNEVILLE POWER ADMINISTRATION||PUGET SOUND ENERGY INC||PUD NO 1 OF JEFFERSON COUNTY',\n",
              "       'PUGET SOUND ENERGY INC||PUD NO 1 OF WHATCOM COUNTY',\n",
              "       'BONNEVILLE POWER ADMINISTRATION||CITY OF TACOMA - (WA)||PENINSULA LIGHT COMPANY',\n",
              "       'BONNEVILLE POWER ADMINISTRATION||AVISTA CORP||INLAND POWER & LIGHT COMPANY',\n",
              "       'BONNEVILLE POWER ADMINISTRATION||PACIFICORP||PUD NO 1 OF CLARK COUNTY - (WA)',\n",
              "       'BONNEVILLE POWER ADMINISTRATION||CITY OF TACOMA - (WA)||PUD NO 1 OF LEWIS COUNTY',\n",
              "       'BONNEVILLE POWER ADMINISTRATION||CITY OF TACOMA - (WA)||PARKLAND LIGHT & WATER COMPANY|PENINSULA LIGHT COMPANY',\n",
              "       'BONNEVILLE POWER ADMINISTRATION||CITY OF TACOMA - (WA)||PUD NO 3 OF MASON COUNTY',\n",
              "       'BONNEVILLE POWER ADMINISTRATION||ORCAS POWER & LIGHT COOP',\n",
              "       'BONNEVILLE POWER ADMINISTRATION||TOWN OF RUSTON - (WA)|CITY OF TACOMA - (WA)||PENINSULA LIGHT COMPANY',\n",
              "       'PUD NO 1 OF PEND OREILLE COUNTY',\n",
              "       'BONNEVILLE POWER ADMINISTRATION||PUD NO 1 OF BENTON COUNTY',\n",
              "       'BONNEVILLE POWER ADMINISTRATION||VERA IRRIGATION DISTRICT #15',\n",
              "       'BONNEVILLE POWER ADMINISTRATION||CITY OF CENTRALIA - (WA)|CITY OF TACOMA - (WA)',\n",
              "       'BONNEVILLE POWER ADMINISTRATION||PUD NO 1 OF CLALLAM COUNTY',\n",
              "       'BONNEVILLE POWER ADMINISTRATION||PUD NO 1 OF GRAYS HARBOR COUNTY',\n",
              "       'PUD NO 1 OF DOUGLAS COUNTY',\n",
              "       'BONNEVILLE POWER ADMINISTRATION||PUD NO 1 OF KLICKITAT COUNTY',\n",
              "       'OKANOGAN COUNTY ELEC COOP, INC',\n",
              "       'BONNEVILLE POWER ADMINISTRATION||CITY OF RICHLAND - (WA)',\n",
              "       'BONNEVILLE POWER ADMINISTRATION||AVISTA CORP||BIG BEND ELECTRIC COOP, INC',\n",
              "       'BONNEVILLE POWER ADMINISTRATION||CITY OF PORT ANGELES - (WA)',\n",
              "       'BONNEVILLE POWER ADMINISTRATION||PUD NO 1 OF COWLITZ COUNTY',\n",
              "       'BONNEVILLE POWER ADMINISTRATION||CITY OF TACOMA - (WA)||ELMHURST MUTUAL POWER & LIGHT CO|PENINSULA LIGHT COMPANY',\n",
              "       'BONNEVILLE POWER ADMINISTRATION||PUD NO 1 OF SKAMANIA CO',\n",
              "       'PUD NO 1 OF OKANOGAN COUNTY',\n",
              "       'BONNEVILLE POWER ADMINISTRATION||COLUMBIA RURAL ELEC ASSN, INC',\n",
              "       'CITY OF CHENEY - (WA)',\n",
              "       'BONNEVILLE POWER ADMINISTRATION||PUD NO 1 OF FERRY COUNTY',\n",
              "       'BONNEVILLE POWER ADMINISTRATION||PUD NO 1 OF FRANKLIN COUNTY',\n",
              "       'BONNEVILLE POWER ADMINISTRATION||AVISTA CORP||PUD NO 1 OF ASOTIN COUNTY',\n",
              "       'CITY OF TACOMA - (WA)||TANNER ELECTRIC COOP',\n",
              "       'BONNEVILLE POWER ADMINISTRATION||CITY OF TACOMA - (WA)||LAKEVIEW LIGHT & POWER|PENINSULA LIGHT COMPANY',\n",
              "       'CITY OF BLAINE - (WA)||PUD NO 1 OF WHATCOM COUNTY',\n",
              "       'BONNEVILLE POWER ADMINISTRATION||INLAND POWER & LIGHT COMPANY',\n",
              "       'BONNEVILLE POWER ADMINISTRATION||PACIFICORP||BENTON RURAL ELECTRIC ASSN',\n",
              "       'BONNEVILLE POWER ADMINISTRATION||TOWN OF STEILACOOM|CITY OF TACOMA - (WA)||PENINSULA LIGHT COMPANY',\n",
              "       'PUD NO 1 OF WHATCOM COUNTY',\n",
              "       'BONNEVILLE POWER ADMINISTRATION||CITY OF ELLENSBURG - (WA)',\n",
              "       'BONNEVILLE POWER ADMINISTRATION||CITY OF TACOMA - (WA)||PUD NO 1 OF MASON COUNTY',\n",
              "       'BONNEVILLE POWER ADMINISTRATION||PUD NO 1 OF WAHKIAKUM COUNTY',\n",
              "       'BONNEVILLE POWER ADMINISTRATION||PACIFICORP||COLUMBIA RURAL ELEC ASSN, INC',\n",
              "       'BONNEVILLE POWER ADMINISTRATION||PUD NO 1 OF KITTITAS COUNTY',\n",
              "       'BONNEVILLE POWER ADMINISTRATION||CITY OF MILTON - (WA)|CITY OF TACOMA - (WA)',\n",
              "       'BONNEVILLE POWER ADMINISTRATION||CITY OF TACOMA - (WA)||OHOP MUTUAL LIGHT COMPANY, INC|PENINSULA LIGHT COMPANY',\n",
              "       'BONNEVILLE POWER ADMINISTRATION||CITY OF MCCLEARY - (WA)',\n",
              "       'BONNEVILLE POWER ADMINISTRATION||BIG BEND ELECTRIC COOP, INC',\n",
              "       'BONNEVILLE POWER ADMINISTRATION||CITY OF TACOMA - (WA)||BENTON RURAL ELECTRIC ASSN|PENINSULA LIGHT COMPANY',\n",
              "       'BONNEVILLE POWER ADMINISTRATION||PUD NO 1 OF ASOTIN COUNTY||INLAND POWER & LIGHT COMPANY',\n",
              "       'BONNEVILLE POWER ADMINISTRATION||CITY OF COULEE DAM - (WA)',\n",
              "       'PORTLAND GENERAL ELECTRIC CO', 'CITY OF CHEWELAH',\n",
              "       'BONNEVILLE POWER ADMINISTRATION||PUD NO 1 OF MASON COUNTY|PUD NO 1 OF JEFFERSON COUNTY',\n",
              "       'CITY OF TACOMA - (WA)',\n",
              "       'BONNEVILLE POWER ADMINISTRATION||TOWN OF EATONVILLE - (WA)|CITY OF TACOMA - (WA)',\n",
              "       'CITY OF SUMAS - (WA)||PUD NO 1 OF WHATCOM COUNTY',\n",
              "       'BONNEVILLE POWER ADMINISTRATION||NESPELEM VALLEY ELEC COOP, INC',\n",
              "       'CITY OF SEATTLE - (WA)',\n",
              "       'BONNEVILLE POWER ADMINISTRATION||PENINSULA LIGHT COMPANY',\n",
              "       'BONNEVILLE POWER ADMINISTRATION||PUD NO 1 OF CLALLAM COUNTY|PUD NO 1 OF JEFFERSON COUNTY',\n",
              "       'BONNEVILLE POWER ADMINISTRATION||BENTON RURAL ELECTRIC ASSN'],\n",
              "      dtype=object)"
            ]
          },
          "metadata": {},
          "execution_count": 34
        }
      ],
      "source": [
        "df['Electric_Utility'].unique()"
      ]
    },
    {
      "cell_type": "code",
      "execution_count": null,
      "metadata": {
        "id": "C3n9qB5_JxRD"
      },
      "outputs": [],
      "source": [
        "def categorize_electric_utility(value):\n",
        "    if value == \"Utility Not Avalilable\":\n",
        "        return \"Not Available\"\n",
        "    elif \"||\" in value:\n",
        "        return \"Multi type Utilities\"\n",
        "    elif \"|\" in value:\n",
        "        return \"Single Type Utilities\"\n",
        "    else:\n",
        "        return \"Only One Option\"\n",
        "    \n",
        "\n",
        "\n",
        "df['Electric_Utility_Category'] = df['Electric_Utility'].apply(categorize_electric_utility)\n"
      ]
    },
    {
      "cell_type": "code",
      "execution_count": null,
      "metadata": {
        "colab": {
          "base_uri": "https://localhost:8080/"
        },
        "id": "SfoVGw7NJxRD",
        "outputId": "abdc1a7b-d97c-4a89-b048-0d4c7f3154b3"
      },
      "outputs": [
        {
          "output_type": "execute_result",
          "data": {
            "text/plain": [
              "array(['Not Available', 'Only One Option', 'Single Type Utilities',\n",
              "       'Multi type Utilities'], dtype=object)"
            ]
          },
          "metadata": {},
          "execution_count": 36
        }
      ],
      "source": [
        "df['Electric_Utility_Category'].unique()"
      ]
    },
    {
      "cell_type": "code",
      "execution_count": null,
      "metadata": {
        "colab": {
          "base_uri": "https://localhost:8080/",
          "height": 206
        },
        "id": "PoQZvp93JxRD",
        "outputId": "2ae31e00-4ab1-4163-876c-b367dbce641e"
      },
      "outputs": [
        {
          "output_type": "execute_result",
          "data": {
            "text/plain": [
              "          VIN     County       City State  PostalCode  ModelYear    Make  \\\n",
              "0  3MW5P9J05N   Arapahoe  Englewood    CO       80111       2022     BMW   \n",
              "1  5YJXCBE27J     Island  Greenbank    WA       98253       2018   TESLA   \n",
              "2  1N4AZ0CP3F      Kings    Lemoore    CA       93245       2015  NISSAN   \n",
              "3  5YJ3E1EA8J  San Diego  Oceanside    CA       92051       2018   TESLA   \n",
              "4  5YJ3E1EB1K    Alameda   Berkeley    CA       94710       2019   TESLA   \n",
              "\n",
              "     Model                   Electric_Vehicle_Type  \\\n",
              "0     330E  Plug-in Hybrid Electric Vehicle (PHEV)   \n",
              "1  MODEL X          Battery Electric Vehicle (BEV)   \n",
              "2     LEAF          Battery Electric Vehicle (BEV)   \n",
              "3  MODEL 3          Battery Electric Vehicle (BEV)   \n",
              "4  MODEL 3          Battery Electric Vehicle (BEV)   \n",
              "\n",
              "                          CAFV_Eligibility  Electric_Range  \\\n",
              "0    Not eligible due to low battery range              22   \n",
              "1  Clean Alternative Fuel Vehicle Eligible             238   \n",
              "2  Clean Alternative Fuel Vehicle Eligible              84   \n",
              "3  Clean Alternative Fuel Vehicle Eligible             215   \n",
              "4  Clean Alternative Fuel Vehicle Eligible             220   \n",
              "\n",
              "  Legislative_District  DOL_Vehicle_ID               Vehicle_Location  \\\n",
              "0              Unknown       200589147    POINT (-104.89239 39.61914)   \n",
              "1                 10.0       326880081   POINT (-122.575569 48.08489)   \n",
              "2              Unknown       182237457    POINT (-119.78637 36.30101)   \n",
              "3              Unknown       153998050                        Unknown   \n",
              "4              Unknown       320914072  POINT (-122.300531 37.869271)   \n",
              "\n",
              "         Electric_Utility 2020_Census_Tract Electric_Utility_Category  \n",
              "0  Utility Not Avalilable      8005006861.0             Not Available  \n",
              "1  Utility Not Avalilable     53029971302.0             Not Available  \n",
              "2  Utility Not Avalilable      6031980000.0             Not Available  \n",
              "3  Utility Not Avalilable      6073018509.0             Not Available  \n",
              "4  Utility Not Avalilable      6001423200.0             Not Available  "
            ],
            "text/html": [
              "\n",
              "  <div id=\"df-b445cdc0-6766-4b81-8028-7ec39c6fd1af\">\n",
              "    <div class=\"colab-df-container\">\n",
              "      <div>\n",
              "<style scoped>\n",
              "    .dataframe tbody tr th:only-of-type {\n",
              "        vertical-align: middle;\n",
              "    }\n",
              "\n",
              "    .dataframe tbody tr th {\n",
              "        vertical-align: top;\n",
              "    }\n",
              "\n",
              "    .dataframe thead th {\n",
              "        text-align: right;\n",
              "    }\n",
              "</style>\n",
              "<table border=\"1\" class=\"dataframe\">\n",
              "  <thead>\n",
              "    <tr style=\"text-align: right;\">\n",
              "      <th></th>\n",
              "      <th>VIN</th>\n",
              "      <th>County</th>\n",
              "      <th>City</th>\n",
              "      <th>State</th>\n",
              "      <th>PostalCode</th>\n",
              "      <th>ModelYear</th>\n",
              "      <th>Make</th>\n",
              "      <th>Model</th>\n",
              "      <th>Electric_Vehicle_Type</th>\n",
              "      <th>CAFV_Eligibility</th>\n",
              "      <th>Electric_Range</th>\n",
              "      <th>Legislative_District</th>\n",
              "      <th>DOL_Vehicle_ID</th>\n",
              "      <th>Vehicle_Location</th>\n",
              "      <th>Electric_Utility</th>\n",
              "      <th>2020_Census_Tract</th>\n",
              "      <th>Electric_Utility_Category</th>\n",
              "    </tr>\n",
              "  </thead>\n",
              "  <tbody>\n",
              "    <tr>\n",
              "      <th>0</th>\n",
              "      <td>3MW5P9J05N</td>\n",
              "      <td>Arapahoe</td>\n",
              "      <td>Englewood</td>\n",
              "      <td>CO</td>\n",
              "      <td>80111</td>\n",
              "      <td>2022</td>\n",
              "      <td>BMW</td>\n",
              "      <td>330E</td>\n",
              "      <td>Plug-in Hybrid Electric Vehicle (PHEV)</td>\n",
              "      <td>Not eligible due to low battery range</td>\n",
              "      <td>22</td>\n",
              "      <td>Unknown</td>\n",
              "      <td>200589147</td>\n",
              "      <td>POINT (-104.89239 39.61914)</td>\n",
              "      <td>Utility Not Avalilable</td>\n",
              "      <td>8005006861.0</td>\n",
              "      <td>Not Available</td>\n",
              "    </tr>\n",
              "    <tr>\n",
              "      <th>1</th>\n",
              "      <td>5YJXCBE27J</td>\n",
              "      <td>Island</td>\n",
              "      <td>Greenbank</td>\n",
              "      <td>WA</td>\n",
              "      <td>98253</td>\n",
              "      <td>2018</td>\n",
              "      <td>TESLA</td>\n",
              "      <td>MODEL X</td>\n",
              "      <td>Battery Electric Vehicle (BEV)</td>\n",
              "      <td>Clean Alternative Fuel Vehicle Eligible</td>\n",
              "      <td>238</td>\n",
              "      <td>10.0</td>\n",
              "      <td>326880081</td>\n",
              "      <td>POINT (-122.575569 48.08489)</td>\n",
              "      <td>Utility Not Avalilable</td>\n",
              "      <td>53029971302.0</td>\n",
              "      <td>Not Available</td>\n",
              "    </tr>\n",
              "    <tr>\n",
              "      <th>2</th>\n",
              "      <td>1N4AZ0CP3F</td>\n",
              "      <td>Kings</td>\n",
              "      <td>Lemoore</td>\n",
              "      <td>CA</td>\n",
              "      <td>93245</td>\n",
              "      <td>2015</td>\n",
              "      <td>NISSAN</td>\n",
              "      <td>LEAF</td>\n",
              "      <td>Battery Electric Vehicle (BEV)</td>\n",
              "      <td>Clean Alternative Fuel Vehicle Eligible</td>\n",
              "      <td>84</td>\n",
              "      <td>Unknown</td>\n",
              "      <td>182237457</td>\n",
              "      <td>POINT (-119.78637 36.30101)</td>\n",
              "      <td>Utility Not Avalilable</td>\n",
              "      <td>6031980000.0</td>\n",
              "      <td>Not Available</td>\n",
              "    </tr>\n",
              "    <tr>\n",
              "      <th>3</th>\n",
              "      <td>5YJ3E1EA8J</td>\n",
              "      <td>San Diego</td>\n",
              "      <td>Oceanside</td>\n",
              "      <td>CA</td>\n",
              "      <td>92051</td>\n",
              "      <td>2018</td>\n",
              "      <td>TESLA</td>\n",
              "      <td>MODEL 3</td>\n",
              "      <td>Battery Electric Vehicle (BEV)</td>\n",
              "      <td>Clean Alternative Fuel Vehicle Eligible</td>\n",
              "      <td>215</td>\n",
              "      <td>Unknown</td>\n",
              "      <td>153998050</td>\n",
              "      <td>Unknown</td>\n",
              "      <td>Utility Not Avalilable</td>\n",
              "      <td>6073018509.0</td>\n",
              "      <td>Not Available</td>\n",
              "    </tr>\n",
              "    <tr>\n",
              "      <th>4</th>\n",
              "      <td>5YJ3E1EB1K</td>\n",
              "      <td>Alameda</td>\n",
              "      <td>Berkeley</td>\n",
              "      <td>CA</td>\n",
              "      <td>94710</td>\n",
              "      <td>2019</td>\n",
              "      <td>TESLA</td>\n",
              "      <td>MODEL 3</td>\n",
              "      <td>Battery Electric Vehicle (BEV)</td>\n",
              "      <td>Clean Alternative Fuel Vehicle Eligible</td>\n",
              "      <td>220</td>\n",
              "      <td>Unknown</td>\n",
              "      <td>320914072</td>\n",
              "      <td>POINT (-122.300531 37.869271)</td>\n",
              "      <td>Utility Not Avalilable</td>\n",
              "      <td>6001423200.0</td>\n",
              "      <td>Not Available</td>\n",
              "    </tr>\n",
              "  </tbody>\n",
              "</table>\n",
              "</div>\n",
              "      <button class=\"colab-df-convert\" onclick=\"convertToInteractive('df-b445cdc0-6766-4b81-8028-7ec39c6fd1af')\"\n",
              "              title=\"Convert this dataframe to an interactive table.\"\n",
              "              style=\"display:none;\">\n",
              "        \n",
              "  <svg xmlns=\"http://www.w3.org/2000/svg\" height=\"24px\"viewBox=\"0 0 24 24\"\n",
              "       width=\"24px\">\n",
              "    <path d=\"M0 0h24v24H0V0z\" fill=\"none\"/>\n",
              "    <path d=\"M18.56 5.44l.94 2.06.94-2.06 2.06-.94-2.06-.94-.94-2.06-.94 2.06-2.06.94zm-11 1L8.5 8.5l.94-2.06 2.06-.94-2.06-.94L8.5 2.5l-.94 2.06-2.06.94zm10 10l.94 2.06.94-2.06 2.06-.94-2.06-.94-.94-2.06-.94 2.06-2.06.94z\"/><path d=\"M17.41 7.96l-1.37-1.37c-.4-.4-.92-.59-1.43-.59-.52 0-1.04.2-1.43.59L10.3 9.45l-7.72 7.72c-.78.78-.78 2.05 0 2.83L4 21.41c.39.39.9.59 1.41.59.51 0 1.02-.2 1.41-.59l7.78-7.78 2.81-2.81c.8-.78.8-2.07 0-2.86zM5.41 20L4 18.59l7.72-7.72 1.47 1.35L5.41 20z\"/>\n",
              "  </svg>\n",
              "      </button>\n",
              "      \n",
              "  <style>\n",
              "    .colab-df-container {\n",
              "      display:flex;\n",
              "      flex-wrap:wrap;\n",
              "      gap: 12px;\n",
              "    }\n",
              "\n",
              "    .colab-df-convert {\n",
              "      background-color: #E8F0FE;\n",
              "      border: none;\n",
              "      border-radius: 50%;\n",
              "      cursor: pointer;\n",
              "      display: none;\n",
              "      fill: #1967D2;\n",
              "      height: 32px;\n",
              "      padding: 0 0 0 0;\n",
              "      width: 32px;\n",
              "    }\n",
              "\n",
              "    .colab-df-convert:hover {\n",
              "      background-color: #E2EBFA;\n",
              "      box-shadow: 0px 1px 2px rgba(60, 64, 67, 0.3), 0px 1px 3px 1px rgba(60, 64, 67, 0.15);\n",
              "      fill: #174EA6;\n",
              "    }\n",
              "\n",
              "    [theme=dark] .colab-df-convert {\n",
              "      background-color: #3B4455;\n",
              "      fill: #D2E3FC;\n",
              "    }\n",
              "\n",
              "    [theme=dark] .colab-df-convert:hover {\n",
              "      background-color: #434B5C;\n",
              "      box-shadow: 0px 1px 3px 1px rgba(0, 0, 0, 0.15);\n",
              "      filter: drop-shadow(0px 1px 2px rgba(0, 0, 0, 0.3));\n",
              "      fill: #FFFFFF;\n",
              "    }\n",
              "  </style>\n",
              "\n",
              "      <script>\n",
              "        const buttonEl =\n",
              "          document.querySelector('#df-b445cdc0-6766-4b81-8028-7ec39c6fd1af button.colab-df-convert');\n",
              "        buttonEl.style.display =\n",
              "          google.colab.kernel.accessAllowed ? 'block' : 'none';\n",
              "\n",
              "        async function convertToInteractive(key) {\n",
              "          const element = document.querySelector('#df-b445cdc0-6766-4b81-8028-7ec39c6fd1af');\n",
              "          const dataTable =\n",
              "            await google.colab.kernel.invokeFunction('convertToInteractive',\n",
              "                                                     [key], {});\n",
              "          if (!dataTable) return;\n",
              "\n",
              "          const docLinkHtml = 'Like what you see? Visit the ' +\n",
              "            '<a target=\"_blank\" href=https://colab.research.google.com/notebooks/data_table.ipynb>data table notebook</a>'\n",
              "            + ' to learn more about interactive tables.';\n",
              "          element.innerHTML = '';\n",
              "          dataTable['output_type'] = 'display_data';\n",
              "          await google.colab.output.renderOutput(dataTable, element);\n",
              "          const docLink = document.createElement('div');\n",
              "          docLink.innerHTML = docLinkHtml;\n",
              "          element.appendChild(docLink);\n",
              "        }\n",
              "      </script>\n",
              "    </div>\n",
              "  </div>\n",
              "  "
            ]
          },
          "metadata": {},
          "execution_count": 37
        }
      ],
      "source": [
        "df.head(5)"
      ]
    },
    {
      "cell_type": "markdown",
      "metadata": {
        "id": "oZMC54dKJxRD"
      },
      "source": [
        "### Dealing with column Legislative District\n",
        "\n",
        "> The specific section of Washington State that the vehicle's owner resides in, as represented in the state legislature.\\\n",
        "> We are going to drop his column as it is not important for our analysis"
      ]
    },
    {
      "cell_type": "code",
      "execution_count": null,
      "metadata": {
        "colab": {
          "base_uri": "https://localhost:8080/"
        },
        "id": "VsAWNjLqJxRE",
        "outputId": "cc73af04-f0d4-40ed-8cb3-ef89f125d0a1"
      },
      "outputs": [
        {
          "output_type": "execute_result",
          "data": {
            "text/plain": [
              "array(['Unknown', 10.0, 12.0, 32.0, 1.0, 2.0, 36.0, 34.0, 40.0, 21.0,\n",
              "       44.0, 26.0, 39.0, 16.0, 23.0, 14.0, 38.0, 48.0, 13.0, 15.0, 9.0,\n",
              "       46.0, 3.0, 37.0, 41.0, 11.0, 17.0, 19.0, 45.0, 18.0, 43.0, 5.0,\n",
              "       24.0, 31.0, 33.0, 22.0, 49.0, 7.0, 35.0, 29.0, 20.0, 28.0, 25.0,\n",
              "       27.0, 4.0, 8.0, 47.0, 30.0, 6.0, 42.0], dtype=object)"
            ]
          },
          "metadata": {},
          "execution_count": 38
        }
      ],
      "source": [
        "df['Legislative_District'].unique()"
      ]
    },
    {
      "cell_type": "code",
      "execution_count": null,
      "metadata": {
        "colab": {
          "base_uri": "https://localhost:8080/"
        },
        "id": "hkpW_3FqJxRE",
        "outputId": "abb30cd7-03b0-4ced-93bb-c1f051037a66"
      },
      "outputs": [
        {
          "output_type": "stream",
          "name": "stdout",
          "text": [
            "<class 'pandas.core.frame.DataFrame'>\n",
            "RangeIndex: 109481 entries, 0 to 109480\n",
            "Data columns (total 16 columns):\n",
            " #   Column                     Non-Null Count   Dtype \n",
            "---  ------                     --------------   ----- \n",
            " 0   VIN                        109481 non-null  object\n",
            " 1   County                     109481 non-null  object\n",
            " 2   City                       109481 non-null  object\n",
            " 3   State                      109481 non-null  object\n",
            " 4   PostalCode                 109481 non-null  int64 \n",
            " 5   ModelYear                  109481 non-null  int64 \n",
            " 6   Make                       109481 non-null  object\n",
            " 7   Model                      109481 non-null  object\n",
            " 8   Electric_Vehicle_Type      109481 non-null  object\n",
            " 9   CAFV_Eligibility           109481 non-null  object\n",
            " 10  Electric_Range             109481 non-null  int64 \n",
            " 11  DOL_Vehicle_ID             109481 non-null  int64 \n",
            " 12  Vehicle_Location           109481 non-null  object\n",
            " 13  Electric_Utility           109481 non-null  object\n",
            " 14  2020_Census_Tract          109481 non-null  object\n",
            " 15  Electric_Utility_Category  109481 non-null  object\n",
            "dtypes: int64(4), object(12)\n",
            "memory usage: 13.4+ MB\n"
          ]
        }
      ],
      "source": [
        "df.drop('Legislative_District', axis=1, inplace=True)\n",
        "df.info()                                                "
      ]
    },
    {
      "cell_type": "code",
      "source": [],
      "metadata": {
        "id": "W6PvRVDXaIrP"
      },
      "execution_count": null,
      "outputs": []
    },
    {
      "cell_type": "markdown",
      "source": [
        "NOW THE DATA CLEANING IS DONE, LET'S ANSWER SOME QUESTIONS BELOW"
      ],
      "metadata": {
        "id": "FM_1Dv9caxBB"
      }
    },
    {
      "cell_type": "markdown",
      "source": [],
      "metadata": {
        "id": "fGLZM_30avP8"
      }
    },
    {
      "cell_type": "markdown",
      "metadata": {
        "id": "rB-YpncwJxRE"
      },
      "source": [
        "# Question and Aswers\n",
        "> We are going to pose following questions against the dataset:\n",
        "\n",
        "1. What are the Top 10 count of cars per city?\n",
        "2. What are the Top 10 count of cars per postal code?\n",
        "3. What are the Top 10 Make distribution count per top 10 City?\n",
        "4. What are the EVT Distribution count per state?\n",
        "5. What are the Electric Utility Distribution in top 10 cities with highest number of cars?\n",
        "6. What are the Distances Travel by vehicle make per electric charge?\n",
        "7. What are the Year Wise Cars sales growth?\n",
        "8. Plotting the lat and lon"
      ]
    },
    {
      "cell_type": "markdown",
      "metadata": {
        "id": "Ayrq8IVjJxRF"
      },
      "source": [
        "Question 1: What are the Top 10 count of cars per city?"
      ]
    },
    {
      "cell_type": "code",
      "execution_count": null,
      "metadata": {
        "colab": {
          "base_uri": "https://localhost:8080/",
          "height": 987
        },
        "id": "reEqBjiiJxRG",
        "outputId": "17c9634d-b056-4263-b7d7-317849b6527f"
      },
      "outputs": [
        {
          "output_type": "display_data",
          "data": {
            "text/plain": [
              "<Figure size 1500x600 with 1 Axes>"
            ],
            "image/png": "[encoded data removed]"
          },
          "metadata": {}
        },
        {
          "output_type": "execute_result",
          "data": {
            "text/plain": [
              "<pandas.io.formats.style.Styler at 0x7f4dee226bc0>"
            ],
            "text/html": [
              "<style type=\"text/css\">\n",
              "#T_c3bd3_row0_col0 {\n",
              "  background-color: #00441b;\n",
              "  color: #f1f1f1;\n",
              "}\n",
              "#T_c3bd3_row1_col0 {\n",
              "  background-color: #d4eece;\n",
              "  color: #000000;\n",
              "}\n",
              "#T_c3bd3_row2_col0 {\n",
              "  background-color: #e9f7e5;\n",
              "  color: #000000;\n",
              "}\n",
              "#T_c3bd3_row3_col0 {\n",
              "  background-color: #ebf7e7;\n",
              "  color: #000000;\n",
              "}\n",
              "#T_c3bd3_row4_col0 {\n",
              "  background-color: #edf8ea;\n",
              "  color: #000000;\n",
              "}\n",
              "#T_c3bd3_row5_col0 {\n",
              "  background-color: #f0f9ec;\n",
              "  color: #000000;\n",
              "}\n",
              "#T_c3bd3_row6_col0 {\n",
              "  background-color: #f0f9ed;\n",
              "  color: #000000;\n",
              "}\n",
              "#T_c3bd3_row7_col0 {\n",
              "  background-color: #f4fbf1;\n",
              "  color: #000000;\n",
              "}\n",
              "#T_c3bd3_row8_col0 {\n",
              "  background-color: #f4fbf2;\n",
              "  color: #000000;\n",
              "}\n",
              "#T_c3bd3_row9_col0 {\n",
              "  background-color: #f7fcf5;\n",
              "  color: #000000;\n",
              "}\n",
              "</style>\n",
              "<table id=\"T_c3bd3\" class=\"dataframe\">\n",
              "  <thead>\n",
              "    <tr>\n",
              "      <th class=\"blank level0\" >&nbsp;</th>\n",
              "      <th id=\"T_c3bd3_level0_col0\" class=\"col_heading level0 col0\" >City</th>\n",
              "    </tr>\n",
              "  </thead>\n",
              "  <tbody>\n",
              "    <tr>\n",
              "      <th id=\"T_c3bd3_level0_row0\" class=\"row_heading level0 row0\" >Seattle</th>\n",
              "      <td id=\"T_c3bd3_row0_col0\" class=\"data row0 col0\" >19860</td>\n",
              "    </tr>\n",
              "    <tr>\n",
              "      <th id=\"T_c3bd3_level0_row1\" class=\"row_heading level0 row1\" >Bellevue</th>\n",
              "      <td id=\"T_c3bd3_row1_col0\" class=\"data row1 col0\" >5751</td>\n",
              "    </tr>\n",
              "    <tr>\n",
              "      <th id=\"T_c3bd3_level0_row2\" class=\"row_heading level0 row2\" >Redmond</th>\n",
              "      <td id=\"T_c3bd3_row2_col0\" class=\"data row2 col0\" >4044</td>\n",
              "    </tr>\n",
              "    <tr>\n",
              "      <th id=\"T_c3bd3_level0_row3\" class=\"row_heading level0 row3\" >Vancouver</th>\n",
              "      <td id=\"T_c3bd3_row3_col0\" class=\"data row3 col0\" >3875</td>\n",
              "    </tr>\n",
              "    <tr>\n",
              "      <th id=\"T_c3bd3_level0_row4\" class=\"row_heading level0 row4\" >Kirkland</th>\n",
              "      <td id=\"T_c3bd3_row4_col0\" class=\"data row4 col0\" >3486</td>\n",
              "    </tr>\n",
              "    <tr>\n",
              "      <th id=\"T_c3bd3_level0_row5\" class=\"row_heading level0 row5\" >Bothell</th>\n",
              "      <td id=\"T_c3bd3_row5_col0\" class=\"data row5 col0\" >3210</td>\n",
              "    </tr>\n",
              "    <tr>\n",
              "      <th id=\"T_c3bd3_level0_row6\" class=\"row_heading level0 row6\" >Sammamish</th>\n",
              "      <td id=\"T_c3bd3_row6_col0\" class=\"data row6 col0\" >3172</td>\n",
              "    </tr>\n",
              "    <tr>\n",
              "      <th id=\"T_c3bd3_level0_row7\" class=\"row_heading level0 row7\" >Renton</th>\n",
              "      <td id=\"T_c3bd3_row7_col0\" class=\"data row7 col0\" >2725</td>\n",
              "    </tr>\n",
              "    <tr>\n",
              "      <th id=\"T_c3bd3_level0_row8\" class=\"row_heading level0 row8\" >Olympia</th>\n",
              "      <td id=\"T_c3bd3_row8_col0\" class=\"data row8 col0\" >2677</td>\n",
              "    </tr>\n",
              "    <tr>\n",
              "      <th id=\"T_c3bd3_level0_row9\" class=\"row_heading level0 row9\" >Tacoma</th>\n",
              "      <td id=\"T_c3bd3_row9_col0\" class=\"data row9 col0\" >2303</td>\n",
              "    </tr>\n",
              "  </tbody>\n",
              "</table>\n"
            ]
          },
          "metadata": {},
          "execution_count": 58
        }
      ],
      "source": [
        "car_counts_Cty = df['City'].value_counts().nlargest(10)\n",
        "\n",
        "# plot the counts\n",
        "car_counts_Cty.plot(kind='bar',color='green')\n",
        "plt.xlabel('City')\n",
        "plt.ylabel('Number of Cars')\n",
        "plt.title('Top 10 Count of Cars per City')\n",
        "plt.show()\n",
        "\n",
        "\n",
        "car_counts_cty_df = car_counts_Cty.to_frame()\n",
        "car_counts_cty_df.style.background_gradient(cmap='Greens')"
      ]
    },
    {
      "cell_type": "markdown",
      "metadata": {
        "id": "PGUFjXUbJxRG"
      },
      "source": [
        "**Figure-7:** Plot showing top-10 Top 10 count of cars per city"
      ]
    },
    {
      "cell_type": "markdown",
      "metadata": {
        "id": "m52shqDZJxRH"
      },
      "source": [
        "Answer 1. Seattle stood at the top,. Due to high number of tech giants and their employee living there"
      ]
    },
    {
      "cell_type": "markdown",
      "metadata": {
        "id": "jRM8ENTWJxRJ"
      },
      "source": [
        "Question 2. What are the Top 10 count of cars per postal code?"
      ]
    },
    {
      "cell_type": "code",
      "execution_count": null,
      "metadata": {
        "colab": {
          "base_uri": "https://localhost:8080/",
          "height": 915
        },
        "id": "jVOGpbV2JxRJ",
        "outputId": "38da47ec-8a6f-47a2-ae14-b3b2dca8f93c"
      },
      "outputs": [
        {
          "output_type": "display_data",
          "data": {
            "text/plain": [
              "<Figure size 1500x600 with 1 Axes>"
            ],
            "image/png": "[encoded data removed]"
          },
          "metadata": {}
        },
        {
          "output_type": "execute_result",
          "data": {
            "text/plain": [
              "<pandas.io.formats.style.Styler at 0x7f4dee05e080>"
            ],
            "text/html": [
              "<style type=\"text/css\">\n",
              "#T_1a9d9_row0_col0 {\n",
              "  background-color: #00441b;\n",
              "  color: #f1f1f1;\n",
              "}\n",
              "#T_1a9d9_row1_col0 {\n",
              "  background-color: #99d595;\n",
              "  color: #000000;\n",
              "}\n",
              "#T_1a9d9_row2_col0 {\n",
              "  background-color: #aadda4;\n",
              "  color: #000000;\n",
              "}\n",
              "#T_1a9d9_row3_col0 {\n",
              "  background-color: #cbeac4;\n",
              "  color: #000000;\n",
              "}\n",
              "#T_1a9d9_row4_col0 {\n",
              "  background-color: #cdecc7;\n",
              "  color: #000000;\n",
              "}\n",
              "#T_1a9d9_row5_col0 {\n",
              "  background-color: #d2edcc;\n",
              "  color: #000000;\n",
              "}\n",
              "#T_1a9d9_row6_col0 {\n",
              "  background-color: #eaf7e6;\n",
              "  color: #000000;\n",
              "}\n",
              "#T_1a9d9_row7_col0 {\n",
              "  background-color: #edf8e9;\n",
              "  color: #000000;\n",
              "}\n",
              "#T_1a9d9_row8_col0 {\n",
              "  background-color: #f4fbf1;\n",
              "  color: #000000;\n",
              "}\n",
              "#T_1a9d9_row9_col0 {\n",
              "  background-color: #f7fcf5;\n",
              "  color: #000000;\n",
              "}\n",
              "</style>\n",
              "<table id=\"T_1a9d9\" class=\"dataframe\">\n",
              "  <thead>\n",
              "    <tr>\n",
              "      <th class=\"blank level0\" >&nbsp;</th>\n",
              "      <th id=\"T_1a9d9_level0_col0\" class=\"col_heading level0 col0\" >PostalCode</th>\n",
              "    </tr>\n",
              "  </thead>\n",
              "  <tbody>\n",
              "    <tr>\n",
              "      <th id=\"T_1a9d9_level0_row0\" class=\"row_heading level0 row0\" >98052</th>\n",
              "      <td id=\"T_1a9d9_row0_col0\" class=\"data row0 col0\" >2805</td>\n",
              "    </tr>\n",
              "    <tr>\n",
              "      <th id=\"T_1a9d9_level0_row1\" class=\"row_heading level0 row1\" >98033</th>\n",
              "      <td id=\"T_1a9d9_row1_col0\" class=\"data row1 col0\" >2019</td>\n",
              "    </tr>\n",
              "    <tr>\n",
              "      <th id=\"T_1a9d9_level0_row2\" class=\"row_heading level0 row2\" >98004</th>\n",
              "      <td id=\"T_1a9d9_row2_col0\" class=\"data row2 col0\" >1953</td>\n",
              "    </tr>\n",
              "    <tr>\n",
              "      <th id=\"T_1a9d9_level0_row3\" class=\"row_heading level0 row3\" >98115</th>\n",
              "      <td id=\"T_1a9d9_row3_col0\" class=\"data row3 col0\" >1815</td>\n",
              "    </tr>\n",
              "    <tr>\n",
              "      <th id=\"T_1a9d9_level0_row4\" class=\"row_heading level0 row4\" >98006</th>\n",
              "      <td id=\"T_1a9d9_row4_col0\" class=\"data row4 col0\" >1800</td>\n",
              "    </tr>\n",
              "    <tr>\n",
              "      <th id=\"T_1a9d9_level0_row5\" class=\"row_heading level0 row5\" >98012</th>\n",
              "      <td id=\"T_1a9d9_row5_col0\" class=\"data row5 col0\" >1772</td>\n",
              "    </tr>\n",
              "    <tr>\n",
              "      <th id=\"T_1a9d9_level0_row6\" class=\"row_heading level0 row6\" >98072</th>\n",
              "      <td id=\"T_1a9d9_row6_col0\" class=\"data row6 col0\" >1626</td>\n",
              "    </tr>\n",
              "    <tr>\n",
              "      <th id=\"T_1a9d9_level0_row7\" class=\"row_heading level0 row7\" >98040</th>\n",
              "      <td id=\"T_1a9d9_row7_col0\" class=\"data row7 col0\" >1600</td>\n",
              "    </tr>\n",
              "    <tr>\n",
              "      <th id=\"T_1a9d9_level0_row8\" class=\"row_heading level0 row8\" >98074</th>\n",
              "      <td id=\"T_1a9d9_row8_col0\" class=\"data row8 col0\" >1539</td>\n",
              "    </tr>\n",
              "    <tr>\n",
              "      <th id=\"T_1a9d9_level0_row9\" class=\"row_heading level0 row9\" >98034</th>\n",
              "      <td id=\"T_1a9d9_row9_col0\" class=\"data row9 col0\" >1506</td>\n",
              "    </tr>\n",
              "  </tbody>\n",
              "</table>\n"
            ]
          },
          "metadata": {},
          "execution_count": 60
        }
      ],
      "source": [
        "car_counts_pc = df['PostalCode'].value_counts().nlargest(10)\n",
        "\n",
        "# plot the counts with a logarithmic y-axis\n",
        "plt.bar(car_counts_pc.index, car_counts_pc.values,color='green')\n",
        "#plt.yscale('log')\n",
        "plt.xlabel('Postal Code')\n",
        "plt.ylabel('Number of Cars')\n",
        "plt.title('Top 10 Count of Cars per Postal Code')\n",
        "plt.show()\n",
        "\n",
        "car_counts_pc_df = car_counts_pc.to_frame()\n",
        "car_counts_pc_df.style.background_gradient(cmap='Greens')"
      ]
    },
    {
      "cell_type": "markdown",
      "metadata": {
        "id": "1dFWDpq8JxRJ"
      },
      "source": [
        "**Figure-8:** Plot showing Top 10 count of cars per postal code"
      ]
    },
    {
      "cell_type": "markdown",
      "metadata": {
        "id": "lAREAKPlJxRJ"
      },
      "source": [
        "Answer 2. This provide us more insight for other marketing purposes and upselling opportunities"
      ]
    },
    {
      "cell_type": "markdown",
      "metadata": {
        "id": "zwPnuhPMJxRL"
      },
      "source": [
        "Question 3: What are the Top 10 Make distribution count per top 10 City?"
      ]
    },
    {
      "cell_type": "code",
      "execution_count": null,
      "metadata": {
        "colab": {
          "base_uri": "https://localhost:8080/",
          "height": 862
        },
        "id": "ectIZL84JxRM",
        "outputId": "a3174eef-6b5b-4e6e-b070-84e6ab9d93b1"
      },
      "outputs": [
        {
          "output_type": "display_data",
          "data": {
            "text/plain": [
              "<Figure size 1500x600 with 1 Axes>"
            ],
            "image/png": "[encoded data removed]"
          },
          "metadata": {}
        },
        {
          "output_type": "execute_result",
          "data": {
            "text/plain": [
              "Make      AUDI  BMW  CHEVROLET  FORD  KIA  NISSAN  TESLA  TOYOTA  VOLKSWAGEN  \\\n",
              "City                                                                           \n",
              "Bellevue   120  294        211   128  131     536   3558     138          71   \n",
              "Bothell     49  121        177   119   98     377   1842      65          44   \n",
              "Kirkland    94  176        170    90  118     311   2032      67          64   \n",
              "Olympia     48   71        451   208  174     354    771     171          58   \n",
              "Redmond     70  169        190   105  111     449   2439     102          73   \n",
              "\n",
              "Make      VOLVO  \n",
              "City             \n",
              "Bellevue    114  \n",
              "Bothell      63  \n",
              "Kirkland     99  \n",
              "Olympia      40  \n",
              "Redmond      71  "
            ],
            "text/html": [
              "\n",
              "  <div id=\"df-755f6056-b7c9-48fb-b6cf-645017fc2d45\">\n",
              "    <div class=\"colab-df-container\">\n",
              "      <div>\n",
              "<style scoped>\n",
              "    .dataframe tbody tr th:only-of-type {\n",
              "        vertical-align: middle;\n",
              "    }\n",
              "\n",
              "    .dataframe tbody tr th {\n",
              "        vertical-align: top;\n",
              "    }\n",
              "\n",
              "    .dataframe thead th {\n",
              "        text-align: right;\n",
              "    }\n",
              "</style>\n",
              "<table border=\"1\" class=\"dataframe\">\n",
              "  <thead>\n",
              "    <tr style=\"text-align: right;\">\n",
              "      <th>Make</th>\n",
              "      <th>AUDI</th>\n",
              "      <th>BMW</th>\n",
              "      <th>CHEVROLET</th>\n",
              "      <th>FORD</th>\n",
              "      <th>KIA</th>\n",
              "      <th>NISSAN</th>\n",
              "      <th>TESLA</th>\n",
              "      <th>TOYOTA</th>\n",
              "      <th>VOLKSWAGEN</th>\n",
              "      <th>VOLVO</th>\n",
              "    </tr>\n",
              "    <tr>\n",
              "      <th>City</th>\n",
              "      <th></th>\n",
              "      <th></th>\n",
              "      <th></th>\n",
              "      <th></th>\n",
              "      <th></th>\n",
              "      <th></th>\n",
              "      <th></th>\n",
              "      <th></th>\n",
              "      <th></th>\n",
              "      <th></th>\n",
              "    </tr>\n",
              "  </thead>\n",
              "  <tbody>\n",
              "    <tr>\n",
              "      <th>Bellevue</th>\n",
              "      <td>120</td>\n",
              "      <td>294</td>\n",
              "      <td>211</td>\n",
              "      <td>128</td>\n",
              "      <td>131</td>\n",
              "      <td>536</td>\n",
              "      <td>3558</td>\n",
              "      <td>138</td>\n",
              "      <td>71</td>\n",
              "      <td>114</td>\n",
              "    </tr>\n",
              "    <tr>\n",
              "      <th>Bothell</th>\n",
              "      <td>49</td>\n",
              "      <td>121</td>\n",
              "      <td>177</td>\n",
              "      <td>119</td>\n",
              "      <td>98</td>\n",
              "      <td>377</td>\n",
              "      <td>1842</td>\n",
              "      <td>65</td>\n",
              "      <td>44</td>\n",
              "      <td>63</td>\n",
              "    </tr>\n",
              "    <tr>\n",
              "      <th>Kirkland</th>\n",
              "      <td>94</td>\n",
              "      <td>176</td>\n",
              "      <td>170</td>\n",
              "      <td>90</td>\n",
              "      <td>118</td>\n",
              "      <td>311</td>\n",
              "      <td>2032</td>\n",
              "      <td>67</td>\n",
              "      <td>64</td>\n",
              "      <td>99</td>\n",
              "    </tr>\n",
              "    <tr>\n",
              "      <th>Olympia</th>\n",
              "      <td>48</td>\n",
              "      <td>71</td>\n",
              "      <td>451</td>\n",
              "      <td>208</td>\n",
              "      <td>174</td>\n",
              "      <td>354</td>\n",
              "      <td>771</td>\n",
              "      <td>171</td>\n",
              "      <td>58</td>\n",
              "      <td>40</td>\n",
              "    </tr>\n",
              "    <tr>\n",
              "      <th>Redmond</th>\n",
              "      <td>70</td>\n",
              "      <td>169</td>\n",
              "      <td>190</td>\n",
              "      <td>105</td>\n",
              "      <td>111</td>\n",
              "      <td>449</td>\n",
              "      <td>2439</td>\n",
              "      <td>102</td>\n",
              "      <td>73</td>\n",
              "      <td>71</td>\n",
              "    </tr>\n",
              "  </tbody>\n",
              "</table>\n",
              "</div>\n",
              "      <button class=\"colab-df-convert\" onclick=\"convertToInteractive('df-755f6056-b7c9-48fb-b6cf-645017fc2d45')\"\n",
              "              title=\"Convert this dataframe to an interactive table.\"\n",
              "              style=\"display:none;\">\n",
              "        \n",
              "  <svg xmlns=\"http://www.w3.org/2000/svg\" height=\"24px\"viewBox=\"0 0 24 24\"\n",
              "       width=\"24px\">\n",
              "    <path d=\"M0 0h24v24H0V0z\" fill=\"none\"/>\n",
              "    <path d=\"M18.56 5.44l.94 2.06.94-2.06 2.06-.94-2.06-.94-.94-2.06-.94 2.06-2.06.94zm-11 1L8.5 8.5l.94-2.06 2.06-.94-2.06-.94L8.5 2.5l-.94 2.06-2.06.94zm10 10l.94 2.06.94-2.06 2.06-.94-2.06-.94-.94-2.06-.94 2.06-2.06.94z\"/><path d=\"M17.41 7.96l-1.37-1.37c-.4-.4-.92-.59-1.43-.59-.52 0-1.04.2-1.43.59L10.3 9.45l-7.72 7.72c-.78.78-.78 2.05 0 2.83L4 21.41c.39.39.9.59 1.41.59.51 0 1.02-.2 1.41-.59l7.78-7.78 2.81-2.81c.8-.78.8-2.07 0-2.86zM5.41 20L4 18.59l7.72-7.72 1.47 1.35L5.41 20z\"/>\n",
              "  </svg>\n",
              "      </button>\n",
              "      \n",
              "  <style>\n",
              "    .colab-df-container {\n",
              "      display:flex;\n",
              "      flex-wrap:wrap;\n",
              "      gap: 12px;\n",
              "    }\n",
              "\n",
              "    .colab-df-convert {\n",
              "      background-color: #E8F0FE;\n",
              "      border: none;\n",
              "      border-radius: 50%;\n",
              "      cursor: pointer;\n",
              "      display: none;\n",
              "      fill: #1967D2;\n",
              "      height: 32px;\n",
              "      padding: 0 0 0 0;\n",
              "      width: 32px;\n",
              "    }\n",
              "\n",
              "    .colab-df-convert:hover {\n",
              "      background-color: #E2EBFA;\n",
              "      box-shadow: 0px 1px 2px rgba(60, 64, 67, 0.3), 0px 1px 3px 1px rgba(60, 64, 67, 0.15);\n",
              "      fill: #174EA6;\n",
              "    }\n",
              "\n",
              "    [theme=dark] .colab-df-convert {\n",
              "      background-color: #3B4455;\n",
              "      fill: #D2E3FC;\n",
              "    }\n",
              "\n",
              "    [theme=dark] .colab-df-convert:hover {\n",
              "      background-color: #434B5C;\n",
              "      box-shadow: 0px 1px 3px 1px rgba(0, 0, 0, 0.15);\n",
              "      filter: drop-shadow(0px 1px 2px rgba(0, 0, 0, 0.3));\n",
              "      fill: #FFFFFF;\n",
              "    }\n",
              "  </style>\n",
              "\n",
              "      <script>\n",
              "        const buttonEl =\n",
              "          document.querySelector('#df-755f6056-b7c9-48fb-b6cf-645017fc2d45 button.colab-df-convert');\n",
              "        buttonEl.style.display =\n",
              "          google.colab.kernel.accessAllowed ? 'block' : 'none';\n",
              "\n",
              "        async function convertToInteractive(key) {\n",
              "          const element = document.querySelector('#df-755f6056-b7c9-48fb-b6cf-645017fc2d45');\n",
              "          const dataTable =\n",
              "            await google.colab.kernel.invokeFunction('convertToInteractive',\n",
              "                                                     [key], {});\n",
              "          if (!dataTable) return;\n",
              "\n",
              "          const docLinkHtml = 'Like what you see? Visit the ' +\n",
              "            '<a target=\"_blank\" href=https://colab.research.google.com/notebooks/data_table.ipynb>data table notebook</a>'\n",
              "            + ' to learn more about interactive tables.';\n",
              "          element.innerHTML = '';\n",
              "          dataTable['output_type'] = 'display_data';\n",
              "          await google.colab.output.renderOutput(dataTable, element);\n",
              "          const docLink = document.createElement('div');\n",
              "          docLink.innerHTML = docLinkHtml;\n",
              "          element.appendChild(docLink);\n",
              "        }\n",
              "      </script>\n",
              "    </div>\n",
              "  </div>\n",
              "  "
            ]
          },
          "metadata": {},
          "execution_count": 62
        }
      ],
      "source": [
        "cnt_MkCity = df.groupby(['City', 'Make']).size().reset_index(name='Count')\n",
        "\n",
        "# Group the data by county and make, and sum the counts for each group\n",
        "grouped_data_cty = cnt_MkCity.groupby(['City', 'Make'])['Count'].sum().reset_index()\n",
        "\n",
        "# Group the data by county and sum the counts for each county\n",
        "city_counts = grouped_data_cty.groupby('City')['Count'].sum().reset_index()\n",
        "make_counts = grouped_data_cty.groupby('Make')['Count'].sum().reset_index()\n",
        "\n",
        "\n",
        "# Sort the counties by count in descending order, and select the top 10\n",
        "top_cities = city_counts.sort_values(by='Count', ascending=False).head(10)\n",
        "top_makes = make_counts.sort_values(by='Count', ascending=False).head(10)\n",
        "\n",
        "\n",
        "# Filter the data to only include the top 10 counties\n",
        "filtered_data_Cty = grouped_data_cty[grouped_data_cty['City'].isin(top_cities['City']) & grouped_data_cty['Make'].isin(top_makes['Make'])]\n",
        "\n",
        "\n",
        "# Pivot the data to create a matrix with counties as rows, makes as columns, and counts as values\n",
        "pivoted_data_cty = filtered_data_Cty.pivot(index='City', columns='Make', values='Count').fillna(0)\n",
        "\n",
        "# Create a stacked bar plot of the pivoted data\n",
        "pivoted_data_cty.plot(kind='bar', stacked=True)\n",
        "\n",
        "# Set the title and axis labels\n",
        "plt.title('Top 10 Make distribution count per top 10 City')\n",
        "plt.xlabel('City')\n",
        "plt.ylabel('Number of Cars')\n",
        "\n",
        "# Show the plot\n",
        "plt.show()\n",
        "\n",
        "\n",
        "pivoted_data_cty.head()\n",
        "\n"
      ]
    },
    {
      "cell_type": "markdown",
      "metadata": {
        "id": "JYUQIAfWJxRN"
      },
      "source": [
        "**Figure-9:** Plot showing Top 10 Make distribution count per top 10 City"
      ]
    },
    {
      "cell_type": "markdown",
      "metadata": {
        "id": "_V-7y5HIJxRN"
      },
      "source": [
        "Answer 3. Here we presents the top 10 cities with top 10 consumed makes. It is clearly shown that TESLA is the number one choice & Nissan is the second in line. Seattle is the city with heighest number of cars"
      ]
    },
    {
      "cell_type": "markdown",
      "metadata": {
        "id": "0x8wkCIwJxRP"
      },
      "source": [
        "Question 4. What are the EVT Distribution count per state?"
      ]
    },
    {
      "cell_type": "code",
      "execution_count": null,
      "metadata": {
        "colab": {
          "base_uri": "https://localhost:8080/",
          "height": 901
        },
        "id": "G4gN6L0IJxRP",
        "outputId": "215d75d2-89c4-4ff8-ad5e-6e95ca8fb5c0"
      },
      "outputs": [
        {
          "output_type": "display_data",
          "data": {
            "text/plain": [
              "<Figure size 1500x600 with 1 Axes>"
            ],
            "image/png": "[encoded data removed]"
          },
          "metadata": {}
        },
        {
          "output_type": "execute_result",
          "data": {
            "text/plain": [
              "  State                   Electric_Vehicle_Type  Count\n",
              "5    CA          Battery Electric Vehicle (BEV)     47\n",
              "6    CA  Plug-in Hybrid Electric Vehicle (PHEV)     25\n",
              "7    CO          Battery Electric Vehicle (BEV)      7\n",
              "3    AZ          Battery Electric Vehicle (BEV)      5\n",
              "2    AR          Battery Electric Vehicle (BEV)      3\n",
              "4    AZ  Plug-in Hybrid Electric Vehicle (PHEV)      2\n",
              "8    CO  Plug-in Hybrid Electric Vehicle (PHEV)      2\n",
              "0    AK  Plug-in Hybrid Electric Vehicle (PHEV)      1\n",
              "1    AL  Plug-in Hybrid Electric Vehicle (PHEV)      1\n",
              "9    CT          Battery Electric Vehicle (BEV)      1"
            ],
            "text/html": [
              "\n",
              "  <div id=\"df-4d55d462-96d9-4ad5-ac46-e68602f4f43e\">\n",
              "    <div class=\"colab-df-container\">\n",
              "      <div>\n",
              "<style scoped>\n",
              "    .dataframe tbody tr th:only-of-type {\n",
              "        vertical-align: middle;\n",
              "    }\n",
              "\n",
              "    .dataframe tbody tr th {\n",
              "        vertical-align: top;\n",
              "    }\n",
              "\n",
              "    .dataframe thead th {\n",
              "        text-align: right;\n",
              "    }\n",
              "</style>\n",
              "<table border=\"1\" class=\"dataframe\">\n",
              "  <thead>\n",
              "    <tr style=\"text-align: right;\">\n",
              "      <th></th>\n",
              "      <th>State</th>\n",
              "      <th>Electric_Vehicle_Type</th>\n",
              "      <th>Count</th>\n",
              "    </tr>\n",
              "  </thead>\n",
              "  <tbody>\n",
              "    <tr>\n",
              "      <th>5</th>\n",
              "      <td>CA</td>\n",
              "      <td>Battery Electric Vehicle (BEV)</td>\n",
              "      <td>47</td>\n",
              "    </tr>\n",
              "    <tr>\n",
              "      <th>6</th>\n",
              "      <td>CA</td>\n",
              "      <td>Plug-in Hybrid Electric Vehicle (PHEV)</td>\n",
              "      <td>25</td>\n",
              "    </tr>\n",
              "    <tr>\n",
              "      <th>7</th>\n",
              "      <td>CO</td>\n",
              "      <td>Battery Electric Vehicle (BEV)</td>\n",
              "      <td>7</td>\n",
              "    </tr>\n",
              "    <tr>\n",
              "      <th>3</th>\n",
              "      <td>AZ</td>\n",
              "      <td>Battery Electric Vehicle (BEV)</td>\n",
              "      <td>5</td>\n",
              "    </tr>\n",
              "    <tr>\n",
              "      <th>2</th>\n",
              "      <td>AR</td>\n",
              "      <td>Battery Electric Vehicle (BEV)</td>\n",
              "      <td>3</td>\n",
              "    </tr>\n",
              "    <tr>\n",
              "      <th>4</th>\n",
              "      <td>AZ</td>\n",
              "      <td>Plug-in Hybrid Electric Vehicle (PHEV)</td>\n",
              "      <td>2</td>\n",
              "    </tr>\n",
              "    <tr>\n",
              "      <th>8</th>\n",
              "      <td>CO</td>\n",
              "      <td>Plug-in Hybrid Electric Vehicle (PHEV)</td>\n",
              "      <td>2</td>\n",
              "    </tr>\n",
              "    <tr>\n",
              "      <th>0</th>\n",
              "      <td>AK</td>\n",
              "      <td>Plug-in Hybrid Electric Vehicle (PHEV)</td>\n",
              "      <td>1</td>\n",
              "    </tr>\n",
              "    <tr>\n",
              "      <th>1</th>\n",
              "      <td>AL</td>\n",
              "      <td>Plug-in Hybrid Electric Vehicle (PHEV)</td>\n",
              "      <td>1</td>\n",
              "    </tr>\n",
              "    <tr>\n",
              "      <th>9</th>\n",
              "      <td>CT</td>\n",
              "      <td>Battery Electric Vehicle (BEV)</td>\n",
              "      <td>1</td>\n",
              "    </tr>\n",
              "  </tbody>\n",
              "</table>\n",
              "</div>\n",
              "      <button class=\"colab-df-convert\" onclick=\"convertToInteractive('df-4d55d462-96d9-4ad5-ac46-e68602f4f43e')\"\n",
              "              title=\"Convert this dataframe to an interactive table.\"\n",
              "              style=\"display:none;\">\n",
              "        \n",
              "  <svg xmlns=\"http://www.w3.org/2000/svg\" height=\"24px\"viewBox=\"0 0 24 24\"\n",
              "       width=\"24px\">\n",
              "    <path d=\"M0 0h24v24H0V0z\" fill=\"none\"/>\n",
              "    <path d=\"M18.56 5.44l.94 2.06.94-2.06 2.06-.94-2.06-.94-.94-2.06-.94 2.06-2.06.94zm-11 1L8.5 8.5l.94-2.06 2.06-.94-2.06-.94L8.5 2.5l-.94 2.06-2.06.94zm10 10l.94 2.06.94-2.06 2.06-.94-2.06-.94-.94-2.06-.94 2.06-2.06.94z\"/><path d=\"M17.41 7.96l-1.37-1.37c-.4-.4-.92-.59-1.43-.59-.52 0-1.04.2-1.43.59L10.3 9.45l-7.72 7.72c-.78.78-.78 2.05 0 2.83L4 21.41c.39.39.9.59 1.41.59.51 0 1.02-.2 1.41-.59l7.78-7.78 2.81-2.81c.8-.78.8-2.07 0-2.86zM5.41 20L4 18.59l7.72-7.72 1.47 1.35L5.41 20z\"/>\n",
              "  </svg>\n",
              "      </button>\n",
              "      \n",
              "  <style>\n",
              "    .colab-df-container {\n",
              "      display:flex;\n",
              "      flex-wrap:wrap;\n",
              "      gap: 12px;\n",
              "    }\n",
              "\n",
              "    .colab-df-convert {\n",
              "      background-color: #E8F0FE;\n",
              "      border: none;\n",
              "      border-radius: 50%;\n",
              "      cursor: pointer;\n",
              "      display: none;\n",
              "      fill: #1967D2;\n",
              "      height: 32px;\n",
              "      padding: 0 0 0 0;\n",
              "      width: 32px;\n",
              "    }\n",
              "\n",
              "    .colab-df-convert:hover {\n",
              "      background-color: #E2EBFA;\n",
              "      box-shadow: 0px 1px 2px rgba(60, 64, 67, 0.3), 0px 1px 3px 1px rgba(60, 64, 67, 0.15);\n",
              "      fill: #174EA6;\n",
              "    }\n",
              "\n",
              "    [theme=dark] .colab-df-convert {\n",
              "      background-color: #3B4455;\n",
              "      fill: #D2E3FC;\n",
              "    }\n",
              "\n",
              "    [theme=dark] .colab-df-convert:hover {\n",
              "      background-color: #434B5C;\n",
              "      box-shadow: 0px 1px 3px 1px rgba(0, 0, 0, 0.15);\n",
              "      filter: drop-shadow(0px 1px 2px rgba(0, 0, 0, 0.3));\n",
              "      fill: #FFFFFF;\n",
              "    }\n",
              "  </style>\n",
              "\n",
              "      <script>\n",
              "        const buttonEl =\n",
              "          document.querySelector('#df-4d55d462-96d9-4ad5-ac46-e68602f4f43e button.colab-df-convert');\n",
              "        buttonEl.style.display =\n",
              "          google.colab.kernel.accessAllowed ? 'block' : 'none';\n",
              "\n",
              "        async function convertToInteractive(key) {\n",
              "          const element = document.querySelector('#df-4d55d462-96d9-4ad5-ac46-e68602f4f43e');\n",
              "          const dataTable =\n",
              "            await google.colab.kernel.invokeFunction('convertToInteractive',\n",
              "                                                     [key], {});\n",
              "          if (!dataTable) return;\n",
              "\n",
              "          const docLinkHtml = 'Like what you see? Visit the ' +\n",
              "            '<a target=\"_blank\" href=https://colab.research.google.com/notebooks/data_table.ipynb>data table notebook</a>'\n",
              "            + ' to learn more about interactive tables.';\n",
              "          element.innerHTML = '';\n",
              "          dataTable['output_type'] = 'display_data';\n",
              "          await google.colab.output.renderOutput(dataTable, element);\n",
              "          const docLink = document.createElement('div');\n",
              "          docLink.innerHTML = docLinkHtml;\n",
              "          element.appendChild(docLink);\n",
              "        }\n",
              "      </script>\n",
              "    </div>\n",
              "  </div>\n",
              "  "
            ]
          },
          "metadata": {},
          "execution_count": 69
        }
      ],
      "source": [
        "## EVT Distribution count per state\n",
        "colors = ['green', 'pink']\n",
        "evt_Dis_cnt = df.groupby(['State', 'Electric_Vehicle_Type']).size().reset_index(name='Count')\n",
        "evt_Dis_cnt.groupby(['State', 'Electric_Vehicle_Type'])['Count'].count().unstack().plot(kind='bar', stacked=True,color=colors)\n",
        "\n",
        "# Move legend outside of plot\n",
        "plt.legend(bbox_to_anchor=(1.01, 1), loc='upper left')\n",
        "\n",
        "plt.show()\n",
        "\n",
        "evt_Dis_cnt.head(10).sort_values(by='Count', ascending=False)\n"
      ]
    },
    {
      "cell_type": "markdown",
      "metadata": {
        "id": "zmnOj5nbJxRP"
      },
      "source": [
        "**Figure-10:** Plot showing EVT Distribution count per state"
      ]
    },
    {
      "cell_type": "markdown",
      "metadata": {
        "id": "qm8cbGbkJxRP"
      },
      "source": [
        "Answer 4. Very useful insights from amrketing POV., there is a high potential of BEV's makers to promote BEVs in states like AK & AL.,\n",
        "On the other side Arizona has a big market waiting for PHEV vehicles"
      ]
    },
    {
      "cell_type": "markdown",
      "metadata": {
        "id": "UaPFLL_QJxRP"
      },
      "source": [
        "Question 5.  What are the Electric Utility Distribution in top 10 cities with highest number of cars?"
      ]
    },
    {
      "cell_type": "code",
      "execution_count": null,
      "metadata": {
        "colab": {
          "base_uri": "https://localhost:8080/",
          "height": 1000
        },
        "id": "Zj9CAHHMJxRQ",
        "outputId": "8f58b0a1-062b-4aaf-b7b9-824b7b3e0958"
      },
      "outputs": [
        {
          "output_type": "display_data",
          "data": {
            "text/plain": [
              "<Figure size 1500x600 with 1 Axes>"
            ],
            "image/png": "[encoded data removed]"
          },
          "metadata": {}
        },
        {
          "output_type": "execute_result",
          "data": {
            "text/plain": [
              "Electric_Utility_Category  Multi type Utilities  Not Available  \\\n",
              "City                                                             \n",
              "Auburn                                   1131.0            0.0   \n",
              "Bainbridge Island                           0.0           12.0   \n",
              "Bellevue                                 5750.0            1.0   \n",
              "Bellingham                               1898.0            0.0   \n",
              "Bothell                                   710.0            0.0   \n",
              "Bremerton                                   0.0            0.0   \n",
              "Camas                                     984.0            0.0   \n",
              "Edmonds                                     0.0            3.0   \n",
              "Everett                                     2.0            0.0   \n",
              "Federal Way                               827.0            0.0   \n",
              "\n",
              "Electric_Utility_Category  Only One Option  Single Type Utilities  \n",
              "City                                                               \n",
              "Auburn                                 0.0                    0.0  \n",
              "Bainbridge Island                   1191.0                    0.0  \n",
              "Bellevue                               0.0                    0.0  \n",
              "Bellingham                             7.0                    0.0  \n",
              "Bothell                             2500.0                    0.0  \n",
              "Bremerton                            797.0                    0.0  \n",
              "Camas                                  0.0                    0.0  \n",
              "Edmonds                             1257.0                    0.0  \n",
              "Everett                             1423.0                    0.0  \n",
              "Federal Way                            0.0                    0.0  "
            ],
            "text/html": [
              "\n",
              "  <div id=\"df-95780512-26e9-44ea-88a5-fdd5ab6dc37d\">\n",
              "    <div class=\"colab-df-container\">\n",
              "      <div>\n",
              "<style scoped>\n",
              "    .dataframe tbody tr th:only-of-type {\n",
              "        vertical-align: middle;\n",
              "    }\n",
              "\n",
              "    .dataframe tbody tr th {\n",
              "        vertical-align: top;\n",
              "    }\n",
              "\n",
              "    .dataframe thead th {\n",
              "        text-align: right;\n",
              "    }\n",
              "</style>\n",
              "<table border=\"1\" class=\"dataframe\">\n",
              "  <thead>\n",
              "    <tr style=\"text-align: right;\">\n",
              "      <th>Electric_Utility_Category</th>\n",
              "      <th>Multi type Utilities</th>\n",
              "      <th>Not Available</th>\n",
              "      <th>Only One Option</th>\n",
              "      <th>Single Type Utilities</th>\n",
              "    </tr>\n",
              "    <tr>\n",
              "      <th>City</th>\n",
              "      <th></th>\n",
              "      <th></th>\n",
              "      <th></th>\n",
              "      <th></th>\n",
              "    </tr>\n",
              "  </thead>\n",
              "  <tbody>\n",
              "    <tr>\n",
              "      <th>Auburn</th>\n",
              "      <td>1131.0</td>\n",
              "      <td>0.0</td>\n",
              "      <td>0.0</td>\n",
              "      <td>0.0</td>\n",
              "    </tr>\n",
              "    <tr>\n",
              "      <th>Bainbridge Island</th>\n",
              "      <td>0.0</td>\n",
              "      <td>12.0</td>\n",
              "      <td>1191.0</td>\n",
              "      <td>0.0</td>\n",
              "    </tr>\n",
              "    <tr>\n",
              "      <th>Bellevue</th>\n",
              "      <td>5750.0</td>\n",
              "      <td>1.0</td>\n",
              "      <td>0.0</td>\n",
              "      <td>0.0</td>\n",
              "    </tr>\n",
              "    <tr>\n",
              "      <th>Bellingham</th>\n",
              "      <td>1898.0</td>\n",
              "      <td>0.0</td>\n",
              "      <td>7.0</td>\n",
              "      <td>0.0</td>\n",
              "    </tr>\n",
              "    <tr>\n",
              "      <th>Bothell</th>\n",
              "      <td>710.0</td>\n",
              "      <td>0.0</td>\n",
              "      <td>2500.0</td>\n",
              "      <td>0.0</td>\n",
              "    </tr>\n",
              "    <tr>\n",
              "      <th>Bremerton</th>\n",
              "      <td>0.0</td>\n",
              "      <td>0.0</td>\n",
              "      <td>797.0</td>\n",
              "      <td>0.0</td>\n",
              "    </tr>\n",
              "    <tr>\n",
              "      <th>Camas</th>\n",
              "      <td>984.0</td>\n",
              "      <td>0.0</td>\n",
              "      <td>0.0</td>\n",
              "      <td>0.0</td>\n",
              "    </tr>\n",
              "    <tr>\n",
              "      <th>Edmonds</th>\n",
              "      <td>0.0</td>\n",
              "      <td>3.0</td>\n",
              "      <td>1257.0</td>\n",
              "      <td>0.0</td>\n",
              "    </tr>\n",
              "    <tr>\n",
              "      <th>Everett</th>\n",
              "      <td>2.0</td>\n",
              "      <td>0.0</td>\n",
              "      <td>1423.0</td>\n",
              "      <td>0.0</td>\n",
              "    </tr>\n",
              "    <tr>\n",
              "      <th>Federal Way</th>\n",
              "      <td>827.0</td>\n",
              "      <td>0.0</td>\n",
              "      <td>0.0</td>\n",
              "      <td>0.0</td>\n",
              "    </tr>\n",
              "  </tbody>\n",
              "</table>\n",
              "</div>\n",
              "      <button class=\"colab-df-convert\" onclick=\"convertToInteractive('df-95780512-26e9-44ea-88a5-fdd5ab6dc37d')\"\n",
              "              title=\"Convert this dataframe to an interactive table.\"\n",
              "              style=\"display:none;\">\n",
              "        \n",
              "  <svg xmlns=\"http://www.w3.org/2000/svg\" height=\"24px\"viewBox=\"0 0 24 24\"\n",
              "       width=\"24px\">\n",
              "    <path d=\"M0 0h24v24H0V0z\" fill=\"none\"/>\n",
              "    <path d=\"M18.56 5.44l.94 2.06.94-2.06 2.06-.94-2.06-.94-.94-2.06-.94 2.06-2.06.94zm-11 1L8.5 8.5l.94-2.06 2.06-.94-2.06-.94L8.5 2.5l-.94 2.06-2.06.94zm10 10l.94 2.06.94-2.06 2.06-.94-2.06-.94-.94-2.06-.94 2.06-2.06.94z\"/><path d=\"M17.41 7.96l-1.37-1.37c-.4-.4-.92-.59-1.43-.59-.52 0-1.04.2-1.43.59L10.3 9.45l-7.72 7.72c-.78.78-.78 2.05 0 2.83L4 21.41c.39.39.9.59 1.41.59.51 0 1.02-.2 1.41-.59l7.78-7.78 2.81-2.81c.8-.78.8-2.07 0-2.86zM5.41 20L4 18.59l7.72-7.72 1.47 1.35L5.41 20z\"/>\n",
              "  </svg>\n",
              "      </button>\n",
              "      \n",
              "  <style>\n",
              "    .colab-df-container {\n",
              "      display:flex;\n",
              "      flex-wrap:wrap;\n",
              "      gap: 12px;\n",
              "    }\n",
              "\n",
              "    .colab-df-convert {\n",
              "      background-color: #E8F0FE;\n",
              "      border: none;\n",
              "      border-radius: 50%;\n",
              "      cursor: pointer;\n",
              "      display: none;\n",
              "      fill: #1967D2;\n",
              "      height: 32px;\n",
              "      padding: 0 0 0 0;\n",
              "      width: 32px;\n",
              "    }\n",
              "\n",
              "    .colab-df-convert:hover {\n",
              "      background-color: #E2EBFA;\n",
              "      box-shadow: 0px 1px 2px rgba(60, 64, 67, 0.3), 0px 1px 3px 1px rgba(60, 64, 67, 0.15);\n",
              "      fill: #174EA6;\n",
              "    }\n",
              "\n",
              "    [theme=dark] .colab-df-convert {\n",
              "      background-color: #3B4455;\n",
              "      fill: #D2E3FC;\n",
              "    }\n",
              "\n",
              "    [theme=dark] .colab-df-convert:hover {\n",
              "      background-color: #434B5C;\n",
              "      box-shadow: 0px 1px 3px 1px rgba(0, 0, 0, 0.15);\n",
              "      filter: drop-shadow(0px 1px 2px rgba(0, 0, 0, 0.3));\n",
              "      fill: #FFFFFF;\n",
              "    }\n",
              "  </style>\n",
              "\n",
              "      <script>\n",
              "        const buttonEl =\n",
              "          document.querySelector('#df-95780512-26e9-44ea-88a5-fdd5ab6dc37d button.colab-df-convert');\n",
              "        buttonEl.style.display =\n",
              "          google.colab.kernel.accessAllowed ? 'block' : 'none';\n",
              "\n",
              "        async function convertToInteractive(key) {\n",
              "          const element = document.querySelector('#df-95780512-26e9-44ea-88a5-fdd5ab6dc37d');\n",
              "          const dataTable =\n",
              "            await google.colab.kernel.invokeFunction('convertToInteractive',\n",
              "                                                     [key], {});\n",
              "          if (!dataTable) return;\n",
              "\n",
              "          const docLinkHtml = 'Like what you see? Visit the ' +\n",
              "            '<a target=\"_blank\" href=https://colab.research.google.com/notebooks/data_table.ipynb>data table notebook</a>'\n",
              "            + ' to learn more about interactive tables.';\n",
              "          element.innerHTML = '';\n",
              "          dataTable['output_type'] = 'display_data';\n",
              "          await google.colab.output.renderOutput(dataTable, element);\n",
              "          const docLink = document.createElement('div');\n",
              "          docLink.innerHTML = docLinkHtml;\n",
              "          element.appendChild(docLink);\n",
              "        }\n",
              "      </script>\n",
              "    </div>\n",
              "  </div>\n",
              "  "
            ]
          },
          "metadata": {},
          "execution_count": 46
        }
      ],
      "source": [
        "colors=('green','red','yellow','pink')\n",
        "cnt_Cty_EUD = df.groupby(['City', 'Electric_Utility_Category']).size().reset_index(name='Count')\n",
        "\n",
        "# Group the data by county and make, and sum the counts for each group\n",
        "grouped_data_Cty_EUD = cnt_Cty_EUD.groupby(['City', 'Electric_Utility_Category'])['Count'].sum().reset_index()\n",
        "\n",
        "# Group the data by county and sum the counts for each county\n",
        "Cty_EUD_counts = grouped_data_Cty_EUD.groupby('City')['Count'].sum().reset_index()\n",
        "# make_counts = grouped_data_St.groupby('Make')['Count'].sum().reset_index()\n",
        "\n",
        "\n",
        "# Sort the counties by count in descending order, and select the top 10\n",
        "top_Cty_EUD_counts = Cty_EUD_counts.sort_values(by='Count', ascending=False).head(30)\n",
        "# top_makes = make_counts.sort_values(by='Count', ascending=False).head(10)\n",
        "\n",
        "\n",
        "# Filter the data to only include the top 10 counties\n",
        "filtered_data_Cty_EUD = grouped_data_Cty_EUD[grouped_data_Cty_EUD['City'].isin(top_Cty_EUD_counts['City'])]\n",
        "\n",
        "\n",
        "# Pivot the data to create a matrix with counties as rows, makes as columns, and counts as values\n",
        "pivoted_data_Cty_EUD = filtered_data_Cty_EUD.pivot(index='City', columns='Electric_Utility_Category', values='Count').fillna(0)\n",
        "\n",
        "# Create a stacked bar plot of the pivoted data\n",
        "pivoted_data_Cty_EUD.plot(kind='bar', stacked=True,color=colors)\n",
        "\n",
        "# Set the title and axis labels\n",
        "plt.title('Electric Utility Distribution in top 10 cities with highest number of cars')\n",
        "# plt.yscale('log')\n",
        "plt.xlabel('City')\n",
        "plt.ylabel('Number of EUC')\n",
        "\n",
        "# Show the plot\n",
        "plt.show()\n",
        "\n",
        "\n",
        "pivoted_data_Cty_EUD.head(10)\n",
        "\n"
      ]
    },
    {
      "cell_type": "markdown",
      "metadata": {
        "id": "0FhcIgPBJxRQ"
      },
      "source": [
        "**Figure-11:** Plot showing Electric Utility Distribution in top 10 cities with highest number of cars"
      ]
    },
    {
      "cell_type": "markdown",
      "metadata": {
        "id": "PTt2v2pDJxRQ"
      },
      "source": [
        "Answer 5. Seattle has a big market opportunity for other utiilites offering"
      ]
    },
    {
      "cell_type": "markdown",
      "metadata": {
        "id": "DVtIkSXwJxRR"
      },
      "source": [
        "Question 6. What are the Distances Travel by vehicle make per electric charge?"
      ]
    },
    {
      "cell_type": "code",
      "execution_count": null,
      "metadata": {
        "colab": {
          "base_uri": "https://localhost:8080/",
          "height": 542
        },
        "id": "R_xFIl_vJxRS",
        "outputId": "1f8b9aa5-9076-477e-a802-9f100576467f"
      },
      "outputs": [
        {
          "output_type": "display_data",
          "data": {
            "text/html": [
              "<html>\n",
              "<head><meta charset=\"utf-8\" /></head>\n",
              "<body>\n",
              "    <div>            <script src=\"https://cdnjs.cloudflare.com/ajax/libs/mathjax/2.7.5/MathJax.js?config=TeX-AMS-MML_SVG\"></script><script type=\"text/javascript\">if (window.MathJax && window.MathJax.Hub && window.MathJax.Hub.Config) {window.MathJax.Hub.Config({SVG: {font: \"STIX-Web\"}});}</script>                <script type=\"text/javascript\">window.PlotlyConfig = {MathJaxConfig: 'local'};</script>\n",
              "        <script src=\"https://cdn.plot.ly/plotly-2.18.2.min.js\"></script>                <div id=\"6155f0b2-61bc-4504-8b2e-fdbeabf47511\" class=\"plotly-graph-div\" style=\"height:525px; width:100%;\"></div>            <script type=\"text/javascript\">                                    window.PLOTLYENV=window.PLOTLYENV || {};                                    if (document.getElementById(\"6155f0b2-61bc-4504-8b2e-fdbeabf47511\")) {                    Plotly.newPlot(                        \"6155f0b2-61bc-4504-8b2e-fdbeabf47511\",                        [{\"domain\":{\"x\":[0.0,1.0],\"y\":[0.0,1.0]},\"hole\":true,\"hovertemplate\":\"<b>%{hovertext}</b><br><br>model=%{label}<br>km_range=%{value}<extra></extra>\",\"hovertext\":[206.59459459459458,122.79518241159745,111.28375558867363,100.0,89.99198318804483,85.62043795620438,69.4016,63.47171453437772,62.24542124542125,56.0],\"labels\":[\"JAGUAR\",\"TESLA\",\"CHEVROLET\",\"TH!NK\",\"NISSAN\",\"FIAT\",\"KIA\",\"AUDI\",\"SMART\",\"AZURE DYNAMICS\"],\"legendgroup\":\"\",\"name\":\"\",\"showlegend\":true,\"values\":[206.59459459459458,122.79518241159745,111.28375558867363,100.0,89.99198318804483,85.62043795620438,69.4016,63.47171453437772,62.24542124542125,56.0],\"type\":\"pie\"}],                        {\"template\":{\"data\":{\"histogram2dcontour\":[{\"type\":\"histogram2dcontour\",\"colorbar\":{\"outlinewidth\":0,\"ticks\":\"\"},\"colorscale\":[[0.0,\"#0d0887\"],[0.1111111111111111,\"#46039f\"],[0.2222222222222222,\"#7201a8\"],[0.3333333333333333,\"#9c179e\"],[0.4444444444444444,\"#bd3786\"],[0.5555555555555556,\"#d8576b\"],[0.6666666666666666,\"#ed7953\"],[0.7777777777777778,\"#fb9f3a\"],[0.8888888888888888,\"#fdca26\"],[1.0,\"#f0f921\"]]}],\"choropleth\":[{\"type\":\"choropleth\",\"colorbar\":{\"outlinewidth\":0,\"ticks\":\"\"}}],\"histogram2d\":[{\"type\":\"histogram2d\",\"colorbar\":{\"outlinewidth\":0,\"ticks\":\"\"},\"colorscale\":[[0.0,\"#0d0887\"],[0.1111111111111111,\"#46039f\"],[0.2222222222222222,\"#7201a8\"],[0.3333333333333333,\"#9c179e\"],[0.4444444444444444,\"#bd3786\"],[0.5555555555555556,\"#d8576b\"],[0.6666666666666666,\"#ed7953\"],[0.7777777777777778,\"#fb9f3a\"],[0.8888888888888888,\"#fdca26\"],[1.0,\"#f0f921\"]]}],\"heatmap\":[{\"type\":\"heatmap\",\"colorbar\":{\"outlinewidth\":0,\"ticks\":\"\"},\"colorscale\":[[0.0,\"#0d0887\"],[0.1111111111111111,\"#46039f\"],[0.2222222222222222,\"#7201a8\"],[0.3333333333333333,\"#9c179e\"],[0.4444444444444444,\"#bd3786\"],[0.5555555555555556,\"#d8576b\"],[0.6666666666666666,\"#ed7953\"],[0.7777777777777778,\"#fb9f3a\"],[0.8888888888888888,\"#fdca26\"],[1.0,\"#f0f921\"]]}],\"heatmapgl\":[{\"type\":\"heatmapgl\",\"colorbar\":{\"outlinewidth\":0,\"ticks\":\"\"},\"colorscale\":[[0.0,\"#0d0887\"],[0.1111111111111111,\"#46039f\"],[0.2222222222222222,\"#7201a8\"],[0.3333333333333333,\"#9c179e\"],[0.4444444444444444,\"#bd3786\"],[0.5555555555555556,\"#d8576b\"],[0.6666666666666666,\"#ed7953\"],[0.7777777777777778,\"#fb9f3a\"],[0.8888888888888888,\"#fdca26\"],[1.0,\"#f0f921\"]]}],\"contourcarpet\":[{\"type\":\"contourcarpet\",\"colorbar\":{\"outlinewidth\":0,\"ticks\":\"\"}}],\"contour\":[{\"type\":\"contour\",\"colorbar\":{\"outlinewidth\":0,\"ticks\":\"\"},\"colorscale\":[[0.0,\"#0d0887\"],[0.1111111111111111,\"#46039f\"],[0.2222222222222222,\"#7201a8\"],[0.3333333333333333,\"#9c179e\"],[0.4444444444444444,\"#bd3786\"],[0.5555555555555556,\"#d8576b\"],[0.6666666666666666,\"#ed7953\"],[0.7777777777777778,\"#fb9f3a\"],[0.8888888888888888,\"#fdca26\"],[1.0,\"#f0f921\"]]}],\"surface\":[{\"type\":\"surface\",\"colorbar\":{\"outlinewidth\":0,\"ticks\":\"\"},\"colorscale\":[[0.0,\"#0d0887\"],[0.1111111111111111,\"#46039f\"],[0.2222222222222222,\"#7201a8\"],[0.3333333333333333,\"#9c179e\"],[0.4444444444444444,\"#bd3786\"],[0.5555555555555556,\"#d8576b\"],[0.6666666666666666,\"#ed7953\"],[0.7777777777777778,\"#fb9f3a\"],[0.8888888888888888,\"#fdca26\"],[1.0,\"#f0f921\"]]}],\"mesh3d\":[{\"type\":\"mesh3d\",\"colorbar\":{\"outlinewidth\":0,\"ticks\":\"\"}}],\"scatter\":[{\"fillpattern\":{\"fillmode\":\"overlay\",\"size\":10,\"solidity\":0.2},\"type\":\"scatter\"}],\"parcoords\":[{\"type\":\"parcoords\",\"line\":{\"colorbar\":{\"outlinewidth\":0,\"ticks\":\"\"}}}],\"scatterpolargl\":[{\"type\":\"scatterpolargl\",\"marker\":{\"colorbar\":{\"outlinewidth\":0,\"ticks\":\"\"}}}],\"bar\":[{\"error_x\":{\"color\":\"#2a3f5f\"},\"error_y\":{\"color\":\"#2a3f5f\"},\"marker\":{\"line\":{\"color\":\"#E5ECF6\",\"width\":0.5},\"pattern\":{\"fillmode\":\"overlay\",\"size\":10,\"solidity\":0.2}},\"type\":\"bar\"}],\"scattergeo\":[{\"type\":\"scattergeo\",\"marker\":{\"colorbar\":{\"outlinewidth\":0,\"ticks\":\"\"}}}],\"scatterpolar\":[{\"type\":\"scatterpolar\",\"marker\":{\"colorbar\":{\"outlinewidth\":0,\"ticks\":\"\"}}}],\"histogram\":[{\"marker\":{\"pattern\":{\"fillmode\":\"overlay\",\"size\":10,\"solidity\":0.2}},\"type\":\"histogram\"}],\"scattergl\":[{\"type\":\"scattergl\",\"marker\":{\"colorbar\":{\"outlinewidth\":0,\"ticks\":\"\"}}}],\"scatter3d\":[{\"type\":\"scatter3d\",\"line\":{\"colorbar\":{\"outlinewidth\":0,\"ticks\":\"\"}},\"marker\":{\"colorbar\":{\"outlinewidth\":0,\"ticks\":\"\"}}}],\"scattermapbox\":[{\"type\":\"scattermapbox\",\"marker\":{\"colorbar\":{\"outlinewidth\":0,\"ticks\":\"\"}}}],\"scatterternary\":[{\"type\":\"scatterternary\",\"marker\":{\"colorbar\":{\"outlinewidth\":0,\"ticks\":\"\"}}}],\"scattercarpet\":[{\"type\":\"scattercarpet\",\"marker\":{\"colorbar\":{\"outlinewidth\":0,\"ticks\":\"\"}}}],\"carpet\":[{\"aaxis\":{\"endlinecolor\":\"#2a3f5f\",\"gridcolor\":\"white\",\"linecolor\":\"white\",\"minorgridcolor\":\"white\",\"startlinecolor\":\"#2a3f5f\"},\"baxis\":{\"endlinecolor\":\"#2a3f5f\",\"gridcolor\":\"white\",\"linecolor\":\"white\",\"minorgridcolor\":\"white\",\"startlinecolor\":\"#2a3f5f\"},\"type\":\"carpet\"}],\"table\":[{\"cells\":{\"fill\":{\"color\":\"#EBF0F8\"},\"line\":{\"color\":\"white\"}},\"header\":{\"fill\":{\"color\":\"#C8D4E3\"},\"line\":{\"color\":\"white\"}},\"type\":\"table\"}],\"barpolar\":[{\"marker\":{\"line\":{\"color\":\"#E5ECF6\",\"width\":0.5},\"pattern\":{\"fillmode\":\"overlay\",\"size\":10,\"solidity\":0.2}},\"type\":\"barpolar\"}],\"pie\":[{\"automargin\":true,\"type\":\"pie\"}]},\"layout\":{\"autotypenumbers\":\"strict\",\"colorway\":[\"#636efa\",\"#EF553B\",\"#00cc96\",\"#ab63fa\",\"#FFA15A\",\"#19d3f3\",\"#FF6692\",\"#B6E880\",\"#FF97FF\",\"#FECB52\"],\"font\":{\"color\":\"#2a3f5f\"},\"hovermode\":\"closest\",\"hoverlabel\":{\"align\":\"left\"},\"paper_bgcolor\":\"white\",\"plot_bgcolor\":\"#E5ECF6\",\"polar\":{\"bgcolor\":\"#E5ECF6\",\"angularaxis\":{\"gridcolor\":\"white\",\"linecolor\":\"white\",\"ticks\":\"\"},\"radialaxis\":{\"gridcolor\":\"white\",\"linecolor\":\"white\",\"ticks\":\"\"}},\"ternary\":{\"bgcolor\":\"#E5ECF6\",\"aaxis\":{\"gridcolor\":\"white\",\"linecolor\":\"white\",\"ticks\":\"\"},\"baxis\":{\"gridcolor\":\"white\",\"linecolor\":\"white\",\"ticks\":\"\"},\"caxis\":{\"gridcolor\":\"white\",\"linecolor\":\"white\",\"ticks\":\"\"}},\"coloraxis\":{\"colorbar\":{\"outlinewidth\":0,\"ticks\":\"\"}},\"colorscale\":{\"sequential\":[[0.0,\"#0d0887\"],[0.1111111111111111,\"#46039f\"],[0.2222222222222222,\"#7201a8\"],[0.3333333333333333,\"#9c179e\"],[0.4444444444444444,\"#bd3786\"],[0.5555555555555556,\"#d8576b\"],[0.6666666666666666,\"#ed7953\"],[0.7777777777777778,\"#fb9f3a\"],[0.8888888888888888,\"#fdca26\"],[1.0,\"#f0f921\"]],\"sequentialminus\":[[0.0,\"#0d0887\"],[0.1111111111111111,\"#46039f\"],[0.2222222222222222,\"#7201a8\"],[0.3333333333333333,\"#9c179e\"],[0.4444444444444444,\"#bd3786\"],[0.5555555555555556,\"#d8576b\"],[0.6666666666666666,\"#ed7953\"],[0.7777777777777778,\"#fb9f3a\"],[0.8888888888888888,\"#fdca26\"],[1.0,\"#f0f921\"]],\"diverging\":[[0,\"#8e0152\"],[0.1,\"#c51b7d\"],[0.2,\"#de77ae\"],[0.3,\"#f1b6da\"],[0.4,\"#fde0ef\"],[0.5,\"#f7f7f7\"],[0.6,\"#e6f5d0\"],[0.7,\"#b8e186\"],[0.8,\"#7fbc41\"],[0.9,\"#4d9221\"],[1,\"#276419\"]]},\"xaxis\":{\"gridcolor\":\"white\",\"linecolor\":\"white\",\"ticks\":\"\",\"title\":{\"standoff\":15},\"zerolinecolor\":\"white\",\"automargin\":true,\"zerolinewidth\":2},\"yaxis\":{\"gridcolor\":\"white\",\"linecolor\":\"white\",\"ticks\":\"\",\"title\":{\"standoff\":15},\"zerolinecolor\":\"white\",\"automargin\":true,\"zerolinewidth\":2},\"scene\":{\"xaxis\":{\"backgroundcolor\":\"#E5ECF6\",\"gridcolor\":\"white\",\"linecolor\":\"white\",\"showbackground\":true,\"ticks\":\"\",\"zerolinecolor\":\"white\",\"gridwidth\":2},\"yaxis\":{\"backgroundcolor\":\"#E5ECF6\",\"gridcolor\":\"white\",\"linecolor\":\"white\",\"showbackground\":true,\"ticks\":\"\",\"zerolinecolor\":\"white\",\"gridwidth\":2},\"zaxis\":{\"backgroundcolor\":\"#E5ECF6\",\"gridcolor\":\"white\",\"linecolor\":\"white\",\"showbackground\":true,\"ticks\":\"\",\"zerolinecolor\":\"white\",\"gridwidth\":2}},\"shapedefaults\":{\"line\":{\"color\":\"#2a3f5f\"}},\"annotationdefaults\":{\"arrowcolor\":\"#2a3f5f\",\"arrowhead\":0,\"arrowwidth\":1},\"geo\":{\"bgcolor\":\"white\",\"landcolor\":\"#E5ECF6\",\"subunitcolor\":\"white\",\"showland\":true,\"showlakes\":true,\"lakecolor\":\"white\"},\"title\":{\"x\":0.05},\"mapbox\":{\"style\":\"light\"}}},\"legend\":{\"tracegroupgap\":0},\"title\":{\"text\":\"Top 10 Model with KM range\"}},                        {\"responsive\": true}                    ).then(function(){\n",
              "                            \n",
              "var gd = document.getElementById('6155f0b2-61bc-4504-8b2e-fdbeabf47511');\n",
              "var x = new MutationObserver(function (mutations, observer) {{\n",
              "        var display = window.getComputedStyle(gd).display;\n",
              "        if (!display || display === 'none') {{\n",
              "            console.log([gd, 'removed!']);\n",
              "            Plotly.purge(gd);\n",
              "            observer.disconnect();\n",
              "        }}\n",
              "}});\n",
              "\n",
              "// Listen for the removal of the full notebook cells\n",
              "var notebookContainer = gd.closest('#notebook-container');\n",
              "if (notebookContainer) {{\n",
              "    x.observe(notebookContainer, {childList: true});\n",
              "}}\n",
              "\n",
              "// Listen for the clearing of the current output cell\n",
              "var outputEl = gd.closest('.output');\n",
              "if (outputEl) {{\n",
              "    x.observe(outputEl, {childList: true});\n",
              "}}\n",
              "\n",
              "                        })                };                            </script>        </div>\n",
              "</body>\n",
              "</html>"
            ]
          },
          "metadata": {}
        }
      ],
      "source": [
        "import plotly.express as ps\n",
        "km_range = pd.DataFrame(df.groupby('Make')['Electric_Range'].mean().reset_index()).sort_values(by='Electric_Range',ascending=False).reset_index(drop=True).head(10)\n",
        "km_range.columns = ['model','km_range']\n",
        "ps.pie(data_frame=km_range, names='model', values='km_range', hover_name='km_range',title='Top 10 Model with KM range',hole=True)"
      ]
    },
    {
      "cell_type": "markdown",
      "metadata": {
        "id": "gNK_7mkwJxRS"
      },
      "source": [
        "**Figure-12:** Plot showing Distances Travel by vehicle make per electric charge"
      ]
    },
    {
      "cell_type": "markdown",
      "metadata": {
        "id": "MEppSawpJxRS"
      },
      "source": [
        "Answer 6. Now here is an interesting insight. TESLA being the market leader is far behind when it comes to distance travelled by its vehicles per charge"
      ]
    },
    {
      "cell_type": "markdown",
      "metadata": {
        "id": "CIjm9SpxJxRS"
      },
      "source": [
        "Question 7. What are the Year Wise Cars sales growth?"
      ]
    },
    {
      "cell_type": "code",
      "source": [
        "import plotly.graph_objects as go\n",
        "import pandas as pd\n",
        "\n",
        "year_wise_cars = df.groupby('ModelYear')['VIN'].count().reset_index()\n",
        "year_wise_cars.columns = ['year', 'num_cars']\n",
        "\n",
        "colors = 'green'  # Corrected color format\n",
        "\n",
        "fig = go.Figure(data=go.Scatter(x=year_wise_cars['year'], y=year_wise_cars['num_cars'], mode='lines+markers', line=dict(color=colors)))\n",
        "fig.update_layout(title='Year Wise Number of Cars')\n",
        "\n",
        "fig.show()"
      ],
      "metadata": {
        "colab": {
          "base_uri": "https://localhost:8080/",
          "height": 542
        },
        "id": "bW2d-E_2eK-1",
        "outputId": "dff8c441-ac8b-4eb8-9a4f-22a798d362c4"
      },
      "execution_count": null,
      "outputs": [
        {
          "output_type": "display_data",
          "data": {
            "text/html": [
              "<html>\n",
              "<head><meta charset=\"utf-8\" /></head>\n",
              "<body>\n",
              "    <div>            <script src=\"https://cdnjs.cloudflare.com/ajax/libs/mathjax/2.7.5/MathJax.js?config=TeX-AMS-MML_SVG\"></script><script type=\"text/javascript\">if (window.MathJax && window.MathJax.Hub && window.MathJax.Hub.Config) {window.MathJax.Hub.Config({SVG: {font: \"STIX-Web\"}});}</script>                <script type=\"text/javascript\">window.PlotlyConfig = {MathJaxConfig: 'local'};</script>\n",
              "        <script src=\"https://cdn.plot.ly/plotly-2.18.2.min.js\"></script>                <div id=\"2e95783e-00f0-4831-8313-b7aed9ea6bbd\" class=\"plotly-graph-div\" style=\"height:525px; width:100%;\"></div>            <script type=\"text/javascript\">                                    window.PLOTLYENV=window.PLOTLYENV || {};                                    if (document.getElementById(\"2e95783e-00f0-4831-8313-b7aed9ea6bbd\")) {                    Plotly.newPlot(                        \"2e95783e-00f0-4831-8313-b7aed9ea6bbd\",                        [{\"line\":{\"color\":\"green\"},\"mode\":\"lines+markers\",\"x\":[1997,1998,1999,2000,2002,2008,2010,2011,2012,2013,2014,2015,2016,2017,2018,2019,2020,2021,2022,2023],\"y\":[1,1,4,10,2,25,25,834,1708,4708,3680,4957,5758,8656,14313,10173,11048,18409,24728,441],\"type\":\"scatter\"}],                        {\"template\":{\"data\":{\"histogram2dcontour\":[{\"type\":\"histogram2dcontour\",\"colorbar\":{\"outlinewidth\":0,\"ticks\":\"\"},\"colorscale\":[[0.0,\"#0d0887\"],[0.1111111111111111,\"#46039f\"],[0.2222222222222222,\"#7201a8\"],[0.3333333333333333,\"#9c179e\"],[0.4444444444444444,\"#bd3786\"],[0.5555555555555556,\"#d8576b\"],[0.6666666666666666,\"#ed7953\"],[0.7777777777777778,\"#fb9f3a\"],[0.8888888888888888,\"#fdca26\"],[1.0,\"#f0f921\"]]}],\"choropleth\":[{\"type\":\"choropleth\",\"colorbar\":{\"outlinewidth\":0,\"ticks\":\"\"}}],\"histogram2d\":[{\"type\":\"histogram2d\",\"colorbar\":{\"outlinewidth\":0,\"ticks\":\"\"},\"colorscale\":[[0.0,\"#0d0887\"],[0.1111111111111111,\"#46039f\"],[0.2222222222222222,\"#7201a8\"],[0.3333333333333333,\"#9c179e\"],[0.4444444444444444,\"#bd3786\"],[0.5555555555555556,\"#d8576b\"],[0.6666666666666666,\"#ed7953\"],[0.7777777777777778,\"#fb9f3a\"],[0.8888888888888888,\"#fdca26\"],[1.0,\"#f0f921\"]]}],\"heatmap\":[{\"type\":\"heatmap\",\"colorbar\":{\"outlinewidth\":0,\"ticks\":\"\"},\"colorscale\":[[0.0,\"#0d0887\"],[0.1111111111111111,\"#46039f\"],[0.2222222222222222,\"#7201a8\"],[0.3333333333333333,\"#9c179e\"],[0.4444444444444444,\"#bd3786\"],[0.5555555555555556,\"#d8576b\"],[0.6666666666666666,\"#ed7953\"],[0.7777777777777778,\"#fb9f3a\"],[0.8888888888888888,\"#fdca26\"],[1.0,\"#f0f921\"]]}],\"heatmapgl\":[{\"type\":\"heatmapgl\",\"colorbar\":{\"outlinewidth\":0,\"ticks\":\"\"},\"colorscale\":[[0.0,\"#0d0887\"],[0.1111111111111111,\"#46039f\"],[0.2222222222222222,\"#7201a8\"],[0.3333333333333333,\"#9c179e\"],[0.4444444444444444,\"#bd3786\"],[0.5555555555555556,\"#d8576b\"],[0.6666666666666666,\"#ed7953\"],[0.7777777777777778,\"#fb9f3a\"],[0.8888888888888888,\"#fdca26\"],[1.0,\"#f0f921\"]]}],\"contourcarpet\":[{\"type\":\"contourcarpet\",\"colorbar\":{\"outlinewidth\":0,\"ticks\":\"\"}}],\"contour\":[{\"type\":\"contour\",\"colorbar\":{\"outlinewidth\":0,\"ticks\":\"\"},\"colorscale\":[[0.0,\"#0d0887\"],[0.1111111111111111,\"#46039f\"],[0.2222222222222222,\"#7201a8\"],[0.3333333333333333,\"#9c179e\"],[0.4444444444444444,\"#bd3786\"],[0.5555555555555556,\"#d8576b\"],[0.6666666666666666,\"#ed7953\"],[0.7777777777777778,\"#fb9f3a\"],[0.8888888888888888,\"#fdca26\"],[1.0,\"#f0f921\"]]}],\"surface\":[{\"type\":\"surface\",\"colorbar\":{\"outlinewidth\":0,\"ticks\":\"\"},\"colorscale\":[[0.0,\"#0d0887\"],[0.1111111111111111,\"#46039f\"],[0.2222222222222222,\"#7201a8\"],[0.3333333333333333,\"#9c179e\"],[0.4444444444444444,\"#bd3786\"],[0.5555555555555556,\"#d8576b\"],[0.6666666666666666,\"#ed7953\"],[0.7777777777777778,\"#fb9f3a\"],[0.8888888888888888,\"#fdca26\"],[1.0,\"#f0f921\"]]}],\"mesh3d\":[{\"type\":\"mesh3d\",\"colorbar\":{\"outlinewidth\":0,\"ticks\":\"\"}}],\"scatter\":[{\"fillpattern\":{\"fillmode\":\"overlay\",\"size\":10,\"solidity\":0.2},\"type\":\"scatter\"}],\"parcoords\":[{\"type\":\"parcoords\",\"line\":{\"colorbar\":{\"outlinewidth\":0,\"ticks\":\"\"}}}],\"scatterpolargl\":[{\"type\":\"scatterpolargl\",\"marker\":{\"colorbar\":{\"outlinewidth\":0,\"ticks\":\"\"}}}],\"bar\":[{\"error_x\":{\"color\":\"#2a3f5f\"},\"error_y\":{\"color\":\"#2a3f5f\"},\"marker\":{\"line\":{\"color\":\"#E5ECF6\",\"width\":0.5},\"pattern\":{\"fillmode\":\"overlay\",\"size\":10,\"solidity\":0.2}},\"type\":\"bar\"}],\"scattergeo\":[{\"type\":\"scattergeo\",\"marker\":{\"colorbar\":{\"outlinewidth\":0,\"ticks\":\"\"}}}],\"scatterpolar\":[{\"type\":\"scatterpolar\",\"marker\":{\"colorbar\":{\"outlinewidth\":0,\"ticks\":\"\"}}}],\"histogram\":[{\"marker\":{\"pattern\":{\"fillmode\":\"overlay\",\"size\":10,\"solidity\":0.2}},\"type\":\"histogram\"}],\"scattergl\":[{\"type\":\"scattergl\",\"marker\":{\"colorbar\":{\"outlinewidth\":0,\"ticks\":\"\"}}}],\"scatter3d\":[{\"type\":\"scatter3d\",\"line\":{\"colorbar\":{\"outlinewidth\":0,\"ticks\":\"\"}},\"marker\":{\"colorbar\":{\"outlinewidth\":0,\"ticks\":\"\"}}}],\"scattermapbox\":[{\"type\":\"scattermapbox\",\"marker\":{\"colorbar\":{\"outlinewidth\":0,\"ticks\":\"\"}}}],\"scatterternary\":[{\"type\":\"scatterternary\",\"marker\":{\"colorbar\":{\"outlinewidth\":0,\"ticks\":\"\"}}}],\"scattercarpet\":[{\"type\":\"scattercarpet\",\"marker\":{\"colorbar\":{\"outlinewidth\":0,\"ticks\":\"\"}}}],\"carpet\":[{\"aaxis\":{\"endlinecolor\":\"#2a3f5f\",\"gridcolor\":\"white\",\"linecolor\":\"white\",\"minorgridcolor\":\"white\",\"startlinecolor\":\"#2a3f5f\"},\"baxis\":{\"endlinecolor\":\"#2a3f5f\",\"gridcolor\":\"white\",\"linecolor\":\"white\",\"minorgridcolor\":\"white\",\"startlinecolor\":\"#2a3f5f\"},\"type\":\"carpet\"}],\"table\":[{\"cells\":{\"fill\":{\"color\":\"#EBF0F8\"},\"line\":{\"color\":\"white\"}},\"header\":{\"fill\":{\"color\":\"#C8D4E3\"},\"line\":{\"color\":\"white\"}},\"type\":\"table\"}],\"barpolar\":[{\"marker\":{\"line\":{\"color\":\"#E5ECF6\",\"width\":0.5},\"pattern\":{\"fillmode\":\"overlay\",\"size\":10,\"solidity\":0.2}},\"type\":\"barpolar\"}],\"pie\":[{\"automargin\":true,\"type\":\"pie\"}]},\"layout\":{\"autotypenumbers\":\"strict\",\"colorway\":[\"#636efa\",\"#EF553B\",\"#00cc96\",\"#ab63fa\",\"#FFA15A\",\"#19d3f3\",\"#FF6692\",\"#B6E880\",\"#FF97FF\",\"#FECB52\"],\"font\":{\"color\":\"#2a3f5f\"},\"hovermode\":\"closest\",\"hoverlabel\":{\"align\":\"left\"},\"paper_bgcolor\":\"white\",\"plot_bgcolor\":\"#E5ECF6\",\"polar\":{\"bgcolor\":\"#E5ECF6\",\"angularaxis\":{\"gridcolor\":\"white\",\"linecolor\":\"white\",\"ticks\":\"\"},\"radialaxis\":{\"gridcolor\":\"white\",\"linecolor\":\"white\",\"ticks\":\"\"}},\"ternary\":{\"bgcolor\":\"#E5ECF6\",\"aaxis\":{\"gridcolor\":\"white\",\"linecolor\":\"white\",\"ticks\":\"\"},\"baxis\":{\"gridcolor\":\"white\",\"linecolor\":\"white\",\"ticks\":\"\"},\"caxis\":{\"gridcolor\":\"white\",\"linecolor\":\"white\",\"ticks\":\"\"}},\"coloraxis\":{\"colorbar\":{\"outlinewidth\":0,\"ticks\":\"\"}},\"colorscale\":{\"sequential\":[[0.0,\"#0d0887\"],[0.1111111111111111,\"#46039f\"],[0.2222222222222222,\"#7201a8\"],[0.3333333333333333,\"#9c179e\"],[0.4444444444444444,\"#bd3786\"],[0.5555555555555556,\"#d8576b\"],[0.6666666666666666,\"#ed7953\"],[0.7777777777777778,\"#fb9f3a\"],[0.8888888888888888,\"#fdca26\"],[1.0,\"#f0f921\"]],\"sequentialminus\":[[0.0,\"#0d0887\"],[0.1111111111111111,\"#46039f\"],[0.2222222222222222,\"#7201a8\"],[0.3333333333333333,\"#9c179e\"],[0.4444444444444444,\"#bd3786\"],[0.5555555555555556,\"#d8576b\"],[0.6666666666666666,\"#ed7953\"],[0.7777777777777778,\"#fb9f3a\"],[0.8888888888888888,\"#fdca26\"],[1.0,\"#f0f921\"]],\"diverging\":[[0,\"#8e0152\"],[0.1,\"#c51b7d\"],[0.2,\"#de77ae\"],[0.3,\"#f1b6da\"],[0.4,\"#fde0ef\"],[0.5,\"#f7f7f7\"],[0.6,\"#e6f5d0\"],[0.7,\"#b8e186\"],[0.8,\"#7fbc41\"],[0.9,\"#4d9221\"],[1,\"#276419\"]]},\"xaxis\":{\"gridcolor\":\"white\",\"linecolor\":\"white\",\"ticks\":\"\",\"title\":{\"standoff\":15},\"zerolinecolor\":\"white\",\"automargin\":true,\"zerolinewidth\":2},\"yaxis\":{\"gridcolor\":\"white\",\"linecolor\":\"white\",\"ticks\":\"\",\"title\":{\"standoff\":15},\"zerolinecolor\":\"white\",\"automargin\":true,\"zerolinewidth\":2},\"scene\":{\"xaxis\":{\"backgroundcolor\":\"#E5ECF6\",\"gridcolor\":\"white\",\"linecolor\":\"white\",\"showbackground\":true,\"ticks\":\"\",\"zerolinecolor\":\"white\",\"gridwidth\":2},\"yaxis\":{\"backgroundcolor\":\"#E5ECF6\",\"gridcolor\":\"white\",\"linecolor\":\"white\",\"showbackground\":true,\"ticks\":\"\",\"zerolinecolor\":\"white\",\"gridwidth\":2},\"zaxis\":{\"backgroundcolor\":\"#E5ECF6\",\"gridcolor\":\"white\",\"linecolor\":\"white\",\"showbackground\":true,\"ticks\":\"\",\"zerolinecolor\":\"white\",\"gridwidth\":2}},\"shapedefaults\":{\"line\":{\"color\":\"#2a3f5f\"}},\"annotationdefaults\":{\"arrowcolor\":\"#2a3f5f\",\"arrowhead\":0,\"arrowwidth\":1},\"geo\":{\"bgcolor\":\"white\",\"landcolor\":\"#E5ECF6\",\"subunitcolor\":\"white\",\"showland\":true,\"showlakes\":true,\"lakecolor\":\"white\"},\"title\":{\"x\":0.05},\"mapbox\":{\"style\":\"light\"}}},\"title\":{\"text\":\"Year Wise Number of Cars\"}},                        {\"responsive\": true}                    ).then(function(){\n",
              "                            \n",
              "var gd = document.getElementById('2e95783e-00f0-4831-8313-b7aed9ea6bbd');\n",
              "var x = new MutationObserver(function (mutations, observer) {{\n",
              "        var display = window.getComputedStyle(gd).display;\n",
              "        if (!display || display === 'none') {{\n",
              "            console.log([gd, 'removed!']);\n",
              "            Plotly.purge(gd);\n",
              "            observer.disconnect();\n",
              "        }}\n",
              "}});\n",
              "\n",
              "// Listen for the removal of the full notebook cells\n",
              "var notebookContainer = gd.closest('#notebook-container');\n",
              "if (notebookContainer) {{\n",
              "    x.observe(notebookContainer, {childList: true});\n",
              "}}\n",
              "\n",
              "// Listen for the clearing of the current output cell\n",
              "var outputEl = gd.closest('.output');\n",
              "if (outputEl) {{\n",
              "    x.observe(outputEl, {childList: true});\n",
              "}}\n",
              "\n",
              "                        })                };                            </script>        </div>\n",
              "</body>\n",
              "</html>"
            ]
          },
          "metadata": {}
        }
      ]
    },
    {
      "cell_type": "markdown",
      "metadata": {
        "id": "ptjJ-a4fJxRT"
      },
      "source": [
        "**Figure-13:** Plot showing Year Wise Cars sales growth of EVs"
      ]
    },
    {
      "cell_type": "code",
      "execution_count": null,
      "metadata": {
        "colab": {
          "base_uri": "https://localhost:8080/",
          "height": 363
        },
        "id": "S5OM3N0yJxRT",
        "outputId": "9da76d50-17f0-4151-cfd0-bd5c72479351"
      },
      "outputs": [
        {
          "output_type": "execute_result",
          "data": {
            "text/plain": [
              "    year  num_cars\n",
              "18  2022     24728\n",
              "17  2021     18409\n",
              "14  2018     14313\n",
              "16  2020     11048\n",
              "15  2019     10173\n",
              "13  2017      8656\n",
              "12  2016      5758\n",
              "11  2015      4957\n",
              "9   2013      4708\n",
              "10  2014      3680"
            ],
            "text/html": [
              "\n",
              "  <div id=\"df-4df7dd92-c9a0-40fd-b704-68b807fa2115\">\n",
              "    <div class=\"colab-df-container\">\n",
              "      <div>\n",
              "<style scoped>\n",
              "    .dataframe tbody tr th:only-of-type {\n",
              "        vertical-align: middle;\n",
              "    }\n",
              "\n",
              "    .dataframe tbody tr th {\n",
              "        vertical-align: top;\n",
              "    }\n",
              "\n",
              "    .dataframe thead th {\n",
              "        text-align: right;\n",
              "    }\n",
              "</style>\n",
              "<table border=\"1\" class=\"dataframe\">\n",
              "  <thead>\n",
              "    <tr style=\"text-align: right;\">\n",
              "      <th></th>\n",
              "      <th>year</th>\n",
              "      <th>num_cars</th>\n",
              "    </tr>\n",
              "  </thead>\n",
              "  <tbody>\n",
              "    <tr>\n",
              "      <th>18</th>\n",
              "      <td>2022</td>\n",
              "      <td>24728</td>\n",
              "    </tr>\n",
              "    <tr>\n",
              "      <th>17</th>\n",
              "      <td>2021</td>\n",
              "      <td>18409</td>\n",
              "    </tr>\n",
              "    <tr>\n",
              "      <th>14</th>\n",
              "      <td>2018</td>\n",
              "      <td>14313</td>\n",
              "    </tr>\n",
              "    <tr>\n",
              "      <th>16</th>\n",
              "      <td>2020</td>\n",
              "      <td>11048</td>\n",
              "    </tr>\n",
              "    <tr>\n",
              "      <th>15</th>\n",
              "      <td>2019</td>\n",
              "      <td>10173</td>\n",
              "    </tr>\n",
              "    <tr>\n",
              "      <th>13</th>\n",
              "      <td>2017</td>\n",
              "      <td>8656</td>\n",
              "    </tr>\n",
              "    <tr>\n",
              "      <th>12</th>\n",
              "      <td>2016</td>\n",
              "      <td>5758</td>\n",
              "    </tr>\n",
              "    <tr>\n",
              "      <th>11</th>\n",
              "      <td>2015</td>\n",
              "      <td>4957</td>\n",
              "    </tr>\n",
              "    <tr>\n",
              "      <th>9</th>\n",
              "      <td>2013</td>\n",
              "      <td>4708</td>\n",
              "    </tr>\n",
              "    <tr>\n",
              "      <th>10</th>\n",
              "      <td>2014</td>\n",
              "      <td>3680</td>\n",
              "    </tr>\n",
              "  </tbody>\n",
              "</table>\n",
              "</div>\n",
              "      <button class=\"colab-df-convert\" onclick=\"convertToInteractive('df-4df7dd92-c9a0-40fd-b704-68b807fa2115')\"\n",
              "              title=\"Convert this dataframe to an interactive table.\"\n",
              "              style=\"display:none;\">\n",
              "        \n",
              "  <svg xmlns=\"http://www.w3.org/2000/svg\" height=\"24px\"viewBox=\"0 0 24 24\"\n",
              "       width=\"24px\">\n",
              "    <path d=\"M0 0h24v24H0V0z\" fill=\"none\"/>\n",
              "    <path d=\"M18.56 5.44l.94 2.06.94-2.06 2.06-.94-2.06-.94-.94-2.06-.94 2.06-2.06.94zm-11 1L8.5 8.5l.94-2.06 2.06-.94-2.06-.94L8.5 2.5l-.94 2.06-2.06.94zm10 10l.94 2.06.94-2.06 2.06-.94-2.06-.94-.94-2.06-.94 2.06-2.06.94z\"/><path d=\"M17.41 7.96l-1.37-1.37c-.4-.4-.92-.59-1.43-.59-.52 0-1.04.2-1.43.59L10.3 9.45l-7.72 7.72c-.78.78-.78 2.05 0 2.83L4 21.41c.39.39.9.59 1.41.59.51 0 1.02-.2 1.41-.59l7.78-7.78 2.81-2.81c.8-.78.8-2.07 0-2.86zM5.41 20L4 18.59l7.72-7.72 1.47 1.35L5.41 20z\"/>\n",
              "  </svg>\n",
              "      </button>\n",
              "      \n",
              "  <style>\n",
              "    .colab-df-container {\n",
              "      display:flex;\n",
              "      flex-wrap:wrap;\n",
              "      gap: 12px;\n",
              "    }\n",
              "\n",
              "    .colab-df-convert {\n",
              "      background-color: #E8F0FE;\n",
              "      border: none;\n",
              "      border-radius: 50%;\n",
              "      cursor: pointer;\n",
              "      display: none;\n",
              "      fill: #1967D2;\n",
              "      height: 32px;\n",
              "      padding: 0 0 0 0;\n",
              "      width: 32px;\n",
              "    }\n",
              "\n",
              "    .colab-df-convert:hover {\n",
              "      background-color: #E2EBFA;\n",
              "      box-shadow: 0px 1px 2px rgba(60, 64, 67, 0.3), 0px 1px 3px 1px rgba(60, 64, 67, 0.15);\n",
              "      fill: #174EA6;\n",
              "    }\n",
              "\n",
              "    [theme=dark] .colab-df-convert {\n",
              "      background-color: #3B4455;\n",
              "      fill: #D2E3FC;\n",
              "    }\n",
              "\n",
              "    [theme=dark] .colab-df-convert:hover {\n",
              "      background-color: #434B5C;\n",
              "      box-shadow: 0px 1px 3px 1px rgba(0, 0, 0, 0.15);\n",
              "      filter: drop-shadow(0px 1px 2px rgba(0, 0, 0, 0.3));\n",
              "      fill: #FFFFFF;\n",
              "    }\n",
              "  </style>\n",
              "\n",
              "      <script>\n",
              "        const buttonEl =\n",
              "          document.querySelector('#df-4df7dd92-c9a0-40fd-b704-68b807fa2115 button.colab-df-convert');\n",
              "        buttonEl.style.display =\n",
              "          google.colab.kernel.accessAllowed ? 'block' : 'none';\n",
              "\n",
              "        async function convertToInteractive(key) {\n",
              "          const element = document.querySelector('#df-4df7dd92-c9a0-40fd-b704-68b807fa2115');\n",
              "          const dataTable =\n",
              "            await google.colab.kernel.invokeFunction('convertToInteractive',\n",
              "                                                     [key], {});\n",
              "          if (!dataTable) return;\n",
              "\n",
              "          const docLinkHtml = 'Like what you see? Visit the ' +\n",
              "            '<a target=\"_blank\" href=https://colab.research.google.com/notebooks/data_table.ipynb>data table notebook</a>'\n",
              "            + ' to learn more about interactive tables.';\n",
              "          element.innerHTML = '';\n",
              "          dataTable['output_type'] = 'display_data';\n",
              "          await google.colab.output.renderOutput(dataTable, element);\n",
              "          const docLink = document.createElement('div');\n",
              "          docLink.innerHTML = docLinkHtml;\n",
              "          element.appendChild(docLink);\n",
              "        }\n",
              "      </script>\n",
              "    </div>\n",
              "  </div>\n",
              "  "
            ]
          },
          "metadata": {},
          "execution_count": 55
        }
      ],
      "source": [
        "year_wise_cars.sort_values(by='num_cars', ascending=False).head(10)"
      ]
    },
    {
      "cell_type": "markdown",
      "metadata": {
        "id": "d7XLt9u_JxRT"
      },
      "source": [
        "Answer 7. We can see the market trust in electric vehicles started to built up after 2010.\n",
        "The demand of electric vehicles is ever since going high.\n",
        "\n",
        "There is a drop observed in 2019, when mainlly there was a gap in supply & demand. due to COVID-19 lockdowns"
      ]
    },
    {
      "cell_type": "markdown",
      "metadata": {
        "id": "a-RTeDExJxRU"
      },
      "source": [
        "Question 8. Plotting the lat and lon"
      ]
    },
    {
      "cell_type": "code",
      "execution_count": null,
      "metadata": {
        "id": "2F9cCS4eJxRU"
      },
      "outputs": [],
      "source": [
        "df['lat'] = df['Vehicle_Location'].str.split(' ').str[1].str.split('(').str[1].astype(float)\n",
        "df['lon'] = df['Vehicle_Location'].str.split(' ').str[2].str.split(')').str[0].astype(float)\n",
        "df['lat'] = df['lat'].fillna(0)\n",
        "df['lon'] = df['lon'].fillna(0)"
      ]
    },
    {
      "cell_type": "code",
      "execution_count": null,
      "metadata": {
        "colab": {
          "base_uri": "https://localhost:8080/",
          "height": 503
        },
        "id": "PFmitEE2JxRU",
        "outputId": "0d761447-3763-47b5-c3c5-cea8af7356c4"
      },
      "outputs": [
        {
          "output_type": "stream",
          "name": "stderr",
          "text": [
            "<ipython-input-63-c880389f17c8>:5: FutureWarning:\n",
            "\n",
            "The geopandas.dataset module is deprecated and will be removed in GeoPandas 1.0. You can get the original 'naturalearth_lowres' data from https://www.naturalearthdata.com/downloads/110m-cultural-vectors/.\n",
            "\n"
          ]
        },
        {
          "output_type": "display_data",
          "data": {
            "text/plain": [
              "<Figure size 1000x600 with 1 Axes>"
            ],
            "image/png": "[encoded data removed]"
          },
          "metadata": {}
        }
      ],
      "source": [
        "geometry = [Point(xy) for xy in zip(df['lat'], df['lon'])]\n",
        "gdf = GeoDataFrame(df, geometry=geometry)   \n",
        "\n",
        "#this is a simple map that goes with geopandas\n",
        "world = gpd.read_file(gpd.datasets.get_path('naturalearth_lowres'))\n",
        "gdf.plot(ax=world.plot(figsize=(10, 6)), marker='o', color='green', markersize=15);"
      ]
    },
    {
      "cell_type": "markdown",
      "source": [
        "Fig 14:Plot showing LAT and LON \n"
      ],
      "metadata": {
        "id": "T8f3jUx0hEzo"
      }
    },
    {
      "cell_type": "markdown",
      "metadata": {
        "id": "thwuTTEeJxRU"
      },
      "source": [
        "# Summary & Conclusion\n",
        "---\n",
        "The Electric Vehicle Population dataset contains information on Battery Electric Vehicles (BEVs) and Plug-in Hybrid Electric Vehicles (PHEVs) registered through Washington State Department of Licensing (DOL). Through exploratory data analysis, the top 10 counts of cars per county, city, state, and postal code were determined. King County had the most cars registered, followed by Snohomish and Pierce counties. Seattle had the most cars registered by city, followed by Bellevue and Redmond. Washington had the most cars registered by state, followed by California and Virginia. \n",
        "\n",
        "The dataset also provided insight into the top 10 consumed car makers by county, city, and state, with Tesla being the most popular make overall. There appears to be an opportunity for car vendors like Audi and BMW to market their vehicles in other states. \n",
        "The top 10 postal codes were also identified, providing further insight for marketing and upselling opportunities.\n",
        "\n",
        "To Conclude:\n",
        "\n",
        "- King county has the highest number of electric cars registered with 57,398 cars, followed by Snohomish and Pierce county.\n",
        "- Seattle is the city with the highest number of electric cars with 19,860 cars, followed by Bellevue and Redmond.\n",
        "- Washington state has the highest number of electric cars with 109,205 cars, followed by California, Virginia, and Maryland.\n",
        "- The top 10 postal codes with the highest number of electric cars are in the Seattle metro area, with 98052 having the most with 2,805 cars.\n",
        "- Tesla is the most popular electric car make in Washington state, followed by Nissan, Chevrolet, and Toyota.\n",
        "- Tesla is also the most popular make in Seattle, followed by Nissan, Chevrolet, and BMW.\n",
        "- Washington state has the highest number of Audi, BMW, and Chevrolet electric cars registered among all states.\n",
        "- There is a big marketing opportunity for car vendors like Audi, BMW, and Chevrolet in other states, such as Arizona, Florida, and Colorado.\n",
        "\n"
      ]
    }
  ],
  "metadata": {
    "kernelspec": {
      "display_name": "Python 3",
      "language": "python",
      "name": "python3"
    },
    "language_info": {
      "codemirror_mode": {
        "name": "ipython",
        "version": 3
      },
      "file_extension": ".py",
      "mimetype": "text/x-python",
      "name": "python",
      "nbconvert_exporter": "python",
      "pygments_lexer": "ipython3",
      "version": "3.11.1"
    },
    "orig_nbformat": 4,
    "colab": {
      "provenance": [],
      "include_colab_link": true
    }
  },
  "nbformat": 4,
  "nbformat_minor": 0
}